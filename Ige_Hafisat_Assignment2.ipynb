{
 "cells": [
  {
   "cell_type": "code",
   "execution_count": null,
   "id": "07213d4a",
   "metadata": {},
   "outputs": [],
   "source": []
  },
  {
   "cell_type": "code",
   "execution_count": 6,
   "id": "408c37e1",
   "metadata": {},
   "outputs": [],
   "source": [
    "def height_differentiator(*heights):\n",
    "    \n",
    "    '''\n",
    "        This code recieves 100 input of varying men heights and tell how many \n",
    "        men and short and tall. It also tells which category has more men.\n",
    "    '''\n",
    "    short_men =[]\n",
    "    \n",
    "    tall_men = []\n",
    "    for i in heights:\n",
    "        #heights = float(input('Enter the heights of the men in meters: '))\n",
    "        if type(i) != float:\n",
    "            print(' invalid input')\n",
    "        else:\n",
    "            for i in heights:\n",
    "                if i <= 1.5:\n",
    "                    short_men.append(i)\n",
    "                else:\n",
    "                    tall_men.append(i)\n",
    "            print(f'There are {len(short_men)} short men and  {len(tall_men)} tall men')\n",
    "            if short_men > tall_men:\n",
    "                 return f'There are {len(short_men)-len(tall_men)} more short men than tall men'\n",
    "            else:\n",
    "                 return f'There are {len(tall_men)-len(short_men)} more tall men than short men'\n"
   ]
  },
  {
   "cell_type": "code",
   "execution_count": 3,
   "id": "09bba34d",
   "metadata": {},
   "outputs": [
    {
     "name": "stdout",
     "output_type": "stream",
     "text": [
      " invalid input\n",
      " invalid input\n",
      "There are 3 short men and  10 tall men\n"
     ]
    },
    {
     "data": {
      "text/plain": [
       "'There are 7 more tall men than short men'"
      ]
     },
     "execution_count": 3,
     "metadata": {},
     "output_type": "execute_result"
    }
   ],
   "source": [
    "height_differentiator(4,5,1.5,7,2.5,1.5,3,4,5,6,1.5,3,6)"
   ]
  },
  {
   "cell_type": "code",
   "execution_count": 29,
   "id": "579c2a7b",
   "metadata": {},
   "outputs": [
    {
     "ename": "SyntaxError",
     "evalue": "invalid syntax (Temp/ipykernel_4272/1143587288.py, line 36)",
     "output_type": "error",
     "traceback": [
      "\u001b[1;36m  File \u001b[1;32m\"C:\\Users\\HAFEEZ~1\\AppData\\Local\\Temp/ipykernel_4272/1143587288.py\"\u001b[1;36m, line \u001b[1;32m36\u001b[0m\n\u001b[1;33m    if api_status <= 50:\u001b[0m\n\u001b[1;37m                       ^\u001b[0m\n\u001b[1;31mSyntaxError\u001b[0m\u001b[1;31m:\u001b[0m invalid syntax\n"
     ]
    }
   ],
   "source": [
    "#months = input('Hello! Which month would like to check?  ')\n",
    "#months = months.lower()\n",
    "#def API(months):\n",
    "# This code wants to recieve months and values corresponding to the number of months to give API reading\n",
    "\n",
    "months = input('Hello! Which month would like to check?  ')\n",
    "months = months.lower()\n",
    "mon_range1 =['april','june','september','november']\n",
    "mon_range2 =['january','march', 'may','july','august', 'october', 'december']\n",
    "mon_range3 =['february']\n",
    "\n",
    "for month in mon_range1:\n",
    "    if month in mon_range1:\n",
    "        month_value1 =(input(f'This category takes thirty values; Input your values(separate each values with comma)'))\n",
    "       \n",
    "        month_value1 =month_value1.split(' ')\n",
    "        month_value1 = [float(x)for x in month_value1]\n",
    "        avg1 = sum(month_value1)/len(month_value1)\n",
    "        print('The API value for the month is: ', avg1)\n",
    "    elif month in mon_range2:\n",
    "        month_value2 = (input(f'This category takes thirty-one values; Input your values(separate each values with comma)'))\n",
    "       # month_value2 =month_value2.split(' ')\n",
    "        month_value2 = [float(x)for x in month_value2]\n",
    "        avg2 = sum(month_value2)/len(month_value2)\n",
    "        print('The API value for the month is: ', avg2)\n",
    "\n",
    "    else:\n",
    "        leap_mnth_value =(input(f'This category takes twenty-eight values; Input your values(separate each values with comma)'))\n",
    "        #leap_mnth_value =leap_mnth_value.split(' ')\n",
    "        leap_mnth_value = [float(x)for x in leap_mnth_value]\n",
    "        leap_avg = sum(leap_mnth_value)/len(leap_mnth_value)\n",
    "        print('The API value for the month is: ', avg3\n",
    "        \n",
    "  \n",
    "\n",
    "if api_status <= 50:\n",
    "  status = 'Good'\n",
    "elif api_status >=51 and api_status <= 100:\n",
    "    status = 'Moderate'\n",
    "elif api_status >=101 and api_status <= 200:\n",
    "    status = 'Unhealthy'\n",
    "elif api_status >=201 and api_status <= 300:\n",
    "   status = 'Very Unhealthy'\n",
    "else:\n",
    " #  status = 'Hazardous'\n",
    "\n",
    "\n"
   ]
  },
  {
   "cell_type": "code",
   "execution_count": null,
   "id": "445d87aa",
   "metadata": {},
   "outputs": [],
   "source": []
  },
  {
   "cell_type": "code",
   "execution_count": null,
   "id": "5342558e",
   "metadata": {},
   "outputs": [],
   "source": []
  }
 ],
 "metadata": {
  "kernelspec": {
   "display_name": "Python 3 (ipykernel)",
   "language": "python",
   "name": "python3"
  },
  "language_info": {
   "codemirror_mode": {
    "name": "ipython",
    "version": 3
   },
   "file_extension": ".py",
   "mimetype": "text/x-python",
   "name": "python",
   "nbconvert_exporter": "python",
   "pygments_lexer": "ipython3",
   "version": "3.9.7"
  }
 },
 "nbformat": 4,
 "nbformat_minor": 5
}
