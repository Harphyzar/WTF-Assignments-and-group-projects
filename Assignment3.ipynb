{
 "cells": [
  {
   "cell_type": "code",
   "execution_count": null,
   "id": "6c263b3f",
   "metadata": {},
   "outputs": [],
   "source": [
    "def add_num(*numbers):\n",
    "    '''\n",
    "    this code adds as much number as inputed\n",
    "    '''\n",
    "    sum=0\n",
    "    for num in numbers:\n",
    "        sum +=num\n",
    "    print(sum)"
   ]
  },
  {
   "cell_type": "code",
   "execution_count": null,
   "id": "336ecca3",
   "metadata": {
    "scrolled": true
   },
   "outputs": [],
   "source": [
    "add_num(2,3,4,5,5,7,8,0,8,7)"
   ]
  },
  {
   "cell_type": "code",
   "execution_count": null,
   "id": "48c44028",
   "metadata": {},
   "outputs": [],
   "source": [
    "# Modify this function to return a list of strings as defined above\n",
    "def list_benefits():\n",
    "    return [\"More organized code\", \"More readable code\", \"Easier code reuse\", \"Allowing programmers to share and connect code together\"]\n",
    "\n",
    "# Modify this function to concatenate to each benefit - \" is a benefit of functions!\"\n",
    "def build_sentence(benefit):\n",
    "    return benefit +\" is a benefit of functions\"\n",
    "\n",
    "def name_the_benefits_of_functions():\n",
    "    list_of_benefits = list_benefits()\n",
    "    for benefit in list_of_benefits:\n",
    "        print(build_sentence(benefit))\n",
    "\n",
    "name_the_benefits_of_functions()"
   ]
  },
  {
   "cell_type": "code",
   "execution_count": null,
   "id": "b07420e7",
   "metadata": {},
   "outputs": [],
   "source": [
    "def fool():\n",
    "    print('this is a fool')\n",
    "    return'Hello world'"
   ]
  },
  {
   "cell_type": "code",
   "execution_count": null,
   "id": "c59d3a7d",
   "metadata": {},
   "outputs": [],
   "source": [
    "fool()"
   ]
  },
  {
   "cell_type": "markdown",
   "id": "ccde141a",
   "metadata": {},
   "source": [
    "1. Program 1:\n",
    "\n",
    "    "
   ]
  },
  {
   "cell_type": "markdown",
   "id": "a7d0a2fb",
   "metadata": {},
   "source": [
    "print( (Z>X) or (Z>Y) )  = False\n",
    "print( (X==1.0) or (X==3.0) ) = True\n",
    "print( (X>Z) and (Y>Z) ) = \n",
    "print( (Z<=X) and (X<=Y) )\n",
    "print( (X<Z)or (X>Y) )\n",
    "\n",
    "\n",
    "\n",
    "\n",
    "\n",
    "\n",
    "\n"
   ]
  },
  {
   "cell_type": "code",
   "execution_count": null,
   "id": "a03734be",
   "metadata": {},
   "outputs": [],
   "source": [
    "if 12 < 12:\n",
    "    print('less')\n",
    "else:\n",
    "    print('not less')"
   ]
  },
  {
   "cell_type": "code",
   "execution_count": null,
   "id": "915b2492",
   "metadata": {},
   "outputs": [],
   "source": [
    "var1 = 25.12\n",
    "var2 = 15.00\n",
    "if var1 <= var2:\n",
    "    print('less or equal')\n",
    "else:\n",
    "    print('greaterthan')\n"
   ]
  },
  {
   "cell_type": "code",
   "execution_count": null,
   "id": "84d56265",
   "metadata": {},
   "outputs": [],
   "source": [
    "Y=10.0\n",
    "(Y>=15.0)\n"
   ]
  },
  {
   "cell_type": "code",
   "execution_count": null,
   "id": "dbfa4442",
   "metadata": {},
   "outputs": [],
   "source": [
    "def height_collector(*height):\n",
    "    '''\n",
    "    this function collects users input\n",
    "    '''\n",
    "height= []\n",
    "input('Enter the height of men')\n",
    "for i in height:\n",
    "    height += height"
   ]
  },
  {
   "cell_type": "code",
   "execution_count": null,
   "id": "4857b5ab",
   "metadata": {},
   "outputs": [],
   "source": [
    "# creating an empty list\n",
    "lst = []\n",
    "  \n",
    "# number of elements as input\n",
    "n = int(input(\"Enter number of elements : \"))\n",
    "  \n",
    "# iterating till the range\n",
    "for i in range(0, n):\n",
    "    ele = int(input())\n",
    "  \n",
    "    lst.append(ele) # adding the element\n",
    "      \n",
    "print(lst)\n",
    "\n",
    "while True:\n",
    "    print('Enter your age:')\n",
    "    age = input()\n",
    "    try:\n",
    "        age = int(age)\n",
    "    except:\n",
    "        print('Please use numeric digits.')\n",
    "        continue\n",
    "    if age < 1:\n",
    "        print('Please enter a positive number.')\n",
    "        continue\n",
    "    break\n",
    "\n",
    "print(f'Your age is {age}.')"
   ]
  },
  {
   "cell_type": "code",
   "execution_count": null,
   "id": "5bcd45ab",
   "metadata": {},
   "outputs": [
    {
     "name": "stdout",
     "output_type": "stream",
     "text": [
      "Enter the heights in meters: 2\n",
      "Enter the heights in meters: 5\n",
      "Enter the heights in meters: i\n",
      "Please enter a valid height within the range of 0.5m -2.8m\n",
      "Enter the heights in meters: 0\n",
      "Enter the heights in meters: 2.9\n",
      "2.9\n",
      "Enter the heights in meters: 8\n",
      "Enter the heights in meters: 9\n"
     ]
    }
   ],
   "source": [
    "while True:\n",
    "    heights = []\n",
    "\n",
    "\n",
    "    for i in range(0, 100):\n",
    "        height = input('Enter the heights in meters: ')\n",
    "        try:\n",
    "            height = float(height)\n",
    "        except:\n",
    "            print('Please enter a valid height within the range of 0.5m -2.8m')\n",
    "        continue\n",
    "        if height < 0.5:\n",
    "            print('This is a child, enter that of a man')\n",
    "        elif  height > 2.8:\n",
    "            print('This is impossible, enter a reasonable height')\n",
    "        else:\n",
    "            continue\n",
    "        break   \n",
    "        height.append(heights)\n",
    "   \n",
    "    print (height)\n",
    "    \n",
    "   \n",
    "    "
   ]
  },
  {
   "cell_type": "code",
   "execution_count": null,
   "id": "ff7e57c9",
   "metadata": {},
   "outputs": [],
   "source": []
  },
  {
   "cell_type": "code",
   "execution_count": null,
   "id": "a8f4b032",
   "metadata": {},
   "outputs": [],
   "source": []
  },
  {
   "cell_type": "code",
   "execution_count": null,
   "id": "c01c5668",
   "metadata": {},
   "outputs": [],
   "source": []
  }
 ],
 "metadata": {
  "kernelspec": {
   "display_name": "Python 3 (ipykernel)",
   "language": "python",
   "name": "python3"
  },
  "language_info": {
   "codemirror_mode": {
    "name": "ipython",
    "version": 3
   },
   "file_extension": ".py",
   "mimetype": "text/x-python",
   "name": "python",
   "nbconvert_exporter": "python",
   "pygments_lexer": "ipython3",
   "version": "3.9.7"
  }
 },
 "nbformat": 4,
 "nbformat_minor": 5
}
