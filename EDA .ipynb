{
 "cells": [
  {
   "cell_type": "markdown",
   "id": "d1f3bebc",
   "metadata": {},
   "source": [
    "## Thursday 20-10-2022"
   ]
  },
  {
   "cell_type": "markdown",
   "id": "821c47d7",
   "metadata": {},
   "source": [
    "EDA Exploratory Data Analysis\n",
    "1. maximize insights into a dataset\n",
    "2. see any underlying structures\n",
    "3. identify the import variables or feature\n",
    "4. detect outliers\n",
    "5. test your underlying assumptions\n",
    "\n",
    "\n",
    "What we "
   ]
  },
  {
   "cell_type": "code",
   "execution_count": null,
   "id": "0e6651f5",
   "metadata": {},
   "outputs": [],
   "source": []
  },
  {
   "cell_type": "code",
   "execution_count": null,
   "id": "4d1e654a",
   "metadata": {},
   "outputs": [],
   "source": []
  },
  {
   "cell_type": "markdown",
   "id": "6ba0a72d",
   "metadata": {},
   "source": [
    "# import packages"
   ]
  },
  {
   "cell_type": "code",
   "execution_count": 33,
   "id": "bd146d54",
   "metadata": {},
   "outputs": [],
   "source": [
    "import pandas as pd\n",
    "import numpy as np\n",
    "import seaborn as sns\n",
    "import matplotlib.pyplot as plt\n",
    "from datetime import datetime\n",
    "import dateutil.parser\n",
    "import re\n",
    "\n",
    "#set juyter to display up to 30 columns, so it can fit well on the screen\n",
    "pd.set_option('display.max_columns', 50)\n",
    "pd.set_option('expand_frame_repr', True)\n",
    "\n",
    "\n",
    "sns.set_palette('hls')\n",
    "#show figures in notebook\n",
    "%matplotlib inline"
   ]
  },
  {
   "cell_type": "code",
   "execution_count": 4,
   "id": "ebd1cc30",
   "metadata": {},
   "outputs": [
    {
     "data": {
      "text/html": [
       "<div>\n",
       "<style scoped>\n",
       "    .dataframe tbody tr th:only-of-type {\n",
       "        vertical-align: middle;\n",
       "    }\n",
       "\n",
       "    .dataframe tbody tr th {\n",
       "        vertical-align: top;\n",
       "    }\n",
       "\n",
       "    .dataframe thead th {\n",
       "        text-align: right;\n",
       "    }\n",
       "</style>\n",
       "<table border=\"1\" class=\"dataframe\">\n",
       "  <thead>\n",
       "    <tr style=\"text-align: right;\">\n",
       "      <th></th>\n",
       "      <th>id_number</th>\n",
       "      <th>loan_amount</th>\n",
       "      <th>lender_count</th>\n",
       "      <th>status</th>\n",
       "      <th>funded_date</th>\n",
       "      <th>funded_amount</th>\n",
       "      <th>repayment_term</th>\n",
       "      <th>location_country_code</th>\n",
       "      <th>sector</th>\n",
       "      <th>description</th>\n",
       "      <th>use</th>\n",
       "    </tr>\n",
       "  </thead>\n",
       "  <tbody>\n",
       "    <tr>\n",
       "      <th>0</th>\n",
       "      <td>736066</td>\n",
       "      <td>4825</td>\n",
       "      <td>60</td>\n",
       "      <td>funded</td>\n",
       "      <td>2014-08-03T17:51:50Z</td>\n",
       "      <td>4825</td>\n",
       "      <td>8</td>\n",
       "      <td>BJ</td>\n",
       "      <td>Retail</td>\n",
       "      <td>NaN</td>\n",
       "      <td>NaN</td>\n",
       "    </tr>\n",
       "    <tr>\n",
       "      <th>1</th>\n",
       "      <td>743090</td>\n",
       "      <td>975</td>\n",
       "      <td>34</td>\n",
       "      <td>funded</td>\n",
       "      <td>2014-08-18T09:10:54Z</td>\n",
       "      <td>975</td>\n",
       "      <td>12</td>\n",
       "      <td>BJ</td>\n",
       "      <td>Food</td>\n",
       "      <td>NaN</td>\n",
       "      <td>NaN</td>\n",
       "    </tr>\n",
       "    <tr>\n",
       "      <th>2</th>\n",
       "      <td>743120</td>\n",
       "      <td>950</td>\n",
       "      <td>25</td>\n",
       "      <td>funded</td>\n",
       "      <td>2014-08-09T17:46:35Z</td>\n",
       "      <td>950</td>\n",
       "      <td>14</td>\n",
       "      <td>BJ</td>\n",
       "      <td>Services</td>\n",
       "      <td>NaN</td>\n",
       "      <td>NaN</td>\n",
       "    </tr>\n",
       "    <tr>\n",
       "      <th>3</th>\n",
       "      <td>743121</td>\n",
       "      <td>825</td>\n",
       "      <td>28</td>\n",
       "      <td>funded</td>\n",
       "      <td>2014-08-24T17:00:38Z</td>\n",
       "      <td>825</td>\n",
       "      <td>14</td>\n",
       "      <td>BJ</td>\n",
       "      <td>Retail</td>\n",
       "      <td>NaN</td>\n",
       "      <td>NaN</td>\n",
       "    </tr>\n",
       "    <tr>\n",
       "      <th>4</th>\n",
       "      <td>743124</td>\n",
       "      <td>725</td>\n",
       "      <td>21</td>\n",
       "      <td>funded</td>\n",
       "      <td>2014-08-25T03:24:54Z</td>\n",
       "      <td>725</td>\n",
       "      <td>13</td>\n",
       "      <td>BJ</td>\n",
       "      <td>Retail</td>\n",
       "      <td>NaN</td>\n",
       "      <td>NaN</td>\n",
       "    </tr>\n",
       "    <tr>\n",
       "      <th>...</th>\n",
       "      <td>...</td>\n",
       "      <td>...</td>\n",
       "      <td>...</td>\n",
       "      <td>...</td>\n",
       "      <td>...</td>\n",
       "      <td>...</td>\n",
       "      <td>...</td>\n",
       "      <td>...</td>\n",
       "      <td>...</td>\n",
       "      <td>...</td>\n",
       "      <td>...</td>\n",
       "    </tr>\n",
       "    <tr>\n",
       "      <th>6014</th>\n",
       "      <td>1568871</td>\n",
       "      <td>200</td>\n",
       "      <td>8</td>\n",
       "      <td>funded</td>\n",
       "      <td>2018-07-19T15:14:35Z</td>\n",
       "      <td>200</td>\n",
       "      <td>14</td>\n",
       "      <td>ZW</td>\n",
       "      <td>Food</td>\n",
       "      <td>Sethukelo is a 19-year-old entrepreneur who li...</td>\n",
       "      <td>to purchase goods for starting a grocery store.</td>\n",
       "    </tr>\n",
       "    <tr>\n",
       "      <th>6015</th>\n",
       "      <td>1568880</td>\n",
       "      <td>200</td>\n",
       "      <td>8</td>\n",
       "      <td>funded</td>\n",
       "      <td>2018-07-19T19:22:43Z</td>\n",
       "      <td>200</td>\n",
       "      <td>14</td>\n",
       "      <td>ZW</td>\n",
       "      <td>Food</td>\n",
       "      <td>Hlanjiwe is a 20-year-old entrepreneur who liv...</td>\n",
       "      <td>to buy grocery goods for her business.</td>\n",
       "    </tr>\n",
       "    <tr>\n",
       "      <th>6016</th>\n",
       "      <td>1568883</td>\n",
       "      <td>200</td>\n",
       "      <td>6</td>\n",
       "      <td>funded</td>\n",
       "      <td>2018-07-19T20:18:53Z</td>\n",
       "      <td>200</td>\n",
       "      <td>14</td>\n",
       "      <td>ZW</td>\n",
       "      <td>Clothing</td>\n",
       "      <td>Lebuhani is a 21-year-old entrepreneur who liv...</td>\n",
       "      <td>to buy clothes for her business.</td>\n",
       "    </tr>\n",
       "    <tr>\n",
       "      <th>6017</th>\n",
       "      <td>1568887</td>\n",
       "      <td>200</td>\n",
       "      <td>8</td>\n",
       "      <td>funded</td>\n",
       "      <td>2018-07-18T23:38:44Z</td>\n",
       "      <td>200</td>\n",
       "      <td>14</td>\n",
       "      <td>ZW</td>\n",
       "      <td>Food</td>\n",
       "      <td>Jacqueline is a 23-year-old entrepreneur who l...</td>\n",
       "      <td>her to buy goods to sell in her store.</td>\n",
       "    </tr>\n",
       "    <tr>\n",
       "      <th>6018</th>\n",
       "      <td>1568890</td>\n",
       "      <td>200</td>\n",
       "      <td>8</td>\n",
       "      <td>funded</td>\n",
       "      <td>2018-07-19T16:54:18Z</td>\n",
       "      <td>200</td>\n",
       "      <td>14</td>\n",
       "      <td>ZW</td>\n",
       "      <td>Food</td>\n",
       "      <td>Delligent is a 23-year-old entrepreneur who li...</td>\n",
       "      <td>to buy grocery goods for her business.</td>\n",
       "    </tr>\n",
       "  </tbody>\n",
       "</table>\n",
       "<p>6019 rows × 11 columns</p>\n",
       "</div>"
      ],
      "text/plain": [
       "      id_number  loan_amount  lender_count  status           funded_date  \\\n",
       "0        736066         4825            60  funded  2014-08-03T17:51:50Z   \n",
       "1        743090          975            34  funded  2014-08-18T09:10:54Z   \n",
       "2        743120          950            25  funded  2014-08-09T17:46:35Z   \n",
       "3        743121          825            28  funded  2014-08-24T17:00:38Z   \n",
       "4        743124          725            21  funded  2014-08-25T03:24:54Z   \n",
       "...         ...          ...           ...     ...                   ...   \n",
       "6014    1568871          200             8  funded  2018-07-19T15:14:35Z   \n",
       "6015    1568880          200             8  funded  2018-07-19T19:22:43Z   \n",
       "6016    1568883          200             6  funded  2018-07-19T20:18:53Z   \n",
       "6017    1568887          200             8  funded  2018-07-18T23:38:44Z   \n",
       "6018    1568890          200             8  funded  2018-07-19T16:54:18Z   \n",
       "\n",
       "      funded_amount  repayment_term location_country_code    sector  \\\n",
       "0              4825               8                    BJ    Retail   \n",
       "1               975              12                    BJ      Food   \n",
       "2               950              14                    BJ  Services   \n",
       "3               825              14                    BJ    Retail   \n",
       "4               725              13                    BJ    Retail   \n",
       "...             ...             ...                   ...       ...   \n",
       "6014            200              14                    ZW      Food   \n",
       "6015            200              14                    ZW      Food   \n",
       "6016            200              14                    ZW  Clothing   \n",
       "6017            200              14                    ZW      Food   \n",
       "6018            200              14                    ZW      Food   \n",
       "\n",
       "                                            description  \\\n",
       "0                                                   NaN   \n",
       "1                                                   NaN   \n",
       "2                                                   NaN   \n",
       "3                                                   NaN   \n",
       "4                                                   NaN   \n",
       "...                                                 ...   \n",
       "6014  Sethukelo is a 19-year-old entrepreneur who li...   \n",
       "6015  Hlanjiwe is a 20-year-old entrepreneur who liv...   \n",
       "6016  Lebuhani is a 21-year-old entrepreneur who liv...   \n",
       "6017  Jacqueline is a 23-year-old entrepreneur who l...   \n",
       "6018  Delligent is a 23-year-old entrepreneur who li...   \n",
       "\n",
       "                                                  use  \n",
       "0                                                 NaN  \n",
       "1                                                 NaN  \n",
       "2                                                 NaN  \n",
       "3                                                 NaN  \n",
       "4                                                 NaN  \n",
       "...                                               ...  \n",
       "6014  to purchase goods for starting a grocery store.  \n",
       "6015           to buy grocery goods for her business.  \n",
       "6016                 to buy clothes for her business.  \n",
       "6017           her to buy goods to sell in her store.  \n",
       "6018           to buy grocery goods for her business.  \n",
       "\n",
       "[6019 rows x 11 columns]"
      ]
     },
     "execution_count": 4,
     "metadata": {},
     "output_type": "execute_result"
    }
   ],
   "source": [
    "df= pd.read_csv('loans.csv')\n",
    "df"
   ]
  },
  {
   "cell_type": "code",
   "execution_count": 5,
   "id": "2bc6769d",
   "metadata": {},
   "outputs": [
    {
     "data": {
      "text/html": [
       "<div>\n",
       "<style scoped>\n",
       "    .dataframe tbody tr th:only-of-type {\n",
       "        vertical-align: middle;\n",
       "    }\n",
       "\n",
       "    .dataframe tbody tr th {\n",
       "        vertical-align: top;\n",
       "    }\n",
       "\n",
       "    .dataframe thead th {\n",
       "        text-align: right;\n",
       "    }\n",
       "</style>\n",
       "<table border=\"1\" class=\"dataframe\">\n",
       "  <thead>\n",
       "    <tr style=\"text-align: right;\">\n",
       "      <th></th>\n",
       "      <th>id_number</th>\n",
       "      <th>loan_amount</th>\n",
       "      <th>lender_count</th>\n",
       "      <th>status</th>\n",
       "      <th>funded_date</th>\n",
       "      <th>funded_amount</th>\n",
       "      <th>repayment_term</th>\n",
       "      <th>location_country_code</th>\n",
       "      <th>sector</th>\n",
       "      <th>description</th>\n",
       "      <th>use</th>\n",
       "    </tr>\n",
       "  </thead>\n",
       "  <tbody>\n",
       "    <tr>\n",
       "      <th>1448</th>\n",
       "      <td>1568888</td>\n",
       "      <td>1275</td>\n",
       "      <td>7</td>\n",
       "      <td>fundraising</td>\n",
       "      <td>NaN</td>\n",
       "      <td>175</td>\n",
       "      <td>12</td>\n",
       "      <td>GH</td>\n",
       "      <td>Retail</td>\n",
       "      <td>Charity, a resident of Nsawam, in the Eastern ...</td>\n",
       "      <td>to buy stocks to sell such as rice, cooking oi...</td>\n",
       "    </tr>\n",
       "    <tr>\n",
       "      <th>1131</th>\n",
       "      <td>1534737</td>\n",
       "      <td>4400</td>\n",
       "      <td>150</td>\n",
       "      <td>funded</td>\n",
       "      <td>2018-06-05T19:12:37Z</td>\n",
       "      <td>4400</td>\n",
       "      <td>7</td>\n",
       "      <td>CD</td>\n",
       "      <td>Retail</td>\n",
       "      <td>Madam Thethe is a client of Hekima and a vendo...</td>\n",
       "      <td>to buy 12 pairs of shoes, children's clothes, ...</td>\n",
       "    </tr>\n",
       "    <tr>\n",
       "      <th>708</th>\n",
       "      <td>1548654</td>\n",
       "      <td>725</td>\n",
       "      <td>28</td>\n",
       "      <td>funded</td>\n",
       "      <td>2018-06-18T16:16:13Z</td>\n",
       "      <td>725</td>\n",
       "      <td>40</td>\n",
       "      <td>CM</td>\n",
       "      <td>Agriculture</td>\n",
       "      <td>She is married and a mother of four children w...</td>\n",
       "      <td>rent farmland, buy seedlings and fertilizer.</td>\n",
       "    </tr>\n",
       "  </tbody>\n",
       "</table>\n",
       "</div>"
      ],
      "text/plain": [
       "      id_number  loan_amount  lender_count       status           funded_date  \\\n",
       "1448    1568888         1275             7  fundraising                   NaN   \n",
       "1131    1534737         4400           150       funded  2018-06-05T19:12:37Z   \n",
       "708     1548654          725            28       funded  2018-06-18T16:16:13Z   \n",
       "\n",
       "      funded_amount  repayment_term location_country_code       sector  \\\n",
       "1448            175              12                    GH       Retail   \n",
       "1131           4400               7                    CD       Retail   \n",
       "708             725              40                    CM  Agriculture   \n",
       "\n",
       "                                            description  \\\n",
       "1448  Charity, a resident of Nsawam, in the Eastern ...   \n",
       "1131  Madam Thethe is a client of Hekima and a vendo...   \n",
       "708   She is married and a mother of four children w...   \n",
       "\n",
       "                                                    use  \n",
       "1448  to buy stocks to sell such as rice, cooking oi...  \n",
       "1131  to buy 12 pairs of shoes, children's clothes, ...  \n",
       "708        rent farmland, buy seedlings and fertilizer.  "
      ]
     },
     "execution_count": 5,
     "metadata": {},
     "output_type": "execute_result"
    }
   ],
   "source": [
    "#get 3 random sample of our data\n",
    "#lets get 3 rows\n",
    "\n",
    "df.sample(n=3)"
   ]
  },
  {
   "cell_type": "markdown",
   "id": "53bcbf0e",
   "metadata": {},
   "source": [
    "###### 1. Type checking\n",
    "why is it important?\n",
    "because\n",
    "- the types of a feature affects what you can do to that column\n",
    "this relates to the type of function you can apply on the column\n",
    "- the common data types you will see are \n",
    "1. int\n",
    "2. float\n",
    "3. str\n",
    "4. boolean\n",
    "5. datetime\n",
    "\n",
    "lets check the type of variable we have"
   ]
  },
  {
   "cell_type": "code",
   "execution_count": 6,
   "id": "c50241e4",
   "metadata": {},
   "outputs": [
    {
     "data": {
      "text/plain": [
       "Index(['id_number', 'loan_amount', 'lender_count', 'status', 'funded_date',\n",
       "       'funded_amount', 'repayment_term', 'location_country_code', 'sector',\n",
       "       'description', 'use'],\n",
       "      dtype='object')"
      ]
     },
     "execution_count": 6,
     "metadata": {},
     "output_type": "execute_result"
    }
   ],
   "source": [
    "#list all the columns\n",
    "\n",
    "df.columns"
   ]
  },
  {
   "cell_type": "code",
   "execution_count": 7,
   "id": "9458d3bb",
   "metadata": {},
   "outputs": [
    {
     "data": {
      "text/plain": [
       "['id_number',\n",
       " 'loan_amount',\n",
       " 'lender_count',\n",
       " 'status',\n",
       " 'funded_date',\n",
       " 'funded_amount',\n",
       " 'repayment_term',\n",
       " 'location_country_code',\n",
       " 'sector',\n",
       " 'description',\n",
       " 'use']"
      ]
     },
     "execution_count": 7,
     "metadata": {},
     "output_type": "execute_result"
    }
   ],
   "source": [
    "df.columns.to_list()"
   ]
  },
  {
   "cell_type": "code",
   "execution_count": 8,
   "id": "ad8be90b",
   "metadata": {},
   "outputs": [
    {
     "data": {
      "text/plain": [
       "dtype('int64')"
      ]
     },
     "execution_count": 8,
     "metadata": {},
     "output_type": "execute_result"
    }
   ],
   "source": [
    "#checking the data types\n",
    "df['id_number'].dtype"
   ]
  },
  {
   "cell_type": "code",
   "execution_count": 9,
   "id": "88ca0424",
   "metadata": {},
   "outputs": [
    {
     "data": {
      "text/plain": [
       "dtype('O')"
      ]
     },
     "execution_count": 9,
     "metadata": {},
     "output_type": "execute_result"
    }
   ],
   "source": [
    "df['location_country_code'].dtype"
   ]
  },
  {
   "cell_type": "code",
   "execution_count": 10,
   "id": "c906c467",
   "metadata": {},
   "outputs": [
    {
     "data": {
      "text/plain": [
       "dtype('O')"
      ]
     },
     "execution_count": 10,
     "metadata": {},
     "output_type": "execute_result"
    }
   ],
   "source": [
    "df['status'].dtype"
   ]
  },
  {
   "cell_type": "code",
   "execution_count": 11,
   "id": "90362e1f",
   "metadata": {},
   "outputs": [
    {
     "data": {
      "text/plain": [
       "dtype('int64')"
      ]
     },
     "execution_count": 11,
     "metadata": {},
     "output_type": "execute_result"
    }
   ],
   "source": [
    "df['funded_amount'].dtype"
   ]
  },
  {
   "cell_type": "code",
   "execution_count": 12,
   "id": "42a678c7",
   "metadata": {},
   "outputs": [
    {
     "data": {
      "text/plain": [
       "dtype('O')"
      ]
     },
     "execution_count": 12,
     "metadata": {},
     "output_type": "execute_result"
    }
   ],
   "source": [
    "df['funded_date'].dtype"
   ]
  },
  {
   "cell_type": "code",
   "execution_count": 13,
   "id": "31c46304",
   "metadata": {},
   "outputs": [
    {
     "name": "stdout",
     "output_type": "stream",
     "text": [
      "<class 'pandas.core.frame.DataFrame'>\n",
      "RangeIndex: 6019 entries, 0 to 6018\n",
      "Data columns (total 11 columns):\n",
      " #   Column                 Non-Null Count  Dtype \n",
      "---  ------                 --------------  ----- \n",
      " 0   id_number              6019 non-null   int64 \n",
      " 1   loan_amount            6019 non-null   int64 \n",
      " 2   lender_count           6019 non-null   int64 \n",
      " 3   status                 6019 non-null   object\n",
      " 4   funded_date            5082 non-null   object\n",
      " 5   funded_amount          6019 non-null   int64 \n",
      " 6   repayment_term         6019 non-null   int64 \n",
      " 7   location_country_code  6002 non-null   object\n",
      " 8   sector                 6019 non-null   object\n",
      " 9   description            5677 non-null   object\n",
      " 10  use                    5677 non-null   object\n",
      "dtypes: int64(5), object(6)\n",
      "memory usage: 517.4+ KB\n"
     ]
    }
   ],
   "source": [
    "#checking all the data types together\n",
    "\n",
    "df.info()"
   ]
  },
  {
   "cell_type": "code",
   "execution_count": 14,
   "id": "55f1d940",
   "metadata": {},
   "outputs": [
    {
     "data": {
      "text/plain": [
       "'Sethukelo is a 19-year-old entrepreneur who lives with her mother and siblings in the Lupane District of Zimbabwe.  She is requesting a Kiva loan in order to start her own grocery business.  <br /><br />Sethukelo plans to use the profit she earns to support herself, her mother, and her siblings.  She will repay the ‘social interest’ on her loan by volunteering 2.5 hours per week as a Camfed Transition Guide.  Her responsibilities include supporting other young women who are just entering Camfed’s alumnae organization, CAMA.  She will also deliver weekly sessions of an orientation course on topics such as health, financial literacy, and career guidance.'"
      ]
     },
     "execution_count": 14,
     "metadata": {},
     "output_type": "execute_result"
    }
   ],
   "source": [
    "df.description[6014]"
   ]
  },
  {
   "cell_type": "code",
   "execution_count": 15,
   "id": "b1905a6a",
   "metadata": {},
   "outputs": [
    {
     "data": {
      "text/plain": [
       "0        8\n",
       "1       12\n",
       "2       14\n",
       "3       14\n",
       "4       13\n",
       "        ..\n",
       "6014    14\n",
       "6015    14\n",
       "6016    14\n",
       "6017    14\n",
       "6018    14\n",
       "Name: repayment_term, Length: 6019, dtype: int64"
      ]
     },
     "execution_count": 15,
     "metadata": {},
     "output_type": "execute_result"
    }
   ],
   "source": [
    "df.repayment_term"
   ]
  },
  {
   "cell_type": "code",
   "execution_count": 16,
   "id": "fc03630e",
   "metadata": {},
   "outputs": [
    {
     "data": {
      "text/plain": [
       "array(['funded', 'fundraising', 'expired'], dtype=object)"
      ]
     },
     "execution_count": 16,
     "metadata": {},
     "output_type": "execute_result"
    }
   ],
   "source": [
    "df['status'].unique()"
   ]
  },
  {
   "cell_type": "code",
   "execution_count": 17,
   "id": "61161c97",
   "metadata": {},
   "outputs": [
    {
     "name": "stdout",
     "output_type": "stream",
     "text": [
      "<class 'pandas.core.frame.DataFrame'>\n",
      "RangeIndex: 6019 entries, 0 to 6018\n",
      "Data columns (total 11 columns):\n",
      " #   Column                 Dtype \n",
      "---  ------                 ----- \n",
      " 0   id_number              int64 \n",
      " 1   loan_amount            int64 \n",
      " 2   lender_count           int64 \n",
      " 3   status                 object\n",
      " 4   funded_date            object\n",
      " 5   funded_amount          int64 \n",
      " 6   repayment_term         int64 \n",
      " 7   location_country_code  object\n",
      " 8   sector                 object\n",
      " 9   description            object\n",
      " 10  use                    object\n",
      "dtypes: int64(5), object(6)\n",
      "memory usage: 517.4+ KB\n"
     ]
    }
   ],
   "source": [
    "df.info(show_counts=False)"
   ]
  },
  {
   "cell_type": "markdown",
   "id": "eba28146",
   "metadata": {},
   "source": [
    "##### 2.) missing values\n",
    "- its not all about knowing the missing values alone\n",
    "- if we have missing data, is it missing randomly,\n",
    "    if yes, we might not remove it cuz its still representative of the data set and in this\n",
    "    case, we can ignore them.....\n",
    "- if the data is missing systematically, you have to be more careful about \n",
    "    dealing with the missing data to avoid bias. think about how to carefully\n",
    "    clean the data (dropping data points, filling by group etc)"
   ]
  },
  {
   "cell_type": "code",
   "execution_count": 18,
   "id": "e521457f",
   "metadata": {
    "scrolled": true
   },
   "outputs": [
    {
     "data": {
      "text/plain": [
       "id_number                  0\n",
       "loan_amount                0\n",
       "lender_count               0\n",
       "status                     0\n",
       "funded_date              937\n",
       "funded_amount              0\n",
       "repayment_term             0\n",
       "location_country_code     17\n",
       "sector                     0\n",
       "description              342\n",
       "use                      342\n",
       "dtype: int64"
      ]
     },
     "execution_count": 18,
     "metadata": {},
     "output_type": "execute_result"
    }
   ],
   "source": [
    "#chek for missing value\n",
    "\n",
    "df.isna().sum()"
   ]
  },
  {
   "cell_type": "code",
   "execution_count": 19,
   "id": "25481a13",
   "metadata": {},
   "outputs": [
    {
     "name": "stdout",
     "output_type": "stream",
     "text": [
      "15\n"
     ]
    }
   ],
   "source": [
    "#lambda is an anonymous function\n",
    "#it doesnt need to be defined\n",
    "\n",
    "x = lambda b: b+10\n",
    "print(x(5))"
   ]
  },
  {
   "cell_type": "code",
   "execution_count": 20,
   "id": "df655a8c",
   "metadata": {
    "scrolled": true
   },
   "outputs": [
    {
     "name": "stdout",
     "output_type": "stream",
     "text": [
      "Missing values per column\n",
      "funded_date              937.0\n",
      "location_country_code     17.0\n",
      "description              342.0\n",
      "use                      342.0\n",
      "dtype: float64\n"
     ]
    }
   ],
   "source": [
    "#lets use a function\n",
    "\n",
    "def missing_num(x):\n",
    "    return sum(x.isnull())\n",
    "\n",
    "print('Missing values per column')\n",
    "#applying our function by column\n",
    "#check sum of missing values by column and get the columns where the sum is not zero\n",
    "\n",
    "print(df.apply(missing_num, axis = 0).where(lambda x: x!=0).dropna())\n"
   ]
  },
  {
   "cell_type": "markdown",
   "id": "9034d7d3",
   "metadata": {},
   "source": [
    "#### 3) Sanity checks\n",
    "###### Does the data make sense? Does it match what you expect to find\n",
    "\n",
    "- is the range of values what you would expect? eg, allloan amounts must be greater than zero\n",
    "    funded amount cant be negative\n",
    "- do you have the number of rows expected\n",
    "- do you have reasonable dates, dates cant be future and should be too far ago e.g 1900, 1889\n",
    "- do you have unexpected spikes in any of the int columns or even over time.\n",
    "\n",
    "\n",
    "\n",
    "\n",
    "\n",
    "\n",
    "\n"
   ]
  },
  {
   "cell_type": "code",
   "execution_count": 21,
   "id": "ebc30cc5",
   "metadata": {},
   "outputs": [
    {
     "data": {
      "text/html": [
       "<div>\n",
       "<style scoped>\n",
       "    .dataframe tbody tr th:only-of-type {\n",
       "        vertical-align: middle;\n",
       "    }\n",
       "\n",
       "    .dataframe tbody tr th {\n",
       "        vertical-align: top;\n",
       "    }\n",
       "\n",
       "    .dataframe thead th {\n",
       "        text-align: right;\n",
       "    }\n",
       "</style>\n",
       "<table border=\"1\" class=\"dataframe\">\n",
       "  <thead>\n",
       "    <tr style=\"text-align: right;\">\n",
       "      <th></th>\n",
       "      <th>id_number</th>\n",
       "      <th>loan_amount</th>\n",
       "      <th>lender_count</th>\n",
       "      <th>status</th>\n",
       "      <th>funded_date</th>\n",
       "      <th>funded_amount</th>\n",
       "      <th>repayment_term</th>\n",
       "      <th>location_country_code</th>\n",
       "      <th>sector</th>\n",
       "      <th>description</th>\n",
       "      <th>use</th>\n",
       "    </tr>\n",
       "  </thead>\n",
       "  <tbody>\n",
       "    <tr>\n",
       "      <th>0</th>\n",
       "      <td>736066</td>\n",
       "      <td>4825</td>\n",
       "      <td>60</td>\n",
       "      <td>funded</td>\n",
       "      <td>2014-08-03T17:51:50Z</td>\n",
       "      <td>4825</td>\n",
       "      <td>8</td>\n",
       "      <td>BJ</td>\n",
       "      <td>Retail</td>\n",
       "      <td>NaN</td>\n",
       "      <td>NaN</td>\n",
       "    </tr>\n",
       "    <tr>\n",
       "      <th>1</th>\n",
       "      <td>743090</td>\n",
       "      <td>975</td>\n",
       "      <td>34</td>\n",
       "      <td>funded</td>\n",
       "      <td>2014-08-18T09:10:54Z</td>\n",
       "      <td>975</td>\n",
       "      <td>12</td>\n",
       "      <td>BJ</td>\n",
       "      <td>Food</td>\n",
       "      <td>NaN</td>\n",
       "      <td>NaN</td>\n",
       "    </tr>\n",
       "    <tr>\n",
       "      <th>2</th>\n",
       "      <td>743120</td>\n",
       "      <td>950</td>\n",
       "      <td>25</td>\n",
       "      <td>funded</td>\n",
       "      <td>2014-08-09T17:46:35Z</td>\n",
       "      <td>950</td>\n",
       "      <td>14</td>\n",
       "      <td>BJ</td>\n",
       "      <td>Services</td>\n",
       "      <td>NaN</td>\n",
       "      <td>NaN</td>\n",
       "    </tr>\n",
       "    <tr>\n",
       "      <th>3</th>\n",
       "      <td>743121</td>\n",
       "      <td>825</td>\n",
       "      <td>28</td>\n",
       "      <td>funded</td>\n",
       "      <td>2014-08-24T17:00:38Z</td>\n",
       "      <td>825</td>\n",
       "      <td>14</td>\n",
       "      <td>BJ</td>\n",
       "      <td>Retail</td>\n",
       "      <td>NaN</td>\n",
       "      <td>NaN</td>\n",
       "    </tr>\n",
       "    <tr>\n",
       "      <th>4</th>\n",
       "      <td>743124</td>\n",
       "      <td>725</td>\n",
       "      <td>21</td>\n",
       "      <td>funded</td>\n",
       "      <td>2014-08-25T03:24:54Z</td>\n",
       "      <td>725</td>\n",
       "      <td>13</td>\n",
       "      <td>BJ</td>\n",
       "      <td>Retail</td>\n",
       "      <td>NaN</td>\n",
       "      <td>NaN</td>\n",
       "    </tr>\n",
       "    <tr>\n",
       "      <th>...</th>\n",
       "      <td>...</td>\n",
       "      <td>...</td>\n",
       "      <td>...</td>\n",
       "      <td>...</td>\n",
       "      <td>...</td>\n",
       "      <td>...</td>\n",
       "      <td>...</td>\n",
       "      <td>...</td>\n",
       "      <td>...</td>\n",
       "      <td>...</td>\n",
       "      <td>...</td>\n",
       "    </tr>\n",
       "    <tr>\n",
       "      <th>6014</th>\n",
       "      <td>1568871</td>\n",
       "      <td>200</td>\n",
       "      <td>8</td>\n",
       "      <td>funded</td>\n",
       "      <td>2018-07-19T15:14:35Z</td>\n",
       "      <td>200</td>\n",
       "      <td>14</td>\n",
       "      <td>ZW</td>\n",
       "      <td>Food</td>\n",
       "      <td>Sethukelo is a 19-year-old entrepreneur who li...</td>\n",
       "      <td>to purchase goods for starting a grocery store.</td>\n",
       "    </tr>\n",
       "    <tr>\n",
       "      <th>6015</th>\n",
       "      <td>1568880</td>\n",
       "      <td>200</td>\n",
       "      <td>8</td>\n",
       "      <td>funded</td>\n",
       "      <td>2018-07-19T19:22:43Z</td>\n",
       "      <td>200</td>\n",
       "      <td>14</td>\n",
       "      <td>ZW</td>\n",
       "      <td>Food</td>\n",
       "      <td>Hlanjiwe is a 20-year-old entrepreneur who liv...</td>\n",
       "      <td>to buy grocery goods for her business.</td>\n",
       "    </tr>\n",
       "    <tr>\n",
       "      <th>6016</th>\n",
       "      <td>1568883</td>\n",
       "      <td>200</td>\n",
       "      <td>6</td>\n",
       "      <td>funded</td>\n",
       "      <td>2018-07-19T20:18:53Z</td>\n",
       "      <td>200</td>\n",
       "      <td>14</td>\n",
       "      <td>ZW</td>\n",
       "      <td>Clothing</td>\n",
       "      <td>Lebuhani is a 21-year-old entrepreneur who liv...</td>\n",
       "      <td>to buy clothes for her business.</td>\n",
       "    </tr>\n",
       "    <tr>\n",
       "      <th>6017</th>\n",
       "      <td>1568887</td>\n",
       "      <td>200</td>\n",
       "      <td>8</td>\n",
       "      <td>funded</td>\n",
       "      <td>2018-07-18T23:38:44Z</td>\n",
       "      <td>200</td>\n",
       "      <td>14</td>\n",
       "      <td>ZW</td>\n",
       "      <td>Food</td>\n",
       "      <td>Jacqueline is a 23-year-old entrepreneur who l...</td>\n",
       "      <td>her to buy goods to sell in her store.</td>\n",
       "    </tr>\n",
       "    <tr>\n",
       "      <th>6018</th>\n",
       "      <td>1568890</td>\n",
       "      <td>200</td>\n",
       "      <td>8</td>\n",
       "      <td>funded</td>\n",
       "      <td>2018-07-19T16:54:18Z</td>\n",
       "      <td>200</td>\n",
       "      <td>14</td>\n",
       "      <td>ZW</td>\n",
       "      <td>Food</td>\n",
       "      <td>Delligent is a 23-year-old entrepreneur who li...</td>\n",
       "      <td>to buy grocery goods for her business.</td>\n",
       "    </tr>\n",
       "  </tbody>\n",
       "</table>\n",
       "<p>6019 rows × 11 columns</p>\n",
       "</div>"
      ],
      "text/plain": [
       "      id_number  loan_amount  lender_count  status           funded_date  \\\n",
       "0        736066         4825            60  funded  2014-08-03T17:51:50Z   \n",
       "1        743090          975            34  funded  2014-08-18T09:10:54Z   \n",
       "2        743120          950            25  funded  2014-08-09T17:46:35Z   \n",
       "3        743121          825            28  funded  2014-08-24T17:00:38Z   \n",
       "4        743124          725            21  funded  2014-08-25T03:24:54Z   \n",
       "...         ...          ...           ...     ...                   ...   \n",
       "6014    1568871          200             8  funded  2018-07-19T15:14:35Z   \n",
       "6015    1568880          200             8  funded  2018-07-19T19:22:43Z   \n",
       "6016    1568883          200             6  funded  2018-07-19T20:18:53Z   \n",
       "6017    1568887          200             8  funded  2018-07-18T23:38:44Z   \n",
       "6018    1568890          200             8  funded  2018-07-19T16:54:18Z   \n",
       "\n",
       "      funded_amount  repayment_term location_country_code    sector  \\\n",
       "0              4825               8                    BJ    Retail   \n",
       "1               975              12                    BJ      Food   \n",
       "2               950              14                    BJ  Services   \n",
       "3               825              14                    BJ    Retail   \n",
       "4               725              13                    BJ    Retail   \n",
       "...             ...             ...                   ...       ...   \n",
       "6014            200              14                    ZW      Food   \n",
       "6015            200              14                    ZW      Food   \n",
       "6016            200              14                    ZW  Clothing   \n",
       "6017            200              14                    ZW      Food   \n",
       "6018            200              14                    ZW      Food   \n",
       "\n",
       "                                            description  \\\n",
       "0                                                   NaN   \n",
       "1                                                   NaN   \n",
       "2                                                   NaN   \n",
       "3                                                   NaN   \n",
       "4                                                   NaN   \n",
       "...                                                 ...   \n",
       "6014  Sethukelo is a 19-year-old entrepreneur who li...   \n",
       "6015  Hlanjiwe is a 20-year-old entrepreneur who liv...   \n",
       "6016  Lebuhani is a 21-year-old entrepreneur who liv...   \n",
       "6017  Jacqueline is a 23-year-old entrepreneur who l...   \n",
       "6018  Delligent is a 23-year-old entrepreneur who li...   \n",
       "\n",
       "                                                  use  \n",
       "0                                                 NaN  \n",
       "1                                                 NaN  \n",
       "2                                                 NaN  \n",
       "3                                                 NaN  \n",
       "4                                                 NaN  \n",
       "...                                               ...  \n",
       "6014  to purchase goods for starting a grocery store.  \n",
       "6015           to buy grocery goods for her business.  \n",
       "6016                 to buy clothes for her business.  \n",
       "6017           her to buy goods to sell in her store.  \n",
       "6018           to buy grocery goods for her business.  \n",
       "\n",
       "[6019 rows x 11 columns]"
      ]
     },
     "execution_count": 21,
     "metadata": {},
     "output_type": "execute_result"
    }
   ],
   "source": [
    "df"
   ]
  },
  {
   "cell_type": "code",
   "execution_count": 22,
   "id": "24d7bbd6",
   "metadata": {},
   "outputs": [
    {
     "data": {
      "text/plain": [
       "50"
      ]
     },
     "execution_count": 22,
     "metadata": {},
     "output_type": "execute_result"
    }
   ],
   "source": [
    "df.loan_amount.min()"
   ]
  },
  {
   "cell_type": "code",
   "execution_count": 23,
   "id": "f65de3e8",
   "metadata": {},
   "outputs": [
    {
     "data": {
      "text/plain": [
       "0"
      ]
     },
     "execution_count": 23,
     "metadata": {},
     "output_type": "execute_result"
    }
   ],
   "source": [
    "df.funded_amount.min()"
   ]
  },
  {
   "cell_type": "markdown",
   "id": "f0d4c5a5",
   "metadata": {},
   "source": [
    "#### 4) Descriptive stat of the dataset"
   ]
  },
  {
   "cell_type": "code",
   "execution_count": 24,
   "id": "13f06169",
   "metadata": {},
   "outputs": [
    {
     "data": {
      "text/html": [
       "<div>\n",
       "<style scoped>\n",
       "    .dataframe tbody tr th:only-of-type {\n",
       "        vertical-align: middle;\n",
       "    }\n",
       "\n",
       "    .dataframe tbody tr th {\n",
       "        vertical-align: top;\n",
       "    }\n",
       "\n",
       "    .dataframe thead th {\n",
       "        text-align: right;\n",
       "    }\n",
       "</style>\n",
       "<table border=\"1\" class=\"dataframe\">\n",
       "  <thead>\n",
       "    <tr style=\"text-align: right;\">\n",
       "      <th></th>\n",
       "      <th>id_number</th>\n",
       "      <th>loan_amount</th>\n",
       "      <th>lender_count</th>\n",
       "      <th>funded_amount</th>\n",
       "      <th>repayment_term</th>\n",
       "    </tr>\n",
       "  </thead>\n",
       "  <tbody>\n",
       "    <tr>\n",
       "      <th>count</th>\n",
       "      <td>6.019000e+03</td>\n",
       "      <td>6019.000000</td>\n",
       "      <td>6019.000000</td>\n",
       "      <td>6019.000000</td>\n",
       "      <td>6019.000000</td>\n",
       "    </tr>\n",
       "    <tr>\n",
       "      <th>mean</th>\n",
       "      <td>1.359770e+06</td>\n",
       "      <td>1499.011464</td>\n",
       "      <td>35.661406</td>\n",
       "      <td>1325.070610</td>\n",
       "      <td>11.803290</td>\n",
       "    </tr>\n",
       "    <tr>\n",
       "      <th>std</th>\n",
       "      <td>3.719316e+05</td>\n",
       "      <td>2512.517280</td>\n",
       "      <td>73.420256</td>\n",
       "      <td>2444.726815</td>\n",
       "      <td>9.114948</td>\n",
       "    </tr>\n",
       "    <tr>\n",
       "      <th>min</th>\n",
       "      <td>1.377200e+04</td>\n",
       "      <td>50.000000</td>\n",
       "      <td>0.000000</td>\n",
       "      <td>0.000000</td>\n",
       "      <td>3.000000</td>\n",
       "    </tr>\n",
       "    <tr>\n",
       "      <th>25%</th>\n",
       "      <td>1.425188e+06</td>\n",
       "      <td>300.000000</td>\n",
       "      <td>7.000000</td>\n",
       "      <td>200.000000</td>\n",
       "      <td>8.000000</td>\n",
       "    </tr>\n",
       "    <tr>\n",
       "      <th>50%</th>\n",
       "      <td>1.550673e+06</td>\n",
       "      <td>625.000000</td>\n",
       "      <td>16.000000</td>\n",
       "      <td>525.000000</td>\n",
       "      <td>10.000000</td>\n",
       "    </tr>\n",
       "    <tr>\n",
       "      <th>75%</th>\n",
       "      <td>1.566204e+06</td>\n",
       "      <td>1825.000000</td>\n",
       "      <td>41.000000</td>\n",
       "      <td>1525.000000</td>\n",
       "      <td>14.000000</td>\n",
       "    </tr>\n",
       "    <tr>\n",
       "      <th>max</th>\n",
       "      <td>1.573593e+06</td>\n",
       "      <td>80000.000000</td>\n",
       "      <td>2665.000000</td>\n",
       "      <td>80000.000000</td>\n",
       "      <td>133.000000</td>\n",
       "    </tr>\n",
       "  </tbody>\n",
       "</table>\n",
       "</div>"
      ],
      "text/plain": [
       "          id_number   loan_amount  lender_count  funded_amount  repayment_term\n",
       "count  6.019000e+03   6019.000000   6019.000000    6019.000000     6019.000000\n",
       "mean   1.359770e+06   1499.011464     35.661406    1325.070610       11.803290\n",
       "std    3.719316e+05   2512.517280     73.420256    2444.726815        9.114948\n",
       "min    1.377200e+04     50.000000      0.000000       0.000000        3.000000\n",
       "25%    1.425188e+06    300.000000      7.000000     200.000000        8.000000\n",
       "50%    1.550673e+06    625.000000     16.000000     525.000000       10.000000\n",
       "75%    1.566204e+06   1825.000000     41.000000    1525.000000       14.000000\n",
       "max    1.573593e+06  80000.000000   2665.000000   80000.000000      133.000000"
      ]
     },
     "execution_count": 24,
     "metadata": {},
     "output_type": "execute_result"
    }
   ],
   "source": [
    "#we can check the key summaries of the dataset (numerical column)\n",
    "#using the describe methoed\n",
    "\n",
    "df.describe()"
   ]
  },
  {
   "cell_type": "code",
   "execution_count": 25,
   "id": "cb0b762a",
   "metadata": {},
   "outputs": [
    {
     "data": {
      "text/html": [
       "<div>\n",
       "<style scoped>\n",
       "    .dataframe tbody tr th:only-of-type {\n",
       "        vertical-align: middle;\n",
       "    }\n",
       "\n",
       "    .dataframe tbody tr th {\n",
       "        vertical-align: top;\n",
       "    }\n",
       "\n",
       "    .dataframe thead th {\n",
       "        text-align: right;\n",
       "    }\n",
       "</style>\n",
       "<table border=\"1\" class=\"dataframe\">\n",
       "  <thead>\n",
       "    <tr style=\"text-align: right;\">\n",
       "      <th></th>\n",
       "      <th>status</th>\n",
       "      <th>funded_date</th>\n",
       "      <th>location_country_code</th>\n",
       "      <th>sector</th>\n",
       "      <th>description</th>\n",
       "      <th>use</th>\n",
       "    </tr>\n",
       "  </thead>\n",
       "  <tbody>\n",
       "    <tr>\n",
       "      <th>count</th>\n",
       "      <td>6019</td>\n",
       "      <td>5082</td>\n",
       "      <td>6002</td>\n",
       "      <td>6019</td>\n",
       "      <td>5677</td>\n",
       "      <td>5677</td>\n",
       "    </tr>\n",
       "    <tr>\n",
       "      <th>unique</th>\n",
       "      <td>3</td>\n",
       "      <td>4453</td>\n",
       "      <td>30</td>\n",
       "      <td>14</td>\n",
       "      <td>5277</td>\n",
       "      <td>4325</td>\n",
       "    </tr>\n",
       "    <tr>\n",
       "      <th>top</th>\n",
       "      <td>funded</td>\n",
       "      <td>2018-07-22T15:54:41Z</td>\n",
       "      <td>TZ</td>\n",
       "      <td>Food</td>\n",
       "      <td>Zaina is 19-year-old entrepreneur who lives wi...</td>\n",
       "      <td>to pay for a stove.</td>\n",
       "    </tr>\n",
       "    <tr>\n",
       "      <th>freq</th>\n",
       "      <td>5082</td>\n",
       "      <td>9</td>\n",
       "      <td>400</td>\n",
       "      <td>1738</td>\n",
       "      <td>2</td>\n",
       "      <td>80</td>\n",
       "    </tr>\n",
       "  </tbody>\n",
       "</table>\n",
       "</div>"
      ],
      "text/plain": [
       "        status           funded_date location_country_code sector  \\\n",
       "count     6019                  5082                  6002   6019   \n",
       "unique       3                  4453                    30     14   \n",
       "top     funded  2018-07-22T15:54:41Z                    TZ   Food   \n",
       "freq      5082                     9                   400   1738   \n",
       "\n",
       "                                              description                  use  \n",
       "count                                                5677                 5677  \n",
       "unique                                               5277                 4325  \n",
       "top     Zaina is 19-year-old entrepreneur who lives wi...  to pay for a stove.  \n",
       "freq                                                    2                   80  "
      ]
     },
     "execution_count": 25,
     "metadata": {},
     "output_type": "execute_result"
    }
   ],
   "source": [
    "#to get the summary of the object columns\n",
    "#first, create a variable that holds the categorical or object column data type\n",
    "#then we can get the description using describe method\n",
    "\n",
    "categorical = df.dtypes[df.dtypes == 'object'].index\n",
    "df[categorical].describe()"
   ]
  },
  {
   "cell_type": "code",
   "execution_count": 26,
   "id": "816bdb14",
   "metadata": {},
   "outputs": [
    {
     "data": {
      "text/plain": [
       "Index(['status', 'funded_date', 'location_country_code', 'sector',\n",
       "       'description', 'use'],\n",
       "      dtype='object')"
      ]
     },
     "execution_count": 26,
     "metadata": {},
     "output_type": "execute_result"
    }
   ],
   "source": [
    "categorical"
   ]
  },
  {
   "cell_type": "code",
   "execution_count": null,
   "id": "bebc1477",
   "metadata": {},
   "outputs": [],
   "source": []
  },
  {
   "cell_type": "markdown",
   "id": "2c3bb269",
   "metadata": {},
   "source": [
    "## EDA 2\n",
    "##### 24-10-2022"
   ]
  },
  {
   "cell_type": "markdown",
   "id": "c0850db0",
   "metadata": {},
   "source": [
    "- maximize insights into data\n",
    "- uncover any underlying structure\n",
    "- exract important variables\n",
    "- detect outliers and anomalies\n",
    "- test underlying assumptions\n",
    "\n",
    "\n",
    "now lets look at the fllg plotting techniques\n",
    "- scatter plot\n",
    "- scatter matrix\n",
    "- histogram\n",
    "- bar plot\n",
    "- box plot\n",
    "- time series"
   ]
  },
  {
   "cell_type": "markdown",
   "id": "ab43ae22",
   "metadata": {},
   "source": [
    "#### 1. Scatter plot\n",
    "this is very popular and very powerful way to visualize your data and relationship btw\n",
    "two continous features.\n",
    "it shows us how feature Y changes when X changes.\n",
    "if there is a clear pattern on the scatter plot, then we can say \n",
    "the features are correlated.\n",
    "\n",
    "We see several outcomes in a scatter plot:\n",
    "- positive linear outcome =  when X increases, the data points"
   ]
  },
  {
   "cell_type": "markdown",
   "id": "8cd15c7c",
   "metadata": {},
   "source": [
    "- Lets use this on two continous column in our data"
   ]
  },
  {
   "cell_type": "code",
   "execution_count": 27,
   "id": "d92ea932",
   "metadata": {},
   "outputs": [
    {
     "data": {
      "text/html": [
       "<div>\n",
       "<style scoped>\n",
       "    .dataframe tbody tr th:only-of-type {\n",
       "        vertical-align: middle;\n",
       "    }\n",
       "\n",
       "    .dataframe tbody tr th {\n",
       "        vertical-align: top;\n",
       "    }\n",
       "\n",
       "    .dataframe thead th {\n",
       "        text-align: right;\n",
       "    }\n",
       "</style>\n",
       "<table border=\"1\" class=\"dataframe\">\n",
       "  <thead>\n",
       "    <tr style=\"text-align: right;\">\n",
       "      <th></th>\n",
       "      <th>id_number</th>\n",
       "      <th>loan_amount</th>\n",
       "      <th>lender_count</th>\n",
       "      <th>status</th>\n",
       "      <th>funded_date</th>\n",
       "      <th>funded_amount</th>\n",
       "      <th>repayment_term</th>\n",
       "      <th>location_country_code</th>\n",
       "      <th>sector</th>\n",
       "      <th>description</th>\n",
       "      <th>use</th>\n",
       "    </tr>\n",
       "  </thead>\n",
       "  <tbody>\n",
       "    <tr>\n",
       "      <th>0</th>\n",
       "      <td>736066</td>\n",
       "      <td>4825</td>\n",
       "      <td>60</td>\n",
       "      <td>funded</td>\n",
       "      <td>2014-08-03T17:51:50Z</td>\n",
       "      <td>4825</td>\n",
       "      <td>8</td>\n",
       "      <td>BJ</td>\n",
       "      <td>Retail</td>\n",
       "      <td>NaN</td>\n",
       "      <td>NaN</td>\n",
       "    </tr>\n",
       "    <tr>\n",
       "      <th>1</th>\n",
       "      <td>743090</td>\n",
       "      <td>975</td>\n",
       "      <td>34</td>\n",
       "      <td>funded</td>\n",
       "      <td>2014-08-18T09:10:54Z</td>\n",
       "      <td>975</td>\n",
       "      <td>12</td>\n",
       "      <td>BJ</td>\n",
       "      <td>Food</td>\n",
       "      <td>NaN</td>\n",
       "      <td>NaN</td>\n",
       "    </tr>\n",
       "    <tr>\n",
       "      <th>2</th>\n",
       "      <td>743120</td>\n",
       "      <td>950</td>\n",
       "      <td>25</td>\n",
       "      <td>funded</td>\n",
       "      <td>2014-08-09T17:46:35Z</td>\n",
       "      <td>950</td>\n",
       "      <td>14</td>\n",
       "      <td>BJ</td>\n",
       "      <td>Services</td>\n",
       "      <td>NaN</td>\n",
       "      <td>NaN</td>\n",
       "    </tr>\n",
       "    <tr>\n",
       "      <th>3</th>\n",
       "      <td>743121</td>\n",
       "      <td>825</td>\n",
       "      <td>28</td>\n",
       "      <td>funded</td>\n",
       "      <td>2014-08-24T17:00:38Z</td>\n",
       "      <td>825</td>\n",
       "      <td>14</td>\n",
       "      <td>BJ</td>\n",
       "      <td>Retail</td>\n",
       "      <td>NaN</td>\n",
       "      <td>NaN</td>\n",
       "    </tr>\n",
       "    <tr>\n",
       "      <th>4</th>\n",
       "      <td>743124</td>\n",
       "      <td>725</td>\n",
       "      <td>21</td>\n",
       "      <td>funded</td>\n",
       "      <td>2014-08-25T03:24:54Z</td>\n",
       "      <td>725</td>\n",
       "      <td>13</td>\n",
       "      <td>BJ</td>\n",
       "      <td>Retail</td>\n",
       "      <td>NaN</td>\n",
       "      <td>NaN</td>\n",
       "    </tr>\n",
       "  </tbody>\n",
       "</table>\n",
       "</div>"
      ],
      "text/plain": [
       "   id_number  loan_amount  lender_count  status           funded_date  \\\n",
       "0     736066         4825            60  funded  2014-08-03T17:51:50Z   \n",
       "1     743090          975            34  funded  2014-08-18T09:10:54Z   \n",
       "2     743120          950            25  funded  2014-08-09T17:46:35Z   \n",
       "3     743121          825            28  funded  2014-08-24T17:00:38Z   \n",
       "4     743124          725            21  funded  2014-08-25T03:24:54Z   \n",
       "\n",
       "   funded_amount  repayment_term location_country_code    sector description  \\\n",
       "0           4825               8                    BJ    Retail         NaN   \n",
       "1            975              12                    BJ      Food         NaN   \n",
       "2            950              14                    BJ  Services         NaN   \n",
       "3            825              14                    BJ    Retail         NaN   \n",
       "4            725              13                    BJ    Retail         NaN   \n",
       "\n",
       "   use  \n",
       "0  NaN  \n",
       "1  NaN  \n",
       "2  NaN  \n",
       "3  NaN  \n",
       "4  NaN  "
      ]
     },
     "execution_count": 27,
     "metadata": {},
     "output_type": "execute_result"
    }
   ],
   "source": [
    "df.head()"
   ]
  },
  {
   "cell_type": "code",
   "execution_count": 28,
   "id": "25cdc8fd",
   "metadata": {},
   "outputs": [
    {
     "data": {
      "text/plain": [
       "['id_number', 'loan_amount', 'lender_count', 'funded_amount', 'repayment_term']"
      ]
     },
     "execution_count": 28,
     "metadata": {},
     "output_type": "execute_result"
    }
   ],
   "source": [
    "numeric_var = df.select_dtypes(include=[np.number]).columns.to_list()\n",
    "numeric_var"
   ]
  },
  {
   "cell_type": "code",
   "execution_count": 31,
   "id": "32b7ea18",
   "metadata": {},
   "outputs": [
    {
     "name": "stdout",
     "output_type": "stream",
     "text": [
      "id_number\n",
      "loan_amount\n",
      "lender_count\n",
      "funded_amount\n",
      "repayment_term\n"
     ]
    }
   ],
   "source": [
    "numeric_var = df.select_dtypes(include=[np.number]).columns.to_list()\n",
    "for var in numeric_var:\n",
    "    print(var)"
   ]
  },
  {
   "cell_type": "markdown",
   "id": "355e7c5f",
   "metadata": {},
   "source": [
    "- lets check if there is a relationship between lender_count and loan_amount\n",
    "\n",
    "- intuitively, you expect a relationship, lets check if it is true"
   ]
  },
  {
   "cell_type": "code",
   "execution_count": 32,
   "id": "d87e2fe7",
   "metadata": {},
   "outputs": [
    {
     "data": {
      "image/png": "[encoded data removed]",
      "text/plain": [
       "<Figure size 432x288 with 1 Axes>"
      ]
     },
     "metadata": {
      "needs_background": "light"
     },
     "output_type": "display_data"
    }
   ],
   "source": [
    "ax = sns.regplot(x = 'lender_count', y = 'loan_amount', data=df)"
   ]
  },
  {
   "cell_type": "markdown",
   "id": "13f1a290",
   "metadata": {},
   "source": [
    "Where does the data follow the line?\n",
    "where does it not?\n",
    "what else do you think this graph is telling you?\n",
    "is the relationship between the features positively correlated or linear?\n",
    "\n",
    "\n",
    "if you want to explore this further you can take data points corresponding to each cluster (eg, lender_count < 1000, lender_count between 1000 and 2000 possibly the rest)\n",
    "then do a scatter plot of the same features, to zoom in on the relationship\n",
    "\n",
    "#### 're' means regular expression"
   ]
  },
  {
   "cell_type": "markdown",
   "id": "919a563f",
   "metadata": {},
   "source": [
    "what about repayment_term and loan_amount"
   ]
  },
  {
   "cell_type": "code",
   "execution_count": 34,
   "id": "a3e1ede8",
   "metadata": {},
   "outputs": [
    {
     "data": {
      "image/png": "[encoded data removed]",
      "text/plain": [
       "<Figure size 432x288 with 1 Axes>"
      ]
     },
     "metadata": {
      "needs_background": "light"
     },
     "output_type": "display_data"
    }
   ],
   "source": [
    "ax = sns.regplot(x = 'repayment_term', y = 'loan_amount', data = df)"
   ]
  },
  {
   "cell_type": "markdown",
   "id": "555ec025",
   "metadata": {},
   "source": [
    "#### 2. Scatter matrix\n",
    "\n",
    "when we have lots of continous variables, we could use a scatterplot matrix to view their relationship with the numerical features. "
   ]
  },
  {
   "cell_type": "code",
   "execution_count": 36,
   "id": "39d3ea41",
   "metadata": {},
   "outputs": [],
   "source": [
    "cols = ['lender_count', 'loan_amount', 'status']\n",
    "new_df = df[cols]"
   ]
  },
  {
   "cell_type": "code",
   "execution_count": 37,
   "id": "0cdd9766",
   "metadata": {},
   "outputs": [
    {
     "data": {
      "text/html": [
       "<div>\n",
       "<style scoped>\n",
       "    .dataframe tbody tr th:only-of-type {\n",
       "        vertical-align: middle;\n",
       "    }\n",
       "\n",
       "    .dataframe tbody tr th {\n",
       "        vertical-align: top;\n",
       "    }\n",
       "\n",
       "    .dataframe thead th {\n",
       "        text-align: right;\n",
       "    }\n",
       "</style>\n",
       "<table border=\"1\" class=\"dataframe\">\n",
       "  <thead>\n",
       "    <tr style=\"text-align: right;\">\n",
       "      <th></th>\n",
       "      <th>lender_count</th>\n",
       "      <th>loan_amount</th>\n",
       "      <th>status</th>\n",
       "    </tr>\n",
       "  </thead>\n",
       "  <tbody>\n",
       "    <tr>\n",
       "      <th>0</th>\n",
       "      <td>60</td>\n",
       "      <td>4825</td>\n",
       "      <td>funded</td>\n",
       "    </tr>\n",
       "    <tr>\n",
       "      <th>1</th>\n",
       "      <td>34</td>\n",
       "      <td>975</td>\n",
       "      <td>funded</td>\n",
       "    </tr>\n",
       "    <tr>\n",
       "      <th>2</th>\n",
       "      <td>25</td>\n",
       "      <td>950</td>\n",
       "      <td>funded</td>\n",
       "    </tr>\n",
       "    <tr>\n",
       "      <th>3</th>\n",
       "      <td>28</td>\n",
       "      <td>825</td>\n",
       "      <td>funded</td>\n",
       "    </tr>\n",
       "    <tr>\n",
       "      <th>4</th>\n",
       "      <td>21</td>\n",
       "      <td>725</td>\n",
       "      <td>funded</td>\n",
       "    </tr>\n",
       "    <tr>\n",
       "      <th>...</th>\n",
       "      <td>...</td>\n",
       "      <td>...</td>\n",
       "      <td>...</td>\n",
       "    </tr>\n",
       "    <tr>\n",
       "      <th>6014</th>\n",
       "      <td>8</td>\n",
       "      <td>200</td>\n",
       "      <td>funded</td>\n",
       "    </tr>\n",
       "    <tr>\n",
       "      <th>6015</th>\n",
       "      <td>8</td>\n",
       "      <td>200</td>\n",
       "      <td>funded</td>\n",
       "    </tr>\n",
       "    <tr>\n",
       "      <th>6016</th>\n",
       "      <td>6</td>\n",
       "      <td>200</td>\n",
       "      <td>funded</td>\n",
       "    </tr>\n",
       "    <tr>\n",
       "      <th>6017</th>\n",
       "      <td>8</td>\n",
       "      <td>200</td>\n",
       "      <td>funded</td>\n",
       "    </tr>\n",
       "    <tr>\n",
       "      <th>6018</th>\n",
       "      <td>8</td>\n",
       "      <td>200</td>\n",
       "      <td>funded</td>\n",
       "    </tr>\n",
       "  </tbody>\n",
       "</table>\n",
       "<p>6019 rows × 3 columns</p>\n",
       "</div>"
      ],
      "text/plain": [
       "      lender_count  loan_amount  status\n",
       "0               60         4825  funded\n",
       "1               34          975  funded\n",
       "2               25          950  funded\n",
       "3               28          825  funded\n",
       "4               21          725  funded\n",
       "...            ...          ...     ...\n",
       "6014             8          200  funded\n",
       "6015             8          200  funded\n",
       "6016             6          200  funded\n",
       "6017             8          200  funded\n",
       "6018             8          200  funded\n",
       "\n",
       "[6019 rows x 3 columns]"
      ]
     },
     "execution_count": 37,
     "metadata": {},
     "output_type": "execute_result"
    }
   ],
   "source": [
    "new_df"
   ]
  },
  {
   "cell_type": "code",
   "execution_count": 1,
   "id": "cec48495",
   "metadata": {},
   "outputs": [
    {
     "ename": "NameError",
     "evalue": "name 'new_df' is not defined",
     "output_type": "error",
     "traceback": [
      "\u001b[1;31m---------------------------------------------------------------------------\u001b[0m",
      "\u001b[1;31mNameError\u001b[0m                                 Traceback (most recent call last)",
      "\u001b[1;32mC:\\Users\\HAFEEZ~1\\AppData\\Local\\Temp/ipykernel_484/1432761067.py\u001b[0m in \u001b[0;36m<module>\u001b[1;34m\u001b[0m\n\u001b[0;32m      1\u001b[0m \u001b[1;31m#remove NaN so seaborn can plot\u001b[0m\u001b[1;33m\u001b[0m\u001b[1;33m\u001b[0m\u001b[0m\n\u001b[1;32m----> 2\u001b[1;33m \u001b[0mnew_df\u001b[0m \u001b[1;33m=\u001b[0m \u001b[0mnew_df\u001b[0m\u001b[1;33m.\u001b[0m\u001b[0mdropna\u001b[0m\u001b[1;33m(\u001b[0m\u001b[0maxis\u001b[0m \u001b[1;33m=\u001b[0m \u001b[1;36m0\u001b[0m\u001b[1;33m,\u001b[0m \u001b[0mhow\u001b[0m \u001b[1;33m=\u001b[0m \u001b[1;34m'any'\u001b[0m\u001b[1;33m)\u001b[0m\u001b[1;33m\u001b[0m\u001b[1;33m\u001b[0m\u001b[0m\n\u001b[0m\u001b[0;32m      3\u001b[0m \u001b[1;33m\u001b[0m\u001b[0m\n\u001b[0;32m      4\u001b[0m \u001b[1;31m#create a scatter plot along status distribution\u001b[0m\u001b[1;33m\u001b[0m\u001b[1;33m\u001b[0m\u001b[0m\n\u001b[0;32m      5\u001b[0m \u001b[0msns\u001b[0m\u001b[1;33m.\u001b[0m\u001b[0mpairplot\u001b[0m\u001b[1;33m(\u001b[0m\u001b[0mnew_df\u001b[0m\u001b[1;33m,\u001b[0m \u001b[0mhue\u001b[0m \u001b[1;33m=\u001b[0m \u001b[1;34m'status'\u001b[0m\u001b[1;33m)\u001b[0m\u001b[1;33m\u001b[0m\u001b[1;33m\u001b[0m\u001b[0m\n",
      "\u001b[1;31mNameError\u001b[0m: name 'new_df' is not defined"
     ]
    }
   ],
   "source": [
    "#remove NaN so seaborn can plot\n",
    "new_df = new_df.dropna(axis = 0, how = 'any')\n",
    "\n",
    "#create a scatter plot along status distribution\n",
    "sns.pairplot(new_df, hue = 'status')"
   ]
  },
  {
   "cell_type": "markdown",
   "id": "5b123a94",
   "metadata": {},
   "source": [
    "what can you say about the plotted data?\n",
    "did this new plot give more info about the features?\n",
    "if yes, what is the new detail "
   ]
  },
  {
   "cell_type": "code",
   "execution_count": 40,
   "id": "a51b82e3",
   "metadata": {},
   "outputs": [
    {
     "data": {
      "text/plain": [
       "array(['BJ', 'BW', 'BF', 'BI', 'CM', 'CG', 'CD', 'EG', 'GH', 'CI', 'KE',\n",
       "       'LS', 'LR', 'MG', 'MW', 'ML', 'MR', 'MZ', nan, 'NG', 'RW', 'SN',\n",
       "       'SL', 'SO', 'ZA', 'SS', 'TZ', 'TG', 'UG', 'ZM', 'ZW'], dtype=object)"
      ]
     },
     "execution_count": 40,
     "metadata": {},
     "output_type": "execute_result"
    }
   ],
   "source": [
    "df.location_country_code.unique()"
   ]
  },
  {
   "cell_type": "code",
   "execution_count": 41,
   "id": "feefef3b",
   "metadata": {},
   "outputs": [],
   "source": [
    "columns = ['lender_count', 'loan_amount', 'sector']\n",
    "num_df = df[columns]\n",
    "num_df = num_df.dropna(axis = 0, how = 'any')\n"
   ]
  },
  {
   "cell_type": "code",
   "execution_count": 44,
   "id": "a1d33962",
   "metadata": {},
   "outputs": [
    {
     "data": {
      "text/html": [
       "<div>\n",
       "<style scoped>\n",
       "    .dataframe tbody tr th:only-of-type {\n",
       "        vertical-align: middle;\n",
       "    }\n",
       "\n",
       "    .dataframe tbody tr th {\n",
       "        vertical-align: top;\n",
       "    }\n",
       "\n",
       "    .dataframe thead th {\n",
       "        text-align: right;\n",
       "    }\n",
       "</style>\n",
       "<table border=\"1\" class=\"dataframe\">\n",
       "  <thead>\n",
       "    <tr style=\"text-align: right;\">\n",
       "      <th></th>\n",
       "      <th>lender_count</th>\n",
       "      <th>loan_amount</th>\n",
       "      <th>sector</th>\n",
       "    </tr>\n",
       "  </thead>\n",
       "  <tbody>\n",
       "    <tr>\n",
       "      <th>0</th>\n",
       "      <td>60</td>\n",
       "      <td>4825</td>\n",
       "      <td>Retail</td>\n",
       "    </tr>\n",
       "    <tr>\n",
       "      <th>1</th>\n",
       "      <td>34</td>\n",
       "      <td>975</td>\n",
       "      <td>Food</td>\n",
       "    </tr>\n",
       "    <tr>\n",
       "      <th>2</th>\n",
       "      <td>25</td>\n",
       "      <td>950</td>\n",
       "      <td>Services</td>\n",
       "    </tr>\n",
       "    <tr>\n",
       "      <th>3</th>\n",
       "      <td>28</td>\n",
       "      <td>825</td>\n",
       "      <td>Retail</td>\n",
       "    </tr>\n",
       "    <tr>\n",
       "      <th>4</th>\n",
       "      <td>21</td>\n",
       "      <td>725</td>\n",
       "      <td>Retail</td>\n",
       "    </tr>\n",
       "    <tr>\n",
       "      <th>...</th>\n",
       "      <td>...</td>\n",
       "      <td>...</td>\n",
       "      <td>...</td>\n",
       "    </tr>\n",
       "    <tr>\n",
       "      <th>6014</th>\n",
       "      <td>8</td>\n",
       "      <td>200</td>\n",
       "      <td>Food</td>\n",
       "    </tr>\n",
       "    <tr>\n",
       "      <th>6015</th>\n",
       "      <td>8</td>\n",
       "      <td>200</td>\n",
       "      <td>Food</td>\n",
       "    </tr>\n",
       "    <tr>\n",
       "      <th>6016</th>\n",
       "      <td>6</td>\n",
       "      <td>200</td>\n",
       "      <td>Clothing</td>\n",
       "    </tr>\n",
       "    <tr>\n",
       "      <th>6017</th>\n",
       "      <td>8</td>\n",
       "      <td>200</td>\n",
       "      <td>Food</td>\n",
       "    </tr>\n",
       "    <tr>\n",
       "      <th>6018</th>\n",
       "      <td>8</td>\n",
       "      <td>200</td>\n",
       "      <td>Food</td>\n",
       "    </tr>\n",
       "  </tbody>\n",
       "</table>\n",
       "<p>6019 rows × 3 columns</p>\n",
       "</div>"
      ],
      "text/plain": [
       "      lender_count  loan_amount    sector\n",
       "0               60         4825    Retail\n",
       "1               34          975      Food\n",
       "2               25          950  Services\n",
       "3               28          825    Retail\n",
       "4               21          725    Retail\n",
       "...            ...          ...       ...\n",
       "6014             8          200      Food\n",
       "6015             8          200      Food\n",
       "6016             6          200  Clothing\n",
       "6017             8          200      Food\n",
       "6018             8          200      Food\n",
       "\n",
       "[6019 rows x 3 columns]"
      ]
     },
     "execution_count": 44,
     "metadata": {},
     "output_type": "execute_result"
    }
   ],
   "source": [
    "num_df"
   ]
  },
  {
   "cell_type": "code",
   "execution_count": 46,
   "id": "ac788cf6",
   "metadata": {
    "collapsed": true
   },
   "outputs": [
    {
     "data": {
      "text/plain": [
       "<seaborn.axisgrid.PairGrid at 0x1f3a06a7220>"
      ]
     },
     "execution_count": 46,
     "metadata": {},
     "output_type": "execute_result"
    },
    {
     "data": {
      "image/png": "[encoded data removed]",
      "text/plain": [
       "<Figure size 468.75x360 with 6 Axes>"
      ]
     },
     "metadata": {
      "needs_background": "light"
     },
     "output_type": "display_data"
    }
   ],
   "source": [
    "sns.pairplot(num_df, hue = 'sector')"
   ]
  },
  {
   "cell_type": "code",
   "execution_count": 51,
   "id": "ab77d81f",
   "metadata": {
    "collapsed": true
   },
   "outputs": [
    {
     "data": {
      "text/html": [
       "<div>\n",
       "<style scoped>\n",
       "    .dataframe tbody tr th:only-of-type {\n",
       "        vertical-align: middle;\n",
       "    }\n",
       "\n",
       "    .dataframe tbody tr th {\n",
       "        vertical-align: top;\n",
       "    }\n",
       "\n",
       "    .dataframe thead th {\n",
       "        text-align: right;\n",
       "    }\n",
       "</style>\n",
       "<table border=\"1\" class=\"dataframe\">\n",
       "  <thead>\n",
       "    <tr style=\"text-align: right;\">\n",
       "      <th></th>\n",
       "      <th>funded_amount</th>\n",
       "      <th>loan_amount</th>\n",
       "      <th>status</th>\n",
       "    </tr>\n",
       "  </thead>\n",
       "  <tbody>\n",
       "    <tr>\n",
       "      <th>0</th>\n",
       "      <td>4825</td>\n",
       "      <td>4825</td>\n",
       "      <td>funded</td>\n",
       "    </tr>\n",
       "    <tr>\n",
       "      <th>1</th>\n",
       "      <td>975</td>\n",
       "      <td>975</td>\n",
       "      <td>funded</td>\n",
       "    </tr>\n",
       "    <tr>\n",
       "      <th>2</th>\n",
       "      <td>950</td>\n",
       "      <td>950</td>\n",
       "      <td>funded</td>\n",
       "    </tr>\n",
       "    <tr>\n",
       "      <th>3</th>\n",
       "      <td>825</td>\n",
       "      <td>825</td>\n",
       "      <td>funded</td>\n",
       "    </tr>\n",
       "    <tr>\n",
       "      <th>4</th>\n",
       "      <td>725</td>\n",
       "      <td>725</td>\n",
       "      <td>funded</td>\n",
       "    </tr>\n",
       "    <tr>\n",
       "      <th>...</th>\n",
       "      <td>...</td>\n",
       "      <td>...</td>\n",
       "      <td>...</td>\n",
       "    </tr>\n",
       "    <tr>\n",
       "      <th>6014</th>\n",
       "      <td>200</td>\n",
       "      <td>200</td>\n",
       "      <td>funded</td>\n",
       "    </tr>\n",
       "    <tr>\n",
       "      <th>6015</th>\n",
       "      <td>200</td>\n",
       "      <td>200</td>\n",
       "      <td>funded</td>\n",
       "    </tr>\n",
       "    <tr>\n",
       "      <th>6016</th>\n",
       "      <td>200</td>\n",
       "      <td>200</td>\n",
       "      <td>funded</td>\n",
       "    </tr>\n",
       "    <tr>\n",
       "      <th>6017</th>\n",
       "      <td>200</td>\n",
       "      <td>200</td>\n",
       "      <td>funded</td>\n",
       "    </tr>\n",
       "    <tr>\n",
       "      <th>6018</th>\n",
       "      <td>200</td>\n",
       "      <td>200</td>\n",
       "      <td>funded</td>\n",
       "    </tr>\n",
       "  </tbody>\n",
       "</table>\n",
       "<p>6019 rows × 3 columns</p>\n",
       "</div>"
      ],
      "text/plain": [
       "      funded_amount  loan_amount  status\n",
       "0              4825         4825  funded\n",
       "1               975          975  funded\n",
       "2               950          950  funded\n",
       "3               825          825  funded\n",
       "4               725          725  funded\n",
       "...             ...          ...     ...\n",
       "6014            200          200  funded\n",
       "6015            200          200  funded\n",
       "6016            200          200  funded\n",
       "6017            200          200  funded\n",
       "6018            200          200  funded\n",
       "\n",
       "[6019 rows x 3 columns]"
      ]
     },
     "execution_count": 51,
     "metadata": {},
     "output_type": "execute_result"
    }
   ],
   "source": [
    "column = ['funded_amount', 'loan_amount', 'status']\n",
    "df2 = df[column]\n",
    "df2 = df2.dropna(axis = 0, how = 'any')\n",
    "df2"
   ]
  },
  {
   "cell_type": "code",
   "execution_count": 52,
   "id": "ca2b5e4d",
   "metadata": {
    "collapsed": true
   },
   "outputs": [
    {
     "data": {
      "text/plain": [
       "<seaborn.axisgrid.PairGrid at 0x1f3a0ca95b0>"
      ]
     },
     "execution_count": 52,
     "metadata": {},
     "output_type": "execute_result"
    },
    {
     "data": {
      "image/png": "[encoded data removed]",
      "text/plain": [
       "<Figure size 452.75x360 with 6 Axes>"
      ]
     },
     "metadata": {
      "needs_background": "light"
     },
     "output_type": "display_data"
    }
   ],
   "source": [
    "sns.pairplot(df2, hue ='status')"
   ]
  },
  {
   "cell_type": "markdown",
   "id": "d87c1ea4",
   "metadata": {},
   "source": [
    "#### 3. Histogram\n",
    "\n",
    "Histogram is useful for looking at the distribution of a single variable or column\n",
    "it helps in identifying skewness and conseqquently ouliers. it shows count of the data."
   ]
  },
  {
   "cell_type": "code",
   "execution_count": 57,
   "id": "2892700b",
   "metadata": {},
   "outputs": [
    {
     "name": "stderr",
     "output_type": "stream",
     "text": [
      "C:\\Users\\User\\anaconda3\\lib\\site-packages\\seaborn\\distributions.py:2619: FutureWarning: `distplot` is a deprecated function and will be removed in a future version. Please adapt your code to use either `displot` (a figure-level function with similar flexibility) or `histplot` (an axes-level function for histograms).\n",
      "  warnings.warn(msg, FutureWarning)\n"
     ]
    },
    {
     "data": {
      "text/plain": [
       "<AxesSubplot:xlabel='loan_amount', ylabel='Density'>"
      ]
     },
     "execution_count": 57,
     "metadata": {},
     "output_type": "execute_result"
    },
    {
     "data": {
      "image/png": "[encoded data removed]",
      "text/plain": [
       "<Figure size 432x288 with 1 Axes>"
      ]
     },
     "metadata": {
      "needs_background": "light"
     },
     "output_type": "display_data"
    }
   ],
   "source": [
    "sns.distplot(df.loan_amount.dropna(axis=0))"
   ]
  },
  {
   "cell_type": "code",
   "execution_count": 55,
   "id": "a1c2dac1",
   "metadata": {},
   "outputs": [
    {
     "data": {
      "text/plain": [
       "<seaborn.axisgrid.FacetGrid at 0x1f3a0e017c0>"
      ]
     },
     "execution_count": 55,
     "metadata": {},
     "output_type": "execute_result"
    },
    {
     "data": {
      "image/png": "[encoded data removed]",
      "text/plain": [
       "<Figure size 360x360 with 1 Axes>"
      ]
     },
     "metadata": {
      "needs_background": "light"
     },
     "output_type": "display_data"
    }
   ],
   "source": [
    "sns.displot(df['loan_amount'].dropna(axis=0))"
   ]
  },
  {
   "cell_type": "markdown",
   "id": "3c1cb387",
   "metadata": {},
   "source": [
    "#### check this later\n",
    "- is there a higher occurence of small loans than big loan? How can you tell ?\n",
    "- is the distribution skewed? \n",
    "- what might this type of skewnwss be telling us?\n",
    "- how can we deal with a skewed distribution, speccially?\n",
    "- coud the seeming skewness be caused by outliers?"
   ]
  },
  {
   "cell_type": "code",
   "execution_count": 58,
   "id": "a57ca0fd",
   "metadata": {},
   "outputs": [
    {
     "data": {
      "text/html": [
       "<div>\n",
       "<style scoped>\n",
       "    .dataframe tbody tr th:only-of-type {\n",
       "        vertical-align: middle;\n",
       "    }\n",
       "\n",
       "    .dataframe tbody tr th {\n",
       "        vertical-align: top;\n",
       "    }\n",
       "\n",
       "    .dataframe thead th {\n",
       "        text-align: right;\n",
       "    }\n",
       "</style>\n",
       "<table border=\"1\" class=\"dataframe\">\n",
       "  <thead>\n",
       "    <tr style=\"text-align: right;\">\n",
       "      <th></th>\n",
       "      <th>id_number</th>\n",
       "      <th>loan_amount</th>\n",
       "      <th>lender_count</th>\n",
       "      <th>status</th>\n",
       "      <th>funded_date</th>\n",
       "      <th>funded_amount</th>\n",
       "      <th>repayment_term</th>\n",
       "      <th>location_country_code</th>\n",
       "      <th>sector</th>\n",
       "      <th>description</th>\n",
       "      <th>use</th>\n",
       "    </tr>\n",
       "  </thead>\n",
       "  <tbody>\n",
       "    <tr>\n",
       "      <th>0</th>\n",
       "      <td>736066</td>\n",
       "      <td>4825</td>\n",
       "      <td>60</td>\n",
       "      <td>funded</td>\n",
       "      <td>2014-08-03T17:51:50Z</td>\n",
       "      <td>4825</td>\n",
       "      <td>8</td>\n",
       "      <td>BJ</td>\n",
       "      <td>Retail</td>\n",
       "      <td>NaN</td>\n",
       "      <td>NaN</td>\n",
       "    </tr>\n",
       "    <tr>\n",
       "      <th>1</th>\n",
       "      <td>743090</td>\n",
       "      <td>975</td>\n",
       "      <td>34</td>\n",
       "      <td>funded</td>\n",
       "      <td>2014-08-18T09:10:54Z</td>\n",
       "      <td>975</td>\n",
       "      <td>12</td>\n",
       "      <td>BJ</td>\n",
       "      <td>Food</td>\n",
       "      <td>NaN</td>\n",
       "      <td>NaN</td>\n",
       "    </tr>\n",
       "    <tr>\n",
       "      <th>2</th>\n",
       "      <td>743120</td>\n",
       "      <td>950</td>\n",
       "      <td>25</td>\n",
       "      <td>funded</td>\n",
       "      <td>2014-08-09T17:46:35Z</td>\n",
       "      <td>950</td>\n",
       "      <td>14</td>\n",
       "      <td>BJ</td>\n",
       "      <td>Services</td>\n",
       "      <td>NaN</td>\n",
       "      <td>NaN</td>\n",
       "    </tr>\n",
       "    <tr>\n",
       "      <th>3</th>\n",
       "      <td>743121</td>\n",
       "      <td>825</td>\n",
       "      <td>28</td>\n",
       "      <td>funded</td>\n",
       "      <td>2014-08-24T17:00:38Z</td>\n",
       "      <td>825</td>\n",
       "      <td>14</td>\n",
       "      <td>BJ</td>\n",
       "      <td>Retail</td>\n",
       "      <td>NaN</td>\n",
       "      <td>NaN</td>\n",
       "    </tr>\n",
       "    <tr>\n",
       "      <th>4</th>\n",
       "      <td>743124</td>\n",
       "      <td>725</td>\n",
       "      <td>21</td>\n",
       "      <td>funded</td>\n",
       "      <td>2014-08-25T03:24:54Z</td>\n",
       "      <td>725</td>\n",
       "      <td>13</td>\n",
       "      <td>BJ</td>\n",
       "      <td>Retail</td>\n",
       "      <td>NaN</td>\n",
       "      <td>NaN</td>\n",
       "    </tr>\n",
       "    <tr>\n",
       "      <th>...</th>\n",
       "      <td>...</td>\n",
       "      <td>...</td>\n",
       "      <td>...</td>\n",
       "      <td>...</td>\n",
       "      <td>...</td>\n",
       "      <td>...</td>\n",
       "      <td>...</td>\n",
       "      <td>...</td>\n",
       "      <td>...</td>\n",
       "      <td>...</td>\n",
       "      <td>...</td>\n",
       "    </tr>\n",
       "    <tr>\n",
       "      <th>6014</th>\n",
       "      <td>1568871</td>\n",
       "      <td>200</td>\n",
       "      <td>8</td>\n",
       "      <td>funded</td>\n",
       "      <td>2018-07-19T15:14:35Z</td>\n",
       "      <td>200</td>\n",
       "      <td>14</td>\n",
       "      <td>ZW</td>\n",
       "      <td>Food</td>\n",
       "      <td>Sethukelo is a 19-year-old entrepreneur who li...</td>\n",
       "      <td>to purchase goods for starting a grocery store.</td>\n",
       "    </tr>\n",
       "    <tr>\n",
       "      <th>6015</th>\n",
       "      <td>1568880</td>\n",
       "      <td>200</td>\n",
       "      <td>8</td>\n",
       "      <td>funded</td>\n",
       "      <td>2018-07-19T19:22:43Z</td>\n",
       "      <td>200</td>\n",
       "      <td>14</td>\n",
       "      <td>ZW</td>\n",
       "      <td>Food</td>\n",
       "      <td>Hlanjiwe is a 20-year-old entrepreneur who liv...</td>\n",
       "      <td>to buy grocery goods for her business.</td>\n",
       "    </tr>\n",
       "    <tr>\n",
       "      <th>6016</th>\n",
       "      <td>1568883</td>\n",
       "      <td>200</td>\n",
       "      <td>6</td>\n",
       "      <td>funded</td>\n",
       "      <td>2018-07-19T20:18:53Z</td>\n",
       "      <td>200</td>\n",
       "      <td>14</td>\n",
       "      <td>ZW</td>\n",
       "      <td>Clothing</td>\n",
       "      <td>Lebuhani is a 21-year-old entrepreneur who liv...</td>\n",
       "      <td>to buy clothes for her business.</td>\n",
       "    </tr>\n",
       "    <tr>\n",
       "      <th>6017</th>\n",
       "      <td>1568887</td>\n",
       "      <td>200</td>\n",
       "      <td>8</td>\n",
       "      <td>funded</td>\n",
       "      <td>2018-07-18T23:38:44Z</td>\n",
       "      <td>200</td>\n",
       "      <td>14</td>\n",
       "      <td>ZW</td>\n",
       "      <td>Food</td>\n",
       "      <td>Jacqueline is a 23-year-old entrepreneur who l...</td>\n",
       "      <td>her to buy goods to sell in her store.</td>\n",
       "    </tr>\n",
       "    <tr>\n",
       "      <th>6018</th>\n",
       "      <td>1568890</td>\n",
       "      <td>200</td>\n",
       "      <td>8</td>\n",
       "      <td>funded</td>\n",
       "      <td>2018-07-19T16:54:18Z</td>\n",
       "      <td>200</td>\n",
       "      <td>14</td>\n",
       "      <td>ZW</td>\n",
       "      <td>Food</td>\n",
       "      <td>Delligent is a 23-year-old entrepreneur who li...</td>\n",
       "      <td>to buy grocery goods for her business.</td>\n",
       "    </tr>\n",
       "  </tbody>\n",
       "</table>\n",
       "<p>5611 rows × 11 columns</p>\n",
       "</div>"
      ],
      "text/plain": [
       "      id_number  loan_amount  lender_count  status           funded_date  \\\n",
       "0        736066         4825            60  funded  2014-08-03T17:51:50Z   \n",
       "1        743090          975            34  funded  2014-08-18T09:10:54Z   \n",
       "2        743120          950            25  funded  2014-08-09T17:46:35Z   \n",
       "3        743121          825            28  funded  2014-08-24T17:00:38Z   \n",
       "4        743124          725            21  funded  2014-08-25T03:24:54Z   \n",
       "...         ...          ...           ...     ...                   ...   \n",
       "6014    1568871          200             8  funded  2018-07-19T15:14:35Z   \n",
       "6015    1568880          200             8  funded  2018-07-19T19:22:43Z   \n",
       "6016    1568883          200             6  funded  2018-07-19T20:18:53Z   \n",
       "6017    1568887          200             8  funded  2018-07-18T23:38:44Z   \n",
       "6018    1568890          200             8  funded  2018-07-19T16:54:18Z   \n",
       "\n",
       "      funded_amount  repayment_term location_country_code    sector  \\\n",
       "0              4825               8                    BJ    Retail   \n",
       "1               975              12                    BJ      Food   \n",
       "2               950              14                    BJ  Services   \n",
       "3               825              14                    BJ    Retail   \n",
       "4               725              13                    BJ    Retail   \n",
       "...             ...             ...                   ...       ...   \n",
       "6014            200              14                    ZW      Food   \n",
       "6015            200              14                    ZW      Food   \n",
       "6016            200              14                    ZW  Clothing   \n",
       "6017            200              14                    ZW      Food   \n",
       "6018            200              14                    ZW      Food   \n",
       "\n",
       "                                            description  \\\n",
       "0                                                   NaN   \n",
       "1                                                   NaN   \n",
       "2                                                   NaN   \n",
       "3                                                   NaN   \n",
       "4                                                   NaN   \n",
       "...                                                 ...   \n",
       "6014  Sethukelo is a 19-year-old entrepreneur who li...   \n",
       "6015  Hlanjiwe is a 20-year-old entrepreneur who liv...   \n",
       "6016  Lebuhani is a 21-year-old entrepreneur who liv...   \n",
       "6017  Jacqueline is a 23-year-old entrepreneur who l...   \n",
       "6018  Delligent is a 23-year-old entrepreneur who li...   \n",
       "\n",
       "                                                  use  \n",
       "0                                                 NaN  \n",
       "1                                                 NaN  \n",
       "2                                                 NaN  \n",
       "3                                                 NaN  \n",
       "4                                                 NaN  \n",
       "...                                               ...  \n",
       "6014  to purchase goods for starting a grocery store.  \n",
       "6015           to buy grocery goods for her business.  \n",
       "6016                 to buy clothes for her business.  \n",
       "6017           her to buy goods to sell in her store.  \n",
       "6018           to buy grocery goods for her business.  \n",
       "\n",
       "[5611 rows x 11 columns]"
      ]
     },
     "execution_count": 58,
     "metadata": {},
     "output_type": "execute_result"
    }
   ],
   "source": [
    "#loan amount less than 5000\n",
    "\n",
    "small_loan = df[(df['loan_amount'] < 5000)]\n",
    "small_loan\n"
   ]
  },
  {
   "cell_type": "code",
   "execution_count": 59,
   "id": "c5acf416",
   "metadata": {
    "scrolled": true
   },
   "outputs": [
    {
     "name": "stderr",
     "output_type": "stream",
     "text": [
      "C:\\Users\\User\\AppData\\Local\\Temp\\ipykernel_19236\\2169251887.py:1: FutureWarning: Dropping of nuisance columns in DataFrame reductions (with 'numeric_only=None') is deprecated; in a future version this will raise TypeError.  Select only valid columns before calling the reduction.\n",
      "  small_loan.min()\n"
     ]
    },
    {
     "data": {
      "text/plain": [
       "id_number               13772\n",
       "loan_amount                50\n",
       "lender_count                0\n",
       "status                expired\n",
       "funded_amount               0\n",
       "repayment_term              3\n",
       "sector            Agriculture\n",
       "dtype: object"
      ]
     },
     "execution_count": 59,
     "metadata": {},
     "output_type": "execute_result"
    }
   ],
   "source": [
    "small_loan.min()"
   ]
  },
  {
   "cell_type": "code",
   "execution_count": 60,
   "id": "5da643d4",
   "metadata": {
    "scrolled": true
   },
   "outputs": [
    {
     "name": "stderr",
     "output_type": "stream",
     "text": [
      "C:\\Users\\User\\anaconda3\\lib\\site-packages\\seaborn\\distributions.py:2619: FutureWarning: `distplot` is a deprecated function and will be removed in a future version. Please adapt your code to use either `displot` (a figure-level function with similar flexibility) or `histplot` (an axes-level function for histograms).\n",
      "  warnings.warn(msg, FutureWarning)\n"
     ]
    },
    {
     "data": {
      "text/plain": [
       "<AxesSubplot:xlabel='loan_amount', ylabel='Density'>"
      ]
     },
     "execution_count": 60,
     "metadata": {},
     "output_type": "execute_result"
    },
    {
     "data": {
      "image/png": "[encoded data removed]",
      "text/plain": [
       "<Figure size 432x288 with 1 Axes>"
      ]
     },
     "metadata": {
      "needs_background": "light"
     },
     "output_type": "display_data"
    }
   ],
   "source": [
    "sns.distplot(small_loan['loan_amount'])"
   ]
  },
  {
   "cell_type": "code",
   "execution_count": 78,
   "id": "b219b836",
   "metadata": {},
   "outputs": [
    {
     "data": {
      "text/plain": [
       "<seaborn.axisgrid.FacetGrid at 0x1f3a3343f70>"
      ]
     },
     "execution_count": 78,
     "metadata": {},
     "output_type": "execute_result"
    },
    {
     "data": {
      "image/png": "[encoded data removed]",
      "text/plain": [
       "<Figure size 360x360 with 1 Axes>"
      ]
     },
     "metadata": {
      "needs_background": "light"
     },
     "output_type": "display_data"
    }
   ],
   "source": [
    "sns.displot(small_loan['loan_amount'])"
   ]
  },
  {
   "cell_type": "markdown",
   "id": "13fe3460",
   "metadata": {},
   "source": [
    "#### 5. Bar Plot"
   ]
  },
  {
   "cell_type": "code",
   "execution_count": 1,
   "id": "9f92db33",
   "metadata": {},
   "outputs": [
    {
     "ename": "NameError",
     "evalue": "name 'sns' is not defined",
     "output_type": "error",
     "traceback": [
      "\u001b[1;31m---------------------------------------------------------------------------\u001b[0m",
      "\u001b[1;31mNameError\u001b[0m                                 Traceback (most recent call last)",
      "\u001b[1;32mC:\\Users\\HAFEEZ~1\\AppData\\Local\\Temp/ipykernel_7460/3444423752.py\u001b[0m in \u001b[0;36m<module>\u001b[1;34m\u001b[0m\n\u001b[1;32m----> 1\u001b[1;33m \u001b[0mp\u001b[0m \u001b[1;33m=\u001b[0m \u001b[0msns\u001b[0m\u001b[1;33m.\u001b[0m\u001b[0mbarplot\u001b[0m\u001b[1;33m(\u001b[0m\u001b[0mx\u001b[0m \u001b[1;33m=\u001b[0m \u001b[1;34m'sector'\u001b[0m\u001b[1;33m,\u001b[0m \u001b[0my\u001b[0m \u001b[1;33m=\u001b[0m \u001b[1;34m'loan_amount'\u001b[0m\u001b[1;33m,\u001b[0m \u001b[0mdata\u001b[0m \u001b[1;33m=\u001b[0m \u001b[0mdf\u001b[0m\u001b[1;33m,\u001b[0m \u001b[0mestimator\u001b[0m \u001b[1;33m=\u001b[0m \u001b[0mnp\u001b[0m\u001b[1;33m.\u001b[0m\u001b[0mmean\u001b[0m\u001b[1;33m)\u001b[0m\u001b[1;33m;\u001b[0m\u001b[1;33m\u001b[0m\u001b[1;33m\u001b[0m\u001b[0m\n\u001b[0m\u001b[0;32m      2\u001b[0m \u001b[0mp\u001b[0m\u001b[1;33m.\u001b[0m\u001b[0mset\u001b[0m\u001b[1;33m(\u001b[0m\u001b[0mtitle\u001b[0m \u001b[1;33m=\u001b[0m \u001b[1;34m'Average loan amount by sector'\u001b[0m\u001b[1;33m)\u001b[0m\u001b[1;33m;\u001b[0m\u001b[1;33m\u001b[0m\u001b[1;33m\u001b[0m\u001b[0m\n\u001b[0;32m      3\u001b[0m \u001b[0mp\u001b[0m\u001b[1;33m.\u001b[0m\u001b[0mset_xticklabels\u001b[0m\u001b[1;33m(\u001b[0m\u001b[0mp\u001b[0m\u001b[1;33m.\u001b[0m\u001b[0mget_xticklabels\u001b[0m\u001b[1;33m(\u001b[0m\u001b[1;33m)\u001b[0m\u001b[1;33m,\u001b[0m \u001b[0mrotation\u001b[0m \u001b[1;33m=\u001b[0m \u001b[1;33m-\u001b[0m\u001b[1;36m4\u001b[0m\u001b[1;33m)\u001b[0m\u001b[1;33m;\u001b[0m\u001b[1;33m\u001b[0m\u001b[1;33m\u001b[0m\u001b[0m\n",
      "\u001b[1;31mNameError\u001b[0m: name 'sns' is not defined"
     ]
    }
   ],
   "source": [
    "p = sns.barplot(x = 'sector', y = 'loan_amount', data = df, estimator = np.mean);\n",
    "p.set(title = 'Average loan amount by sector');\n",
    "p.set_xticklabels(p.get_xticklabels(), rotation = -4);"
   ]
  },
  {
   "cell_type": "code",
   "execution_count": 63,
   "id": "14761361",
   "metadata": {},
   "outputs": [
    {
     "data": {
      "text/plain": [
       "[Text(0, 0, 'Retail'),\n",
       " Text(1, 0, 'Food'),\n",
       " Text(2, 0, 'Services'),\n",
       " Text(3, 0, 'Clothing'),\n",
       " Text(4, 0, 'Arts'),\n",
       " Text(5, 0, 'Agriculture'),\n",
       " Text(6, 0, 'Manufacturing'),\n",
       " Text(7, 0, 'Construction'),\n",
       " Text(8, 0, 'Wholesale'),\n",
       " Text(9, 0, 'Health'),\n",
       " Text(10, 0, 'Transportation'),\n",
       " Text(11, 0, 'Education'),\n",
       " Text(12, 0, 'Housing'),\n",
       " Text(13, 0, 'Personal Use')]"
      ]
     },
     "execution_count": 63,
     "metadata": {},
     "output_type": "execute_result"
    },
    {
     "data": {
      "image/png": "[encoded data removed]",
      "text/plain": [
       "<Figure size 432x288 with 1 Axes>"
      ]
     },
     "metadata": {
      "needs_background": "light"
     },
     "output_type": "display_data"
    }
   ],
   "source": [
    "p = sns.barplot(x = 'sector', y = 'loan_amount', data = df, estimator = np.sum);\n",
    "p.set(title = 'Total loan amount by sector')\n",
    "p.set_xticklabels(p.get_xticklabels(), rotation = -45)"
   ]
  },
  {
   "cell_type": "markdown",
   "id": "241e571a",
   "metadata": {},
   "source": [
    "1. For graphs, which sector has the largest total and average loan amount?\n",
    "2. If the sectors are diff why do you think it happened?"
   ]
  },
  {
   "cell_type": "markdown",
   "id": "00e4a623",
   "metadata": {},
   "source": [
    "#### 6. Box plot\n",
    "\n",
    " A box plot describes five major summaries (min, first quartile, second quartile/median, third quartile and max).\n",
    "\n",
    "- The central rectangle spans the first quartile to the 3rd (IQR).\n",
    "- there is a (segment) line in the rectangle that shows the median\n",
    "- the whiskers above and below the plot shows the max and min values"
   ]
  },
  {
   "cell_type": "code",
   "execution_count": 66,
   "id": "ae3ea7aa",
   "metadata": {
    "collapsed": true
   },
   "outputs": [
    {
     "data": {
      "text/html": [
       "<div>\n",
       "<style scoped>\n",
       "    .dataframe tbody tr th:only-of-type {\n",
       "        vertical-align: middle;\n",
       "    }\n",
       "\n",
       "    .dataframe tbody tr th {\n",
       "        vertical-align: top;\n",
       "    }\n",
       "\n",
       "    .dataframe thead th {\n",
       "        text-align: right;\n",
       "    }\n",
       "</style>\n",
       "<table border=\"1\" class=\"dataframe\">\n",
       "  <thead>\n",
       "    <tr style=\"text-align: right;\">\n",
       "      <th></th>\n",
       "      <th>id_number</th>\n",
       "      <th>loan_amount</th>\n",
       "      <th>lender_count</th>\n",
       "      <th>status</th>\n",
       "      <th>funded_date</th>\n",
       "      <th>funded_amount</th>\n",
       "      <th>repayment_term</th>\n",
       "      <th>location_country_code</th>\n",
       "      <th>sector</th>\n",
       "      <th>description</th>\n",
       "      <th>use</th>\n",
       "    </tr>\n",
       "  </thead>\n",
       "  <tbody>\n",
       "    <tr>\n",
       "      <th>0</th>\n",
       "      <td>736066</td>\n",
       "      <td>4825</td>\n",
       "      <td>60</td>\n",
       "      <td>funded</td>\n",
       "      <td>2014-08-03T17:51:50Z</td>\n",
       "      <td>4825</td>\n",
       "      <td>8</td>\n",
       "      <td>BJ</td>\n",
       "      <td>Retail</td>\n",
       "      <td>NaN</td>\n",
       "      <td>NaN</td>\n",
       "    </tr>\n",
       "    <tr>\n",
       "      <th>3</th>\n",
       "      <td>743121</td>\n",
       "      <td>825</td>\n",
       "      <td>28</td>\n",
       "      <td>funded</td>\n",
       "      <td>2014-08-24T17:00:38Z</td>\n",
       "      <td>825</td>\n",
       "      <td>14</td>\n",
       "      <td>BJ</td>\n",
       "      <td>Retail</td>\n",
       "      <td>NaN</td>\n",
       "      <td>NaN</td>\n",
       "    </tr>\n",
       "    <tr>\n",
       "      <th>4</th>\n",
       "      <td>743124</td>\n",
       "      <td>725</td>\n",
       "      <td>21</td>\n",
       "      <td>funded</td>\n",
       "      <td>2014-08-25T03:24:54Z</td>\n",
       "      <td>725</td>\n",
       "      <td>13</td>\n",
       "      <td>BJ</td>\n",
       "      <td>Retail</td>\n",
       "      <td>NaN</td>\n",
       "      <td>NaN</td>\n",
       "    </tr>\n",
       "    <tr>\n",
       "      <th>5</th>\n",
       "      <td>743125</td>\n",
       "      <td>725</td>\n",
       "      <td>27</td>\n",
       "      <td>funded</td>\n",
       "      <td>2014-08-18T23:08:00Z</td>\n",
       "      <td>725</td>\n",
       "      <td>13</td>\n",
       "      <td>BJ</td>\n",
       "      <td>Retail</td>\n",
       "      <td>NaN</td>\n",
       "      <td>NaN</td>\n",
       "    </tr>\n",
       "    <tr>\n",
       "      <th>6</th>\n",
       "      <td>743130</td>\n",
       "      <td>725</td>\n",
       "      <td>27</td>\n",
       "      <td>funded</td>\n",
       "      <td>2014-08-19T12:14:49Z</td>\n",
       "      <td>725</td>\n",
       "      <td>13</td>\n",
       "      <td>BJ</td>\n",
       "      <td>Retail</td>\n",
       "      <td>NaN</td>\n",
       "      <td>NaN</td>\n",
       "    </tr>\n",
       "    <tr>\n",
       "      <th>...</th>\n",
       "      <td>...</td>\n",
       "      <td>...</td>\n",
       "      <td>...</td>\n",
       "      <td>...</td>\n",
       "      <td>...</td>\n",
       "      <td>...</td>\n",
       "      <td>...</td>\n",
       "      <td>...</td>\n",
       "      <td>...</td>\n",
       "      <td>...</td>\n",
       "      <td>...</td>\n",
       "    </tr>\n",
       "    <tr>\n",
       "      <th>5990</th>\n",
       "      <td>1569437</td>\n",
       "      <td>200</td>\n",
       "      <td>5</td>\n",
       "      <td>funded</td>\n",
       "      <td>2018-07-20T13:34:34Z</td>\n",
       "      <td>200</td>\n",
       "      <td>14</td>\n",
       "      <td>ZW</td>\n",
       "      <td>Retail</td>\n",
       "      <td>Anna is an 18-year-old entrepreneur who lives ...</td>\n",
       "      <td>to start her own grocery shop, selling sweets,...</td>\n",
       "    </tr>\n",
       "    <tr>\n",
       "      <th>5991</th>\n",
       "      <td>1569452</td>\n",
       "      <td>200</td>\n",
       "      <td>8</td>\n",
       "      <td>funded</td>\n",
       "      <td>2018-07-21T15:30:14Z</td>\n",
       "      <td>200</td>\n",
       "      <td>14</td>\n",
       "      <td>ZW</td>\n",
       "      <td>Retail</td>\n",
       "      <td>Beverly is a 21-year-old entrepreneur who live...</td>\n",
       "      <td>to purchase more groceries to sell and expand ...</td>\n",
       "    </tr>\n",
       "    <tr>\n",
       "      <th>5994</th>\n",
       "      <td>1569464</td>\n",
       "      <td>200</td>\n",
       "      <td>8</td>\n",
       "      <td>funded</td>\n",
       "      <td>2018-07-21T11:30:11Z</td>\n",
       "      <td>200</td>\n",
       "      <td>14</td>\n",
       "      <td>ZW</td>\n",
       "      <td>Retail</td>\n",
       "      <td>Princess is a 20-year-old entrepreneur who liv...</td>\n",
       "      <td>to purchase hair products.</td>\n",
       "    </tr>\n",
       "    <tr>\n",
       "      <th>5995</th>\n",
       "      <td>1569471</td>\n",
       "      <td>200</td>\n",
       "      <td>7</td>\n",
       "      <td>funded</td>\n",
       "      <td>2018-07-20T14:19:48Z</td>\n",
       "      <td>200</td>\n",
       "      <td>14</td>\n",
       "      <td>ZW</td>\n",
       "      <td>Retail</td>\n",
       "      <td>Edith is a 23-year-old entrepreneur who lives ...</td>\n",
       "      <td>to start her own grocery shop selling differen...</td>\n",
       "    </tr>\n",
       "    <tr>\n",
       "      <th>6012</th>\n",
       "      <td>1568857</td>\n",
       "      <td>200</td>\n",
       "      <td>7</td>\n",
       "      <td>funded</td>\n",
       "      <td>2018-07-19T02:00:45Z</td>\n",
       "      <td>200</td>\n",
       "      <td>14</td>\n",
       "      <td>ZW</td>\n",
       "      <td>Retail</td>\n",
       "      <td>Clara is a 19-year-old entrepreneur who lives ...</td>\n",
       "      <td>to start her own grocery shop, where she will ...</td>\n",
       "    </tr>\n",
       "  </tbody>\n",
       "</table>\n",
       "<p>1314 rows × 11 columns</p>\n",
       "</div>"
      ],
      "text/plain": [
       "      id_number  loan_amount  lender_count  status           funded_date  \\\n",
       "0        736066         4825            60  funded  2014-08-03T17:51:50Z   \n",
       "3        743121          825            28  funded  2014-08-24T17:00:38Z   \n",
       "4        743124          725            21  funded  2014-08-25T03:24:54Z   \n",
       "5        743125          725            27  funded  2014-08-18T23:08:00Z   \n",
       "6        743130          725            27  funded  2014-08-19T12:14:49Z   \n",
       "...         ...          ...           ...     ...                   ...   \n",
       "5990    1569437          200             5  funded  2018-07-20T13:34:34Z   \n",
       "5991    1569452          200             8  funded  2018-07-21T15:30:14Z   \n",
       "5994    1569464          200             8  funded  2018-07-21T11:30:11Z   \n",
       "5995    1569471          200             7  funded  2018-07-20T14:19:48Z   \n",
       "6012    1568857          200             7  funded  2018-07-19T02:00:45Z   \n",
       "\n",
       "      funded_amount  repayment_term location_country_code  sector  \\\n",
       "0              4825               8                    BJ  Retail   \n",
       "3               825              14                    BJ  Retail   \n",
       "4               725              13                    BJ  Retail   \n",
       "5               725              13                    BJ  Retail   \n",
       "6               725              13                    BJ  Retail   \n",
       "...             ...             ...                   ...     ...   \n",
       "5990            200              14                    ZW  Retail   \n",
       "5991            200              14                    ZW  Retail   \n",
       "5994            200              14                    ZW  Retail   \n",
       "5995            200              14                    ZW  Retail   \n",
       "6012            200              14                    ZW  Retail   \n",
       "\n",
       "                                            description  \\\n",
       "0                                                   NaN   \n",
       "3                                                   NaN   \n",
       "4                                                   NaN   \n",
       "5                                                   NaN   \n",
       "6                                                   NaN   \n",
       "...                                                 ...   \n",
       "5990  Anna is an 18-year-old entrepreneur who lives ...   \n",
       "5991  Beverly is a 21-year-old entrepreneur who live...   \n",
       "5994  Princess is a 20-year-old entrepreneur who liv...   \n",
       "5995  Edith is a 23-year-old entrepreneur who lives ...   \n",
       "6012  Clara is a 19-year-old entrepreneur who lives ...   \n",
       "\n",
       "                                                    use  \n",
       "0                                                   NaN  \n",
       "3                                                   NaN  \n",
       "4                                                   NaN  \n",
       "5                                                   NaN  \n",
       "6                                                   NaN  \n",
       "...                                                 ...  \n",
       "5990  to start her own grocery shop, selling sweets,...  \n",
       "5991  to purchase more groceries to sell and expand ...  \n",
       "5994                         to purchase hair products.  \n",
       "5995  to start her own grocery shop selling differen...  \n",
       "6012  to start her own grocery shop, where she will ...  \n",
       "\n",
       "[1314 rows x 11 columns]"
      ]
     },
     "execution_count": 66,
     "metadata": {},
     "output_type": "execute_result"
    }
   ],
   "source": [
    "df_retail = df[df.sector=='Retail']\n",
    "df_retail"
   ]
  },
  {
   "cell_type": "code",
   "execution_count": 65,
   "id": "dd26de9e",
   "metadata": {
    "collapsed": true
   },
   "outputs": [
    {
     "data": {
      "image/png": "[encoded data removed]",
      "text/plain": [
       "<Figure size 432x288 with 1 Axes>"
      ]
     },
     "metadata": {
      "needs_background": "light"
     },
     "output_type": "display_data"
    }
   ],
   "source": [
    "sector = 'Retail'\n",
    "df_sector = df[df.sector==sector]\n",
    "p = sns.boxplot(x = 'sector', y = 'loan_amount', data = df_sector)\n",
    "\n",
    "p.set(title = f'Loan amounts for {sector}')\n",
    "p.set_xticklabels(p.get_xticklabels(), rotation = -45);"
   ]
  },
  {
   "cell_type": "code",
   "execution_count": 71,
   "id": "fac39e58",
   "metadata": {
    "collapsed": true
   },
   "outputs": [
    {
     "data": {
      "image/png": "[encoded data removed]",
      "text/plain": [
       "<Figure size 504x1296 with 1 Axes>"
      ]
     },
     "metadata": {
      "needs_background": "light"
     },
     "output_type": "display_data"
    }
   ],
   "source": [
    "fig,p = plt.subplots(figsize =(7, 18))\n",
    "sector = 'Health'\n",
    "df_sector = df[df.sector==sector]\n",
    "p = sns.boxplot(x = 'sector', y = 'loan_amount', data = df_sector)\n",
    "\n",
    "p.set(title = f'Loan amounts for {sector}')\n",
    "p.set_xticklabels(p.get_xticklabels(), rotation = 0);"
   ]
  },
  {
   "cell_type": "markdown",
   "id": "15fa8b3c",
   "metadata": {},
   "source": [
    "#### 7. Time dependency\n",
    "\n",
    "- variables can change over time and luckily, we \n",
    "have a time column\n",
    "\n",
    "- Lets create a plot showing loan amnt over time"
   ]
  },
  {
   "cell_type": "code",
   "execution_count": 72,
   "id": "5cfdc354",
   "metadata": {},
   "outputs": [],
   "source": [
    "#converrt the date column to a datetime object\n",
    "\n",
    "time_col = 'funded_date'\n",
    "df[time_col] = pd.to_datetime(df[time_col])"
   ]
  },
  {
   "cell_type": "code",
   "execution_count": 73,
   "id": "3f0bc7fb",
   "metadata": {
    "collapsed": true
   },
   "outputs": [
    {
     "data": {
      "text/plain": [
       "0      2014-08-03 17:51:50+00:00\n",
       "1      2014-08-18 09:10:54+00:00\n",
       "2      2014-08-09 17:46:35+00:00\n",
       "3      2014-08-24 17:00:38+00:00\n",
       "4      2014-08-25 03:24:54+00:00\n",
       "                  ...           \n",
       "6014   2018-07-19 15:14:35+00:00\n",
       "6015   2018-07-19 19:22:43+00:00\n",
       "6016   2018-07-19 20:18:53+00:00\n",
       "6017   2018-07-18 23:38:44+00:00\n",
       "6018   2018-07-19 16:54:18+00:00\n",
       "Name: funded_date, Length: 6019, dtype: datetime64[ns, UTC]"
      ]
     },
     "execution_count": 73,
     "metadata": {},
     "output_type": "execute_result"
    }
   ],
   "source": [
    "df.funded_date"
   ]
  },
  {
   "cell_type": "code",
   "execution_count": 74,
   "id": "3dfac727",
   "metadata": {},
   "outputs": [
    {
     "data": {
      "text/plain": [
       "datetime64[ns, UTC]"
      ]
     },
     "execution_count": 74,
     "metadata": {},
     "output_type": "execute_result"
    }
   ],
   "source": [
    "df.funded_date.dtype"
   ]
  },
  {
   "cell_type": "code",
   "execution_count": 75,
   "id": "d271af0a",
   "metadata": {
    "collapsed": true
   },
   "outputs": [
    {
     "data": {
      "text/plain": [
       "funded_date\n",
       "2007-07-31 00:00:00+00:00     800.000000\n",
       "2007-08-31 00:00:00+00:00     934.375000\n",
       "2007-09-30 00:00:00+00:00    1034.482759\n",
       "2007-10-31 00:00:00+00:00    1033.620690\n",
       "2007-11-30 00:00:00+00:00     937.500000\n",
       "                                ...     \n",
       "2018-03-31 00:00:00+00:00    1884.677419\n",
       "2018-04-30 00:00:00+00:00    2172.627737\n",
       "2018-05-31 00:00:00+00:00    2248.090692\n",
       "2018-06-30 00:00:00+00:00    1594.431818\n",
       "2018-07-31 00:00:00+00:00     792.637232\n",
       "Name: loan_amount, Length: 133, dtype: float64"
      ]
     },
     "execution_count": 75,
     "metadata": {},
     "output_type": "execute_result"
    }
   ],
   "source": [
    "#resample the date to monthly intervals, take the mean of the loan amount over that month\n",
    "#what you now have is an array with time stamp/ month as index and the mean as the value \n",
    "\n",
    "time_data = df.resample('M', on = time_col)['loan_amount'].mean().fillna(0)\n",
    "time_data"
   ]
  },
  {
   "cell_type": "code",
   "execution_count": 76,
   "id": "91d5956b",
   "metadata": {
    "collapsed": true
   },
   "outputs": [
    {
     "data": {
      "text/plain": [
       "Text(0.5, 1.0, 'Mean loan amount per month')"
      ]
     },
     "execution_count": 76,
     "metadata": {},
     "output_type": "execute_result"
    },
    {
     "data": {
      "image/png": "[encoded data removed]",
      "text/plain": [
       "<Figure size 1080x576 with 1 Axes>"
      ]
     },
     "metadata": {
      "needs_background": "light"
     },
     "output_type": "display_data"
    }
   ],
   "source": [
    "fig, ax = plt.subplots(figsize = (15, 8))\n",
    "ax.plot(time_data)\n",
    "plt.title('Mean loan amount per month')"
   ]
  },
  {
   "cell_type": "code",
   "execution_count": 77,
   "id": "cf08c941",
   "metadata": {},
   "outputs": [
    {
     "data": {
      "text/plain": [
       "Text(0.5, 1.0, 'Mean loan amount per week')"
      ]
     },
     "execution_count": 77,
     "metadata": {},
     "output_type": "execute_result"
    },
    {
     "data": {
      "image/png": "[encoded data removed]",
      "text/plain": [
       "<Figure size 1080x576 with 1 Axes>"
      ]
     },
     "metadata": {
      "needs_background": "light"
     },
     "output_type": "display_data"
    }
   ],
   "source": [
    "time_data = df.resample('7D', on = time_col)['loan_amount'].mean().fillna(0)\n",
    "time_data\n",
    "fig, ax = plt.subplots(figsize = (15, 8))\n",
    "ax.plot(time_data)\n",
    "plt.title('Mean loan amount per week')"
   ]
  },
  {
   "cell_type": "code",
   "execution_count": null,
   "id": "81e41d9d",
   "metadata": {},
   "outputs": [],
   "source": []
  },
  {
   "cell_type": "code",
   "execution_count": null,
   "id": "7058ecb3",
   "metadata": {},
   "outputs": [],
   "source": []
  },
  {
   "cell_type": "code",
   "execution_count": null,
   "id": "54cb5376",
   "metadata": {},
   "outputs": [],
   "source": []
  }
 ],
 "metadata": {
  "kernelspec": {
   "display_name": "Python 3 (ipykernel)",
   "language": "python",
   "name": "python3"
  },
  "language_info": {
   "codemirror_mode": {
    "name": "ipython",
    "version": 3
   },
   "file_extension": ".py",
   "mimetype": "text/x-python",
   "name": "python",
   "nbconvert_exporter": "python",
   "pygments_lexer": "ipython3",
   "version": "3.9.7"
  }
 },
 "nbformat": 4,
 "nbformat_minor": 5
}
