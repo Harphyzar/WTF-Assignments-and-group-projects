{
 "cells": [
  {
   "cell_type": "code",
   "execution_count": 1,
   "id": "5d00e182",
   "metadata": {},
   "outputs": [],
   "source": [
    "import pandas as pd\n",
    "import warnings\n",
    "import seaborn as sns\n",
    "import matplotlib.pyplot as plt\n",
    "from datetime import datetime\n",
    "import numpy as np"
   ]
  },
  {
   "cell_type": "code",
   "execution_count": 2,
   "id": "9dee2991",
   "metadata": {},
   "outputs": [],
   "source": [
    "warnings.filterwarnings('ignore')"
   ]
  },
  {
   "cell_type": "code",
   "execution_count": 3,
   "id": "6d21be9e",
   "metadata": {},
   "outputs": [
    {
     "data": {
      "text/html": [
       "<div>\n",
       "<style scoped>\n",
       "    .dataframe tbody tr th:only-of-type {\n",
       "        vertical-align: middle;\n",
       "    }\n",
       "\n",
       "    .dataframe tbody tr th {\n",
       "        vertical-align: top;\n",
       "    }\n",
       "\n",
       "    .dataframe thead th {\n",
       "        text-align: right;\n",
       "    }\n",
       "</style>\n",
       "<table border=\"1\" class=\"dataframe\">\n",
       "  <thead>\n",
       "    <tr style=\"text-align: right;\">\n",
       "      <th></th>\n",
       "      <th>customerid</th>\n",
       "      <th>Good_Bad_flag</th>\n",
       "    </tr>\n",
       "  </thead>\n",
       "  <tbody>\n",
       "    <tr>\n",
       "      <th>0</th>\n",
       "      <td>8a28afc7474813a40147639ec637156b</td>\n",
       "      <td>1</td>\n",
       "    </tr>\n",
       "    <tr>\n",
       "      <th>1</th>\n",
       "      <td>8a3735d5518aba7301518ac34413010d</td>\n",
       "      <td>1</td>\n",
       "    </tr>\n",
       "    <tr>\n",
       "      <th>2</th>\n",
       "      <td>8a76e7d443e6e97c0143ed099d102b1d</td>\n",
       "      <td>1</td>\n",
       "    </tr>\n",
       "    <tr>\n",
       "      <th>3</th>\n",
       "      <td>8a818823525dceef01525deda2480384</td>\n",
       "      <td>1</td>\n",
       "    </tr>\n",
       "    <tr>\n",
       "      <th>4</th>\n",
       "      <td>8a818926522ea5ef01523aff15c37482</td>\n",
       "      <td>1</td>\n",
       "    </tr>\n",
       "    <tr>\n",
       "      <th>...</th>\n",
       "      <td>...</td>\n",
       "      <td>...</td>\n",
       "    </tr>\n",
       "    <tr>\n",
       "      <th>1445</th>\n",
       "      <td>8a858fff5a36fe68015a3744f0021e89</td>\n",
       "      <td>1</td>\n",
       "    </tr>\n",
       "    <tr>\n",
       "      <th>1446</th>\n",
       "      <td>8aaae7a74400b28201441c8b62514150</td>\n",
       "      <td>1</td>\n",
       "    </tr>\n",
       "    <tr>\n",
       "      <th>1447</th>\n",
       "      <td>8aab10f748cf78ff0148d11fac1447a6</td>\n",
       "      <td>1</td>\n",
       "    </tr>\n",
       "    <tr>\n",
       "      <th>1448</th>\n",
       "      <td>8aab160f499477da014999ba2f0f578b</td>\n",
       "      <td>1</td>\n",
       "    </tr>\n",
       "    <tr>\n",
       "      <th>1449</th>\n",
       "      <td>8addcb0645aff34b0145b25fe1616ee0</td>\n",
       "      <td>1</td>\n",
       "    </tr>\n",
       "  </tbody>\n",
       "</table>\n",
       "<p>1450 rows × 2 columns</p>\n",
       "</div>"
      ],
      "text/plain": [
       "                            customerid  Good_Bad_flag\n",
       "0     8a28afc7474813a40147639ec637156b              1\n",
       "1     8a3735d5518aba7301518ac34413010d              1\n",
       "2     8a76e7d443e6e97c0143ed099d102b1d              1\n",
       "3     8a818823525dceef01525deda2480384              1\n",
       "4     8a818926522ea5ef01523aff15c37482              1\n",
       "...                                ...            ...\n",
       "1445  8a858fff5a36fe68015a3744f0021e89              1\n",
       "1446  8aaae7a74400b28201441c8b62514150              1\n",
       "1447  8aab10f748cf78ff0148d11fac1447a6              1\n",
       "1448  8aab160f499477da014999ba2f0f578b              1\n",
       "1449  8addcb0645aff34b0145b25fe1616ee0              1\n",
       "\n",
       "[1450 rows x 2 columns]"
      ]
     },
     "execution_count": 3,
     "metadata": {},
     "output_type": "execute_result"
    }
   ],
   "source": [
    "sample = pd.read_csv('SampleSubmission.csv')\n",
    "sample"
   ]
  },
  {
   "cell_type": "code",
   "execution_count": 5,
   "id": "4dd32fd9",
   "metadata": {},
   "outputs": [
    {
     "data": {
      "text/html": [
       "<div>\n",
       "<style scoped>\n",
       "    .dataframe tbody tr th:only-of-type {\n",
       "        vertical-align: middle;\n",
       "    }\n",
       "\n",
       "    .dataframe tbody tr th {\n",
       "        vertical-align: top;\n",
       "    }\n",
       "\n",
       "    .dataframe thead th {\n",
       "        text-align: right;\n",
       "    }\n",
       "</style>\n",
       "<table border=\"1\" class=\"dataframe\">\n",
       "  <thead>\n",
       "    <tr style=\"text-align: right;\">\n",
       "      <th></th>\n",
       "      <th>customerid</th>\n",
       "      <th>birthdate</th>\n",
       "      <th>bank_account_type</th>\n",
       "      <th>longitude_gps</th>\n",
       "      <th>latitude_gps</th>\n",
       "      <th>bank_name_clients</th>\n",
       "      <th>bank_branch_clients</th>\n",
       "      <th>employment_status_clients</th>\n",
       "      <th>level_of_education_clients</th>\n",
       "    </tr>\n",
       "  </thead>\n",
       "  <tbody>\n",
       "    <tr>\n",
       "      <th>0</th>\n",
       "      <td>8a858e135cb22031015cbafc76964ebd</td>\n",
       "      <td>1973-10-10 00:00:00.000000</td>\n",
       "      <td>Savings</td>\n",
       "      <td>3.319219</td>\n",
       "      <td>6.528604</td>\n",
       "      <td>GT Bank</td>\n",
       "      <td>NaN</td>\n",
       "      <td>NaN</td>\n",
       "      <td>NaN</td>\n",
       "    </tr>\n",
       "    <tr>\n",
       "      <th>1</th>\n",
       "      <td>8a858e275c7ea5ec015c82482d7c3996</td>\n",
       "      <td>1986-01-21 00:00:00.000000</td>\n",
       "      <td>Savings</td>\n",
       "      <td>3.325598</td>\n",
       "      <td>7.119403</td>\n",
       "      <td>Sterling Bank</td>\n",
       "      <td>NaN</td>\n",
       "      <td>Permanent</td>\n",
       "      <td>NaN</td>\n",
       "    </tr>\n",
       "    <tr>\n",
       "      <th>2</th>\n",
       "      <td>8a858e5b5bd99460015bdc95cd485634</td>\n",
       "      <td>1987-04-01 00:00:00.000000</td>\n",
       "      <td>Savings</td>\n",
       "      <td>5.746100</td>\n",
       "      <td>5.563174</td>\n",
       "      <td>Fidelity Bank</td>\n",
       "      <td>NaN</td>\n",
       "      <td>NaN</td>\n",
       "      <td>NaN</td>\n",
       "    </tr>\n",
       "    <tr>\n",
       "      <th>3</th>\n",
       "      <td>8a858efd5ca70688015cabd1f1e94b55</td>\n",
       "      <td>1991-07-19 00:00:00.000000</td>\n",
       "      <td>Savings</td>\n",
       "      <td>3.362850</td>\n",
       "      <td>6.642485</td>\n",
       "      <td>GT Bank</td>\n",
       "      <td>NaN</td>\n",
       "      <td>Permanent</td>\n",
       "      <td>NaN</td>\n",
       "    </tr>\n",
       "    <tr>\n",
       "      <th>4</th>\n",
       "      <td>8a858e785acd3412015acd48f4920d04</td>\n",
       "      <td>1982-11-22 00:00:00.000000</td>\n",
       "      <td>Savings</td>\n",
       "      <td>8.455332</td>\n",
       "      <td>11.971410</td>\n",
       "      <td>GT Bank</td>\n",
       "      <td>NaN</td>\n",
       "      <td>Permanent</td>\n",
       "      <td>NaN</td>\n",
       "    </tr>\n",
       "  </tbody>\n",
       "</table>\n",
       "</div>"
      ],
      "text/plain": [
       "                         customerid                   birthdate  \\\n",
       "0  8a858e135cb22031015cbafc76964ebd  1973-10-10 00:00:00.000000   \n",
       "1  8a858e275c7ea5ec015c82482d7c3996  1986-01-21 00:00:00.000000   \n",
       "2  8a858e5b5bd99460015bdc95cd485634  1987-04-01 00:00:00.000000   \n",
       "3  8a858efd5ca70688015cabd1f1e94b55  1991-07-19 00:00:00.000000   \n",
       "4  8a858e785acd3412015acd48f4920d04  1982-11-22 00:00:00.000000   \n",
       "\n",
       "  bank_account_type  longitude_gps  latitude_gps bank_name_clients  \\\n",
       "0           Savings       3.319219      6.528604           GT Bank   \n",
       "1           Savings       3.325598      7.119403     Sterling Bank   \n",
       "2           Savings       5.746100      5.563174     Fidelity Bank   \n",
       "3           Savings       3.362850      6.642485           GT Bank   \n",
       "4           Savings       8.455332     11.971410           GT Bank   \n",
       "\n",
       "  bank_branch_clients employment_status_clients level_of_education_clients  \n",
       "0                 NaN                       NaN                        NaN  \n",
       "1                 NaN                 Permanent                        NaN  \n",
       "2                 NaN                       NaN                        NaN  \n",
       "3                 NaN                 Permanent                        NaN  \n",
       "4                 NaN                 Permanent                        NaN  "
      ]
     },
     "execution_count": 5,
     "metadata": {},
     "output_type": "execute_result"
    }
   ],
   "source": [
    "demographic = pd.read_csv('traindemographics.csv')\n",
    "demographic.head()"
   ]
  },
  {
   "cell_type": "markdown",
   "id": "feda9f32",
   "metadata": {},
   "source": [
    "Description of demographic data:\n",
    "- customerid (Primary key used to merge to other data)\n",
    "- birthdate (date of birth of the customer)\n",
    "- bank_account_type (type of primary bank account)\n",
    "- longitude_gps\n",
    "- latitude_gps\n",
    "- bank_name_clients (name of the bank)\n",
    "- bank_branch_clients (location of the branch - not compulsory - so missing in a lot of the cases)\n",
    "- employment_status_clients (type of employment that customer has)\n",
    "- level_of_education_clients (highest level of education)\n"
   ]
  },
  {
   "cell_type": "code",
   "execution_count": 6,
   "id": "1834b2a6",
   "metadata": {},
   "outputs": [
    {
     "data": {
      "text/html": [
       "<div>\n",
       "<style scoped>\n",
       "    .dataframe tbody tr th:only-of-type {\n",
       "        vertical-align: middle;\n",
       "    }\n",
       "\n",
       "    .dataframe tbody tr th {\n",
       "        vertical-align: top;\n",
       "    }\n",
       "\n",
       "    .dataframe thead th {\n",
       "        text-align: right;\n",
       "    }\n",
       "</style>\n",
       "<table border=\"1\" class=\"dataframe\">\n",
       "  <thead>\n",
       "    <tr style=\"text-align: right;\">\n",
       "      <th></th>\n",
       "      <th>customerid</th>\n",
       "      <th>systemloanid</th>\n",
       "      <th>loannumber</th>\n",
       "      <th>approveddate</th>\n",
       "      <th>creationdate</th>\n",
       "      <th>loanamount</th>\n",
       "      <th>totaldue</th>\n",
       "      <th>termdays</th>\n",
       "      <th>referredby</th>\n",
       "      <th>good_bad_flag</th>\n",
       "    </tr>\n",
       "  </thead>\n",
       "  <tbody>\n",
       "    <tr>\n",
       "      <th>0</th>\n",
       "      <td>8a2a81a74ce8c05d014cfb32a0da1049</td>\n",
       "      <td>301994762</td>\n",
       "      <td>12</td>\n",
       "      <td>2017-07-25 08:22:56.000000</td>\n",
       "      <td>2017-07-25 07:22:47.000000</td>\n",
       "      <td>30000.0</td>\n",
       "      <td>34500.0</td>\n",
       "      <td>30</td>\n",
       "      <td>NaN</td>\n",
       "      <td>Good</td>\n",
       "    </tr>\n",
       "    <tr>\n",
       "      <th>1</th>\n",
       "      <td>8a85886e54beabf90154c0a29ae757c0</td>\n",
       "      <td>301965204</td>\n",
       "      <td>2</td>\n",
       "      <td>2017-07-05 17:04:41.000000</td>\n",
       "      <td>2017-07-05 16:04:18.000000</td>\n",
       "      <td>15000.0</td>\n",
       "      <td>17250.0</td>\n",
       "      <td>30</td>\n",
       "      <td>NaN</td>\n",
       "      <td>Good</td>\n",
       "    </tr>\n",
       "    <tr>\n",
       "      <th>2</th>\n",
       "      <td>8a8588f35438fe12015444567666018e</td>\n",
       "      <td>301966580</td>\n",
       "      <td>7</td>\n",
       "      <td>2017-07-06 14:52:57.000000</td>\n",
       "      <td>2017-07-06 13:52:51.000000</td>\n",
       "      <td>20000.0</td>\n",
       "      <td>22250.0</td>\n",
       "      <td>15</td>\n",
       "      <td>NaN</td>\n",
       "      <td>Good</td>\n",
       "    </tr>\n",
       "    <tr>\n",
       "      <th>3</th>\n",
       "      <td>8a85890754145ace015429211b513e16</td>\n",
       "      <td>301999343</td>\n",
       "      <td>3</td>\n",
       "      <td>2017-07-27 19:00:41.000000</td>\n",
       "      <td>2017-07-27 18:00:35.000000</td>\n",
       "      <td>10000.0</td>\n",
       "      <td>11500.0</td>\n",
       "      <td>15</td>\n",
       "      <td>NaN</td>\n",
       "      <td>Good</td>\n",
       "    </tr>\n",
       "    <tr>\n",
       "      <th>4</th>\n",
       "      <td>8a858970548359cc0154883481981866</td>\n",
       "      <td>301962360</td>\n",
       "      <td>9</td>\n",
       "      <td>2017-07-03 23:42:45.000000</td>\n",
       "      <td>2017-07-03 22:42:39.000000</td>\n",
       "      <td>40000.0</td>\n",
       "      <td>44000.0</td>\n",
       "      <td>30</td>\n",
       "      <td>NaN</td>\n",
       "      <td>Good</td>\n",
       "    </tr>\n",
       "  </tbody>\n",
       "</table>\n",
       "</div>"
      ],
      "text/plain": [
       "                         customerid  systemloanid  loannumber  \\\n",
       "0  8a2a81a74ce8c05d014cfb32a0da1049     301994762          12   \n",
       "1  8a85886e54beabf90154c0a29ae757c0     301965204           2   \n",
       "2  8a8588f35438fe12015444567666018e     301966580           7   \n",
       "3  8a85890754145ace015429211b513e16     301999343           3   \n",
       "4  8a858970548359cc0154883481981866     301962360           9   \n",
       "\n",
       "                 approveddate                creationdate  loanamount  \\\n",
       "0  2017-07-25 08:22:56.000000  2017-07-25 07:22:47.000000     30000.0   \n",
       "1  2017-07-05 17:04:41.000000  2017-07-05 16:04:18.000000     15000.0   \n",
       "2  2017-07-06 14:52:57.000000  2017-07-06 13:52:51.000000     20000.0   \n",
       "3  2017-07-27 19:00:41.000000  2017-07-27 18:00:35.000000     10000.0   \n",
       "4  2017-07-03 23:42:45.000000  2017-07-03 22:42:39.000000     40000.0   \n",
       "\n",
       "   totaldue  termdays referredby good_bad_flag  \n",
       "0   34500.0        30        NaN          Good  \n",
       "1   17250.0        30        NaN          Good  \n",
       "2   22250.0        15        NaN          Good  \n",
       "3   11500.0        15        NaN          Good  \n",
       "4   44000.0        30        NaN          Good  "
      ]
     },
     "execution_count": 6,
     "metadata": {},
     "output_type": "execute_result"
    }
   ],
   "source": [
    "performance = pd.read_csv('trainperf.csv')\n",
    "performance.head()"
   ]
  },
  {
   "cell_type": "markdown",
   "id": "a31d8809",
   "metadata": {},
   "source": [
    "Performance data (trainperf.csv) : This is the repeat loan that the customer has taken for which we need to predict the performance of. Basically, we need to predict whether this loan would default given all previous loans and demographics of a customer.\n",
    "Description of data:\n",
    "- customerid (Primary key used to merge to other data)\n",
    "- systemloanid (The id associated with the particular loan. The same customerId can have multiple systemloanid’s for each loan he/she has taken out)\n",
    "- loannumber (The number of the loan that you have to predict)\n",
    "- approveddate (Date that loan was approved)\n",
    "- creationdate (Date that loan application was created)\n",
    "- loanamount (Loan value taken)\n",
    "- totaldue (Total repayment required to settle the loan - this is the capital loan value disbursed +interest and fees)\n",
    "- termdays (Term of loan)\n",
    "- referredby (customerId of the customer that referred this person - is missing, then not referred)\n",
    "- good_bad_flag (good = settled loan on time; bad = did not settled loan on time) - this is the target variable that we need to predict"
   ]
  },
  {
   "cell_type": "code",
   "execution_count": 7,
   "id": "a3c84035",
   "metadata": {},
   "outputs": [
    {
     "data": {
      "text/html": [
       "<div>\n",
       "<style scoped>\n",
       "    .dataframe tbody tr th:only-of-type {\n",
       "        vertical-align: middle;\n",
       "    }\n",
       "\n",
       "    .dataframe tbody tr th {\n",
       "        vertical-align: top;\n",
       "    }\n",
       "\n",
       "    .dataframe thead th {\n",
       "        text-align: right;\n",
       "    }\n",
       "</style>\n",
       "<table border=\"1\" class=\"dataframe\">\n",
       "  <thead>\n",
       "    <tr style=\"text-align: right;\">\n",
       "      <th></th>\n",
       "      <th>customerid</th>\n",
       "      <th>systemloanid</th>\n",
       "      <th>loannumber</th>\n",
       "      <th>approveddate</th>\n",
       "      <th>creationdate</th>\n",
       "      <th>loanamount</th>\n",
       "      <th>totaldue</th>\n",
       "      <th>termdays</th>\n",
       "      <th>closeddate</th>\n",
       "      <th>referredby</th>\n",
       "      <th>firstduedate</th>\n",
       "      <th>firstrepaiddate</th>\n",
       "    </tr>\n",
       "  </thead>\n",
       "  <tbody>\n",
       "    <tr>\n",
       "      <th>0</th>\n",
       "      <td>8a2a81a74ce8c05d014cfb32a0da1049</td>\n",
       "      <td>301682320</td>\n",
       "      <td>2</td>\n",
       "      <td>2016-08-15 18:22:40.000000</td>\n",
       "      <td>2016-08-15 17:22:32.000000</td>\n",
       "      <td>10000.0</td>\n",
       "      <td>13000.0</td>\n",
       "      <td>30</td>\n",
       "      <td>2016-09-01 16:06:48.000000</td>\n",
       "      <td>NaN</td>\n",
       "      <td>2016-09-14 00:00:00.000000</td>\n",
       "      <td>2016-09-01 15:51:43.000000</td>\n",
       "    </tr>\n",
       "    <tr>\n",
       "      <th>1</th>\n",
       "      <td>8a2a81a74ce8c05d014cfb32a0da1049</td>\n",
       "      <td>301883808</td>\n",
       "      <td>9</td>\n",
       "      <td>2017-04-28 18:39:07.000000</td>\n",
       "      <td>2017-04-28 17:38:53.000000</td>\n",
       "      <td>10000.0</td>\n",
       "      <td>13000.0</td>\n",
       "      <td>30</td>\n",
       "      <td>2017-05-28 14:44:49.000000</td>\n",
       "      <td>NaN</td>\n",
       "      <td>2017-05-30 00:00:00.000000</td>\n",
       "      <td>2017-05-26 00:00:00.000000</td>\n",
       "    </tr>\n",
       "    <tr>\n",
       "      <th>2</th>\n",
       "      <td>8a2a81a74ce8c05d014cfb32a0da1049</td>\n",
       "      <td>301831714</td>\n",
       "      <td>8</td>\n",
       "      <td>2017-03-05 10:56:25.000000</td>\n",
       "      <td>2017-03-05 09:56:19.000000</td>\n",
       "      <td>20000.0</td>\n",
       "      <td>23800.0</td>\n",
       "      <td>30</td>\n",
       "      <td>2017-04-26 22:18:56.000000</td>\n",
       "      <td>NaN</td>\n",
       "      <td>2017-04-04 00:00:00.000000</td>\n",
       "      <td>2017-04-26 22:03:47.000000</td>\n",
       "    </tr>\n",
       "    <tr>\n",
       "      <th>3</th>\n",
       "      <td>8a8588f35438fe12015444567666018e</td>\n",
       "      <td>301861541</td>\n",
       "      <td>5</td>\n",
       "      <td>2017-04-09 18:25:55.000000</td>\n",
       "      <td>2017-04-09 17:25:42.000000</td>\n",
       "      <td>10000.0</td>\n",
       "      <td>11500.0</td>\n",
       "      <td>15</td>\n",
       "      <td>2017-04-24 01:35:52.000000</td>\n",
       "      <td>NaN</td>\n",
       "      <td>2017-04-24 00:00:00.000000</td>\n",
       "      <td>2017-04-24 00:48:43.000000</td>\n",
       "    </tr>\n",
       "    <tr>\n",
       "      <th>4</th>\n",
       "      <td>8a85890754145ace015429211b513e16</td>\n",
       "      <td>301941754</td>\n",
       "      <td>2</td>\n",
       "      <td>2017-06-17 09:29:57.000000</td>\n",
       "      <td>2017-06-17 08:29:50.000000</td>\n",
       "      <td>10000.0</td>\n",
       "      <td>11500.0</td>\n",
       "      <td>15</td>\n",
       "      <td>2017-07-14 21:18:43.000000</td>\n",
       "      <td>NaN</td>\n",
       "      <td>2017-07-03 00:00:00.000000</td>\n",
       "      <td>2017-07-14 21:08:35.000000</td>\n",
       "    </tr>\n",
       "  </tbody>\n",
       "</table>\n",
       "</div>"
      ],
      "text/plain": [
       "                         customerid  systemloanid  loannumber  \\\n",
       "0  8a2a81a74ce8c05d014cfb32a0da1049     301682320           2   \n",
       "1  8a2a81a74ce8c05d014cfb32a0da1049     301883808           9   \n",
       "2  8a2a81a74ce8c05d014cfb32a0da1049     301831714           8   \n",
       "3  8a8588f35438fe12015444567666018e     301861541           5   \n",
       "4  8a85890754145ace015429211b513e16     301941754           2   \n",
       "\n",
       "                 approveddate                creationdate  loanamount  \\\n",
       "0  2016-08-15 18:22:40.000000  2016-08-15 17:22:32.000000     10000.0   \n",
       "1  2017-04-28 18:39:07.000000  2017-04-28 17:38:53.000000     10000.0   \n",
       "2  2017-03-05 10:56:25.000000  2017-03-05 09:56:19.000000     20000.0   \n",
       "3  2017-04-09 18:25:55.000000  2017-04-09 17:25:42.000000     10000.0   \n",
       "4  2017-06-17 09:29:57.000000  2017-06-17 08:29:50.000000     10000.0   \n",
       "\n",
       "   totaldue  termdays                  closeddate referredby  \\\n",
       "0   13000.0        30  2016-09-01 16:06:48.000000        NaN   \n",
       "1   13000.0        30  2017-05-28 14:44:49.000000        NaN   \n",
       "2   23800.0        30  2017-04-26 22:18:56.000000        NaN   \n",
       "3   11500.0        15  2017-04-24 01:35:52.000000        NaN   \n",
       "4   11500.0        15  2017-07-14 21:18:43.000000        NaN   \n",
       "\n",
       "                 firstduedate             firstrepaiddate  \n",
       "0  2016-09-14 00:00:00.000000  2016-09-01 15:51:43.000000  \n",
       "1  2017-05-30 00:00:00.000000  2017-05-26 00:00:00.000000  \n",
       "2  2017-04-04 00:00:00.000000  2017-04-26 22:03:47.000000  \n",
       "3  2017-04-24 00:00:00.000000  2017-04-24 00:48:43.000000  \n",
       "4  2017-07-03 00:00:00.000000  2017-07-14 21:08:35.000000  "
      ]
     },
     "execution_count": 7,
     "metadata": {},
     "output_type": "execute_result"
    }
   ],
   "source": [
    "previous = pd.read_csv('trainprevloans.csv')\n",
    "previous.head()"
   ]
  },
  {
   "cell_type": "markdown",
   "id": "c0d94e86",
   "metadata": {},
   "source": [
    "Previous loans data (trainprevloans.csv) : This dataset contains all previous loans that the customer had prior to the loan above that we want to predict the performance of. Each loan will have a different systemloanid, but the same customerid for each customer.\n",
    "Description of data:\n",
    "- customerid (Primary key used to merge to other data)\n",
    "- systemloanid (The id associated with the particular loan. The same customerId can have multiple systemloanid’s for each loan he/she has taken out)\n",
    "- loannumber (The number of the loan that you have to predict)\n",
    "- approveddate (Date that loan was approved)\n",
    "- creationdate (Date that loan application was created)\n",
    "- loanamount (Date that loan application was created)\n",
    "- totaldue (Total repayment required to settle the loan - this is the capital loan value disbursed +interest and fees) termdays (Term of loan)\n",
    "- closeddate (Date that the loan was settled)\n",
    "- referredby (customerId of the customer that referred this person - is missing, then not refrerred)\n",
    "- firstduedate (Date of first payment due in cases where the term is longer than 30 days. So in the case where the term is 60+ days - then there are multiple monthly payments due - and this dates reflects the date of the first payment)\n",
    "- firstrepaiddate (Actual date that he/she paid the first payment as defined above)"
   ]
  },
  {
   "cell_type": "code",
   "execution_count": 8,
   "id": "fc0fa3f1",
   "metadata": {},
   "outputs": [],
   "source": [
    "customerCheck = demographic.assign(InPerformance=demographic.customerid.isin(performance.customerid), InPrevious=demographic.customerid.isin(previous.customerid))\n",
    "customerCheck = customerCheck[['customerid','InPerformance','InPrevious']]"
   ]
  },
  {
   "cell_type": "code",
   "execution_count": 9,
   "id": "e2ab41ba",
   "metadata": {},
   "outputs": [
    {
     "data": {
      "text/html": [
       "<div>\n",
       "<style scoped>\n",
       "    .dataframe tbody tr th:only-of-type {\n",
       "        vertical-align: middle;\n",
       "    }\n",
       "\n",
       "    .dataframe tbody tr th {\n",
       "        vertical-align: top;\n",
       "    }\n",
       "\n",
       "    .dataframe thead th {\n",
       "        text-align: right;\n",
       "    }\n",
       "</style>\n",
       "<table border=\"1\" class=\"dataframe\">\n",
       "  <thead>\n",
       "    <tr style=\"text-align: right;\">\n",
       "      <th></th>\n",
       "      <th>customerid</th>\n",
       "      <th>birthdate</th>\n",
       "      <th>bank_account_type</th>\n",
       "      <th>longitude_gps</th>\n",
       "      <th>latitude_gps</th>\n",
       "      <th>bank_name_clients</th>\n",
       "      <th>bank_branch_clients</th>\n",
       "      <th>employment_status_clients</th>\n",
       "      <th>level_of_education_clients</th>\n",
       "      <th>InPerformance</th>\n",
       "      <th>InPrevious</th>\n",
       "    </tr>\n",
       "  </thead>\n",
       "  <tbody>\n",
       "    <tr>\n",
       "      <th>0</th>\n",
       "      <td>8a858e135cb22031015cbafc76964ebd</td>\n",
       "      <td>1973-10-10 00:00:00.000000</td>\n",
       "      <td>Savings</td>\n",
       "      <td>3.319219</td>\n",
       "      <td>6.528604</td>\n",
       "      <td>GT Bank</td>\n",
       "      <td>NaN</td>\n",
       "      <td>NaN</td>\n",
       "      <td>NaN</td>\n",
       "      <td>True</td>\n",
       "      <td>True</td>\n",
       "    </tr>\n",
       "    <tr>\n",
       "      <th>1</th>\n",
       "      <td>8a858e275c7ea5ec015c82482d7c3996</td>\n",
       "      <td>1986-01-21 00:00:00.000000</td>\n",
       "      <td>Savings</td>\n",
       "      <td>3.325598</td>\n",
       "      <td>7.119403</td>\n",
       "      <td>Sterling Bank</td>\n",
       "      <td>NaN</td>\n",
       "      <td>Permanent</td>\n",
       "      <td>NaN</td>\n",
       "      <td>True</td>\n",
       "      <td>True</td>\n",
       "    </tr>\n",
       "    <tr>\n",
       "      <th>2</th>\n",
       "      <td>8a858e5b5bd99460015bdc95cd485634</td>\n",
       "      <td>1987-04-01 00:00:00.000000</td>\n",
       "      <td>Savings</td>\n",
       "      <td>5.746100</td>\n",
       "      <td>5.563174</td>\n",
       "      <td>Fidelity Bank</td>\n",
       "      <td>NaN</td>\n",
       "      <td>NaN</td>\n",
       "      <td>NaN</td>\n",
       "      <td>True</td>\n",
       "      <td>True</td>\n",
       "    </tr>\n",
       "    <tr>\n",
       "      <th>3</th>\n",
       "      <td>8a858efd5ca70688015cabd1f1e94b55</td>\n",
       "      <td>1991-07-19 00:00:00.000000</td>\n",
       "      <td>Savings</td>\n",
       "      <td>3.362850</td>\n",
       "      <td>6.642485</td>\n",
       "      <td>GT Bank</td>\n",
       "      <td>NaN</td>\n",
       "      <td>Permanent</td>\n",
       "      <td>NaN</td>\n",
       "      <td>True</td>\n",
       "      <td>True</td>\n",
       "    </tr>\n",
       "    <tr>\n",
       "      <th>4</th>\n",
       "      <td>8a858e785acd3412015acd48f4920d04</td>\n",
       "      <td>1982-11-22 00:00:00.000000</td>\n",
       "      <td>Savings</td>\n",
       "      <td>8.455332</td>\n",
       "      <td>11.971410</td>\n",
       "      <td>GT Bank</td>\n",
       "      <td>NaN</td>\n",
       "      <td>Permanent</td>\n",
       "      <td>NaN</td>\n",
       "      <td>False</td>\n",
       "      <td>False</td>\n",
       "    </tr>\n",
       "    <tr>\n",
       "      <th>...</th>\n",
       "      <td>...</td>\n",
       "      <td>...</td>\n",
       "      <td>...</td>\n",
       "      <td>...</td>\n",
       "      <td>...</td>\n",
       "      <td>...</td>\n",
       "      <td>...</td>\n",
       "      <td>...</td>\n",
       "      <td>...</td>\n",
       "      <td>...</td>\n",
       "      <td>...</td>\n",
       "    </tr>\n",
       "    <tr>\n",
       "      <th>4341</th>\n",
       "      <td>8a858f155554552501555588ca2b3b40</td>\n",
       "      <td>1985-12-13 00:00:00.000000</td>\n",
       "      <td>Other</td>\n",
       "      <td>3.236753</td>\n",
       "      <td>7.030168</td>\n",
       "      <td>Stanbic IBTC</td>\n",
       "      <td>NaN</td>\n",
       "      <td>Permanent</td>\n",
       "      <td>Graduate</td>\n",
       "      <td>True</td>\n",
       "      <td>True</td>\n",
       "    </tr>\n",
       "    <tr>\n",
       "      <th>4342</th>\n",
       "      <td>8a858fc65cf978f4015cf97cee3a02ce</td>\n",
       "      <td>1982-07-01 00:00:00.000000</td>\n",
       "      <td>Savings</td>\n",
       "      <td>7.013750</td>\n",
       "      <td>4.875662</td>\n",
       "      <td>GT Bank</td>\n",
       "      <td>NaN</td>\n",
       "      <td>NaN</td>\n",
       "      <td>NaN</td>\n",
       "      <td>True</td>\n",
       "      <td>True</td>\n",
       "    </tr>\n",
       "    <tr>\n",
       "      <th>4343</th>\n",
       "      <td>8a858f4f5b66de3a015b66fc83c61902</td>\n",
       "      <td>1989-09-26 00:00:00.000000</td>\n",
       "      <td>Savings</td>\n",
       "      <td>6.295530</td>\n",
       "      <td>7.092508</td>\n",
       "      <td>GT Bank</td>\n",
       "      <td>NaN</td>\n",
       "      <td>Permanent</td>\n",
       "      <td>NaN</td>\n",
       "      <td>False</td>\n",
       "      <td>False</td>\n",
       "    </tr>\n",
       "    <tr>\n",
       "      <th>4344</th>\n",
       "      <td>8aaae7a74400b28201441c8b62514150</td>\n",
       "      <td>1985-09-06 00:00:00.000000</td>\n",
       "      <td>Savings</td>\n",
       "      <td>3.354206</td>\n",
       "      <td>6.539070</td>\n",
       "      <td>GT Bank</td>\n",
       "      <td>HEAD OFFICE</td>\n",
       "      <td>Permanent</td>\n",
       "      <td>Primary</td>\n",
       "      <td>False</td>\n",
       "      <td>False</td>\n",
       "    </tr>\n",
       "    <tr>\n",
       "      <th>4345</th>\n",
       "      <td>8a85896653e2e18b0153e69c1b90265c</td>\n",
       "      <td>1975-06-05 00:00:00.000000</td>\n",
       "      <td>Savings</td>\n",
       "      <td>6.661014</td>\n",
       "      <td>7.472700</td>\n",
       "      <td>UBA</td>\n",
       "      <td>NaN</td>\n",
       "      <td>Permanent</td>\n",
       "      <td>NaN</td>\n",
       "      <td>False</td>\n",
       "      <td>False</td>\n",
       "    </tr>\n",
       "  </tbody>\n",
       "</table>\n",
       "<p>4346 rows × 11 columns</p>\n",
       "</div>"
      ],
      "text/plain": [
       "                            customerid                   birthdate  \\\n",
       "0     8a858e135cb22031015cbafc76964ebd  1973-10-10 00:00:00.000000   \n",
       "1     8a858e275c7ea5ec015c82482d7c3996  1986-01-21 00:00:00.000000   \n",
       "2     8a858e5b5bd99460015bdc95cd485634  1987-04-01 00:00:00.000000   \n",
       "3     8a858efd5ca70688015cabd1f1e94b55  1991-07-19 00:00:00.000000   \n",
       "4     8a858e785acd3412015acd48f4920d04  1982-11-22 00:00:00.000000   \n",
       "...                                ...                         ...   \n",
       "4341  8a858f155554552501555588ca2b3b40  1985-12-13 00:00:00.000000   \n",
       "4342  8a858fc65cf978f4015cf97cee3a02ce  1982-07-01 00:00:00.000000   \n",
       "4343  8a858f4f5b66de3a015b66fc83c61902  1989-09-26 00:00:00.000000   \n",
       "4344  8aaae7a74400b28201441c8b62514150  1985-09-06 00:00:00.000000   \n",
       "4345  8a85896653e2e18b0153e69c1b90265c  1975-06-05 00:00:00.000000   \n",
       "\n",
       "     bank_account_type  longitude_gps  latitude_gps bank_name_clients  \\\n",
       "0              Savings       3.319219      6.528604           GT Bank   \n",
       "1              Savings       3.325598      7.119403     Sterling Bank   \n",
       "2              Savings       5.746100      5.563174     Fidelity Bank   \n",
       "3              Savings       3.362850      6.642485           GT Bank   \n",
       "4              Savings       8.455332     11.971410           GT Bank   \n",
       "...                ...            ...           ...               ...   \n",
       "4341             Other       3.236753      7.030168      Stanbic IBTC   \n",
       "4342           Savings       7.013750      4.875662           GT Bank   \n",
       "4343           Savings       6.295530      7.092508           GT Bank   \n",
       "4344           Savings       3.354206      6.539070           GT Bank   \n",
       "4345           Savings       6.661014      7.472700               UBA   \n",
       "\n",
       "     bank_branch_clients employment_status_clients level_of_education_clients  \\\n",
       "0                    NaN                       NaN                        NaN   \n",
       "1                    NaN                 Permanent                        NaN   \n",
       "2                    NaN                       NaN                        NaN   \n",
       "3                    NaN                 Permanent                        NaN   \n",
       "4                    NaN                 Permanent                        NaN   \n",
       "...                  ...                       ...                        ...   \n",
       "4341                 NaN                 Permanent                   Graduate   \n",
       "4342                 NaN                       NaN                        NaN   \n",
       "4343                 NaN                 Permanent                        NaN   \n",
       "4344         HEAD OFFICE                 Permanent                    Primary   \n",
       "4345                 NaN                 Permanent                        NaN   \n",
       "\n",
       "      InPerformance  InPrevious  \n",
       "0              True        True  \n",
       "1              True        True  \n",
       "2              True        True  \n",
       "3              True        True  \n",
       "4             False       False  \n",
       "...             ...         ...  \n",
       "4341           True        True  \n",
       "4342           True        True  \n",
       "4343          False       False  \n",
       "4344          False       False  \n",
       "4345          False       False  \n",
       "\n",
       "[4346 rows x 11 columns]"
      ]
     },
     "execution_count": 9,
     "metadata": {},
     "output_type": "execute_result"
    }
   ],
   "source": [
    "demographic.assign(InPerformance=demographic.customerid.isin(performance.customerid), InPrevious=demographic.customerid.isin(previous.customerid))\n"
   ]
  },
  {
   "cell_type": "code",
   "execution_count": 10,
   "id": "512210e8",
   "metadata": {},
   "outputs": [
    {
     "data": {
      "text/html": [
       "<div>\n",
       "<style scoped>\n",
       "    .dataframe tbody tr th:only-of-type {\n",
       "        vertical-align: middle;\n",
       "    }\n",
       "\n",
       "    .dataframe tbody tr th {\n",
       "        vertical-align: top;\n",
       "    }\n",
       "\n",
       "    .dataframe thead th {\n",
       "        text-align: right;\n",
       "    }\n",
       "</style>\n",
       "<table border=\"1\" class=\"dataframe\">\n",
       "  <thead>\n",
       "    <tr style=\"text-align: right;\">\n",
       "      <th></th>\n",
       "      <th>customerid</th>\n",
       "      <th>InPerformance</th>\n",
       "      <th>InPrevious</th>\n",
       "    </tr>\n",
       "  </thead>\n",
       "  <tbody>\n",
       "    <tr>\n",
       "      <th>0</th>\n",
       "      <td>8a858e135cb22031015cbafc76964ebd</td>\n",
       "      <td>True</td>\n",
       "      <td>True</td>\n",
       "    </tr>\n",
       "    <tr>\n",
       "      <th>1</th>\n",
       "      <td>8a858e275c7ea5ec015c82482d7c3996</td>\n",
       "      <td>True</td>\n",
       "      <td>True</td>\n",
       "    </tr>\n",
       "    <tr>\n",
       "      <th>2</th>\n",
       "      <td>8a858e5b5bd99460015bdc95cd485634</td>\n",
       "      <td>True</td>\n",
       "      <td>True</td>\n",
       "    </tr>\n",
       "    <tr>\n",
       "      <th>3</th>\n",
       "      <td>8a858efd5ca70688015cabd1f1e94b55</td>\n",
       "      <td>True</td>\n",
       "      <td>True</td>\n",
       "    </tr>\n",
       "    <tr>\n",
       "      <th>4</th>\n",
       "      <td>8a858e785acd3412015acd48f4920d04</td>\n",
       "      <td>False</td>\n",
       "      <td>False</td>\n",
       "    </tr>\n",
       "    <tr>\n",
       "      <th>...</th>\n",
       "      <td>...</td>\n",
       "      <td>...</td>\n",
       "      <td>...</td>\n",
       "    </tr>\n",
       "    <tr>\n",
       "      <th>4341</th>\n",
       "      <td>8a858f155554552501555588ca2b3b40</td>\n",
       "      <td>True</td>\n",
       "      <td>True</td>\n",
       "    </tr>\n",
       "    <tr>\n",
       "      <th>4342</th>\n",
       "      <td>8a858fc65cf978f4015cf97cee3a02ce</td>\n",
       "      <td>True</td>\n",
       "      <td>True</td>\n",
       "    </tr>\n",
       "    <tr>\n",
       "      <th>4343</th>\n",
       "      <td>8a858f4f5b66de3a015b66fc83c61902</td>\n",
       "      <td>False</td>\n",
       "      <td>False</td>\n",
       "    </tr>\n",
       "    <tr>\n",
       "      <th>4344</th>\n",
       "      <td>8aaae7a74400b28201441c8b62514150</td>\n",
       "      <td>False</td>\n",
       "      <td>False</td>\n",
       "    </tr>\n",
       "    <tr>\n",
       "      <th>4345</th>\n",
       "      <td>8a85896653e2e18b0153e69c1b90265c</td>\n",
       "      <td>False</td>\n",
       "      <td>False</td>\n",
       "    </tr>\n",
       "  </tbody>\n",
       "</table>\n",
       "<p>4346 rows × 3 columns</p>\n",
       "</div>"
      ],
      "text/plain": [
       "                            customerid  InPerformance  InPrevious\n",
       "0     8a858e135cb22031015cbafc76964ebd           True        True\n",
       "1     8a858e275c7ea5ec015c82482d7c3996           True        True\n",
       "2     8a858e5b5bd99460015bdc95cd485634           True        True\n",
       "3     8a858efd5ca70688015cabd1f1e94b55           True        True\n",
       "4     8a858e785acd3412015acd48f4920d04          False       False\n",
       "...                                ...            ...         ...\n",
       "4341  8a858f155554552501555588ca2b3b40           True        True\n",
       "4342  8a858fc65cf978f4015cf97cee3a02ce           True        True\n",
       "4343  8a858f4f5b66de3a015b66fc83c61902          False       False\n",
       "4344  8aaae7a74400b28201441c8b62514150          False       False\n",
       "4345  8a85896653e2e18b0153e69c1b90265c          False       False\n",
       "\n",
       "[4346 rows x 3 columns]"
      ]
     },
     "execution_count": 10,
     "metadata": {},
     "output_type": "execute_result"
    }
   ],
   "source": [
    "customerCheck"
   ]
  },
  {
   "cell_type": "code",
   "execution_count": 11,
   "id": "db6d0a1d",
   "metadata": {},
   "outputs": [
    {
     "ename": "AttributeError",
     "evalue": "'DataFrameGroupBy' object has no attribute 'value_counts'",
     "output_type": "error",
     "traceback": [
      "\u001b[1;31m---------------------------------------------------------------------------\u001b[0m",
      "\u001b[1;31mAttributeError\u001b[0m                            Traceback (most recent call last)",
      "\u001b[1;32mC:\\Users\\HAFEEZ~1\\AppData\\Local\\Temp/ipykernel_20680/2804011846.py\u001b[0m in \u001b[0;36m<module>\u001b[1;34m\u001b[0m\n\u001b[1;32m----> 1\u001b[1;33m \u001b[0mcustomerCheck\u001b[0m\u001b[1;33m.\u001b[0m\u001b[0mgroupby\u001b[0m\u001b[1;33m(\u001b[0m\u001b[1;33m[\u001b[0m\u001b[1;34m'InPerformance'\u001b[0m\u001b[1;33m,\u001b[0m\u001b[1;34m'InPrevious'\u001b[0m\u001b[1;33m]\u001b[0m\u001b[1;33m)\u001b[0m\u001b[1;33m.\u001b[0m\u001b[0mvalue_counts\u001b[0m\u001b[1;33m(\u001b[0m\u001b[1;33m)\u001b[0m\u001b[1;33m\u001b[0m\u001b[1;33m\u001b[0m\u001b[0m\n\u001b[0m",
      "\u001b[1;32m~\\anaconda3\\lib\\site-packages\\pandas\\core\\groupby\\groupby.py\u001b[0m in \u001b[0;36m__getattr__\u001b[1;34m(self, attr)\u001b[0m\n\u001b[0;32m    909\u001b[0m             \u001b[1;32mreturn\u001b[0m \u001b[0mself\u001b[0m\u001b[1;33m[\u001b[0m\u001b[0mattr\u001b[0m\u001b[1;33m]\u001b[0m\u001b[1;33m\u001b[0m\u001b[1;33m\u001b[0m\u001b[0m\n\u001b[0;32m    910\u001b[0m \u001b[1;33m\u001b[0m\u001b[0m\n\u001b[1;32m--> 911\u001b[1;33m         raise AttributeError(\n\u001b[0m\u001b[0;32m    912\u001b[0m             \u001b[1;34mf\"'{type(self).__name__}' object has no attribute '{attr}'\"\u001b[0m\u001b[1;33m\u001b[0m\u001b[1;33m\u001b[0m\u001b[0m\n\u001b[0;32m    913\u001b[0m         )\n",
      "\u001b[1;31mAttributeError\u001b[0m: 'DataFrameGroupBy' object has no attribute 'value_counts'"
     ]
    }
   ],
   "source": [
    "customerCheck.groupby(['InPerformance','InPrevious']).value_counts()"
   ]
  },
  {
   "cell_type": "code",
   "execution_count": 12,
   "id": "7bba7267",
   "metadata": {},
   "outputs": [
    {
     "name": "stdout",
     "output_type": "stream",
     "text": [
      "<class 'pandas.core.frame.DataFrame'>\n",
      "RangeIndex: 4346 entries, 0 to 4345\n",
      "Data columns (total 9 columns):\n",
      " #   Column                      Non-Null Count  Dtype  \n",
      "---  ------                      --------------  -----  \n",
      " 0   customerid                  4346 non-null   object \n",
      " 1   birthdate                   4346 non-null   object \n",
      " 2   bank_account_type           4346 non-null   object \n",
      " 3   longitude_gps               4346 non-null   float64\n",
      " 4   latitude_gps                4346 non-null   float64\n",
      " 5   bank_name_clients           4346 non-null   object \n",
      " 6   bank_branch_clients         51 non-null     object \n",
      " 7   employment_status_clients   3698 non-null   object \n",
      " 8   level_of_education_clients  587 non-null    object \n",
      "dtypes: float64(2), object(7)\n",
      "memory usage: 305.7+ KB\n"
     ]
    }
   ],
   "source": [
    "demographic.info()"
   ]
  },
  {
   "cell_type": "code",
   "execution_count": null,
   "id": "1d44b3aa",
   "metadata": {},
   "outputs": [],
   "source": [
    "performance.info()"
   ]
  },
  {
   "cell_type": "code",
   "execution_count": null,
   "id": "1ee74436",
   "metadata": {},
   "outputs": [],
   "source": [
    "previous.info()"
   ]
  },
  {
   "cell_type": "code",
   "execution_count": null,
   "id": "b70a0c7c",
   "metadata": {},
   "outputs": [],
   "source": [
    "previous.head()"
   ]
  },
  {
   "cell_type": "code",
   "execution_count": null,
   "id": "282ffbc9",
   "metadata": {},
   "outputs": [],
   "source": [
    "performance.head()"
   ]
  },
  {
   "cell_type": "code",
   "execution_count": 13,
   "id": "0694b11b",
   "metadata": {},
   "outputs": [
    {
     "data": {
      "text/html": [
       "<div>\n",
       "<style scoped>\n",
       "    .dataframe tbody tr th:only-of-type {\n",
       "        vertical-align: middle;\n",
       "    }\n",
       "\n",
       "    .dataframe tbody tr th {\n",
       "        vertical-align: top;\n",
       "    }\n",
       "\n",
       "    .dataframe thead th {\n",
       "        text-align: right;\n",
       "    }\n",
       "</style>\n",
       "<table border=\"1\" class=\"dataframe\">\n",
       "  <thead>\n",
       "    <tr style=\"text-align: right;\">\n",
       "      <th></th>\n",
       "      <th>customerid</th>\n",
       "      <th>systemloanid</th>\n",
       "      <th>loannumber</th>\n",
       "      <th>approveddate</th>\n",
       "      <th>creationdate</th>\n",
       "      <th>loanamount</th>\n",
       "      <th>totaldue</th>\n",
       "      <th>termdays</th>\n",
       "      <th>referredby</th>\n",
       "      <th>good_bad_flag</th>\n",
       "    </tr>\n",
       "  </thead>\n",
       "  <tbody>\n",
       "    <tr>\n",
       "      <th>2899</th>\n",
       "      <td>8a858e105bd92644015bd9db3a0f3be2</td>\n",
       "      <td>301981450</td>\n",
       "      <td>3</td>\n",
       "      <td>2017-07-17 09:50:07.000000</td>\n",
       "      <td>2017-07-17 08:50:00.000000</td>\n",
       "      <td>10000.0</td>\n",
       "      <td>13000.0</td>\n",
       "      <td>30</td>\n",
       "      <td>NaN</td>\n",
       "      <td>Good</td>\n",
       "    </tr>\n",
       "  </tbody>\n",
       "</table>\n",
       "</div>"
      ],
      "text/plain": [
       "                            customerid  systemloanid  loannumber  \\\n",
       "2899  8a858e105bd92644015bd9db3a0f3be2     301981450           3   \n",
       "\n",
       "                    approveddate                creationdate  loanamount  \\\n",
       "2899  2017-07-17 09:50:07.000000  2017-07-17 08:50:00.000000     10000.0   \n",
       "\n",
       "      totaldue  termdays referredby good_bad_flag  \n",
       "2899   13000.0        30        NaN          Good  "
      ]
     },
     "execution_count": 13,
     "metadata": {},
     "output_type": "execute_result"
    }
   ],
   "source": [
    "performance.loc[performance['customerid'] == '8a858e105bd92644015bd9db3a0f3be2']"
   ]
  },
  {
   "cell_type": "code",
   "execution_count": null,
   "id": "6e61910a",
   "metadata": {},
   "outputs": [],
   "source": [
    "previous.loc[previous['customerid'] == '8a858e105bd92644015bd9db3a0f3be2']"
   ]
  },
  {
   "cell_type": "code",
   "execution_count": null,
   "id": "fd59af1e",
   "metadata": {},
   "outputs": [],
   "source": [
    "performance.loc[performance['customerid'] == '8a858e105bd92644015bd9db3a0f3be2']"
   ]
  },
  {
   "cell_type": "code",
   "execution_count": 15,
   "id": "162d2be0",
   "metadata": {},
   "outputs": [
    {
     "name": "stdout",
     "output_type": "stream",
     "text": [
      "Duplicate Rows :\n"
     ]
    },
    {
     "data": {
      "text/plain": [
       "12"
      ]
     },
     "execution_count": 15,
     "metadata": {},
     "output_type": "execute_result"
    }
   ],
   "source": [
    "duplicate = demographic[demographic.duplicated()]\n",
    " \n",
    "print(\"Duplicate Rows :\")\n",
    " \n",
    "# Print the resultant Dataframe\n",
    " duplicate"
   ]
  },
  {
   "cell_type": "code",
   "execution_count": 16,
   "id": "16d92ac2",
   "metadata": {},
   "outputs": [],
   "source": [
    "demographic.drop_duplicates(inplace=True)"
   ]
  },
  {
   "cell_type": "code",
   "execution_count": 17,
   "id": "09a9c883",
   "metadata": {
    "scrolled": true
   },
   "outputs": [],
   "source": [
    "customerCheck = demographic.assign(InPerformance=demographic.customerid.isin(performance.customerid), InPrevious=demographic.customerid.isin(previous.customerid))\n",
    "customerCheck = customerCheck[['customerid','InPerformance','InPrevious']]"
   ]
  },
  {
   "cell_type": "code",
   "execution_count": 18,
   "id": "0ccdb1e8",
   "metadata": {
    "collapsed": true
   },
   "outputs": [
    {
     "ename": "AttributeError",
     "evalue": "'DataFrameGroupBy' object has no attribute 'value_counts'",
     "output_type": "error",
     "traceback": [
      "\u001b[1;31m---------------------------------------------------------------------------\u001b[0m",
      "\u001b[1;31mAttributeError\u001b[0m                            Traceback (most recent call last)",
      "\u001b[1;32mC:\\Users\\HAFEEZ~1\\AppData\\Local\\Temp/ipykernel_20680/3057135661.py\u001b[0m in \u001b[0;36m<module>\u001b[1;34m\u001b[0m\n\u001b[1;32m----> 1\u001b[1;33m \u001b[0mcustomerCheck\u001b[0m\u001b[1;33m.\u001b[0m\u001b[0mgroupby\u001b[0m\u001b[1;33m(\u001b[0m\u001b[1;33m[\u001b[0m\u001b[1;34m'InPerformance'\u001b[0m\u001b[1;33m,\u001b[0m\u001b[1;34m'InPrevious'\u001b[0m\u001b[1;33m]\u001b[0m\u001b[1;33m)\u001b[0m\u001b[1;33m.\u001b[0m\u001b[0mvalue_counts\u001b[0m\u001b[1;33m(\u001b[0m\u001b[1;33m)\u001b[0m\u001b[1;33m\u001b[0m\u001b[1;33m\u001b[0m\u001b[0m\n\u001b[0m",
      "\u001b[1;32m~\\anaconda3\\lib\\site-packages\\pandas\\core\\groupby\\groupby.py\u001b[0m in \u001b[0;36m__getattr__\u001b[1;34m(self, attr)\u001b[0m\n\u001b[0;32m    909\u001b[0m             \u001b[1;32mreturn\u001b[0m \u001b[0mself\u001b[0m\u001b[1;33m[\u001b[0m\u001b[0mattr\u001b[0m\u001b[1;33m]\u001b[0m\u001b[1;33m\u001b[0m\u001b[1;33m\u001b[0m\u001b[0m\n\u001b[0;32m    910\u001b[0m \u001b[1;33m\u001b[0m\u001b[0m\n\u001b[1;32m--> 911\u001b[1;33m         raise AttributeError(\n\u001b[0m\u001b[0;32m    912\u001b[0m             \u001b[1;34mf\"'{type(self).__name__}' object has no attribute '{attr}'\"\u001b[0m\u001b[1;33m\u001b[0m\u001b[1;33m\u001b[0m\u001b[0m\n\u001b[0;32m    913\u001b[0m         )\n",
      "\u001b[1;31mAttributeError\u001b[0m: 'DataFrameGroupBy' object has no attribute 'value_counts'"
     ]
    }
   ],
   "source": [
    "customerCheck.groupby(['InPerformance','InPrevious']).value_counts()\n"
   ]
  },
  {
   "cell_type": "markdown",
   "id": "4f58d88a",
   "metadata": {},
   "source": [
    "Create the first model which would predict for non-new customers based on demographic and previous loans data.\n",
    "Create the second model which predict for new customers based on just demographic data."
   ]
  },
  {
   "cell_type": "markdown",
   "id": "e70358c0",
   "metadata": {},
   "source": [
    "### Determining how the dataframes are going to be concatenated."
   ]
  },
  {
   "cell_type": "markdown",
   "id": "2bef9a17",
   "metadata": {},
   "source": [
    "#### Checking the common columns between the data sets"
   ]
  },
  {
   "cell_type": "markdown",
   "id": "5bb58b68",
   "metadata": {},
   "source": [
    "##### customerid"
   ]
  },
  {
   "cell_type": "markdown",
   "id": "2ebd0eea",
   "metadata": {},
   "source": [
    "Performance dataframe has 18183 entries and previous has 4368 entries."
   ]
  },
  {
   "cell_type": "code",
   "execution_count": 19,
   "id": "7c7f4738",
   "metadata": {},
   "outputs": [
    {
     "data": {
      "text/html": [
       "<div>\n",
       "<style scoped>\n",
       "    .dataframe tbody tr th:only-of-type {\n",
       "        vertical-align: middle;\n",
       "    }\n",
       "\n",
       "    .dataframe tbody tr th {\n",
       "        vertical-align: top;\n",
       "    }\n",
       "\n",
       "    .dataframe thead th {\n",
       "        text-align: right;\n",
       "    }\n",
       "</style>\n",
       "<table border=\"1\" class=\"dataframe\">\n",
       "  <thead>\n",
       "    <tr style=\"text-align: right;\">\n",
       "      <th></th>\n",
       "      <th>customerid</th>\n",
       "    </tr>\n",
       "  </thead>\n",
       "  <tbody>\n",
       "    <tr>\n",
       "      <th>0</th>\n",
       "      <td>8a2a81a74ce8c05d014cfb32a0da1049</td>\n",
       "    </tr>\n",
       "    <tr>\n",
       "      <th>1</th>\n",
       "      <td>8a85886e54beabf90154c0a29ae757c0</td>\n",
       "    </tr>\n",
       "    <tr>\n",
       "      <th>2</th>\n",
       "      <td>8a8588f35438fe12015444567666018e</td>\n",
       "    </tr>\n",
       "    <tr>\n",
       "      <th>3</th>\n",
       "      <td>8a85890754145ace015429211b513e16</td>\n",
       "    </tr>\n",
       "    <tr>\n",
       "      <th>4</th>\n",
       "      <td>8a858970548359cc0154883481981866</td>\n",
       "    </tr>\n",
       "    <tr>\n",
       "      <th>...</th>\n",
       "      <td>...</td>\n",
       "    </tr>\n",
       "    <tr>\n",
       "      <th>4363</th>\n",
       "      <td>8a858e6d58b0cc520158beeb14b22a5a</td>\n",
       "    </tr>\n",
       "    <tr>\n",
       "      <th>4364</th>\n",
       "      <td>8a858ee85cf400f5015cf44ab1c42d5c</td>\n",
       "    </tr>\n",
       "    <tr>\n",
       "      <th>4365</th>\n",
       "      <td>8a858f365b2547f3015b284597147c94</td>\n",
       "    </tr>\n",
       "    <tr>\n",
       "      <th>4366</th>\n",
       "      <td>8a858f935ca09667015ca0ee3bc63f51</td>\n",
       "    </tr>\n",
       "    <tr>\n",
       "      <th>4367</th>\n",
       "      <td>8a858fd458639fcc015868eb14b542ad</td>\n",
       "    </tr>\n",
       "  </tbody>\n",
       "</table>\n",
       "<p>4368 rows × 1 columns</p>\n",
       "</div>"
      ],
      "text/plain": [
       "                            customerid\n",
       "0     8a2a81a74ce8c05d014cfb32a0da1049\n",
       "1     8a85886e54beabf90154c0a29ae757c0\n",
       "2     8a8588f35438fe12015444567666018e\n",
       "3     8a85890754145ace015429211b513e16\n",
       "4     8a858970548359cc0154883481981866\n",
       "...                                ...\n",
       "4363  8a858e6d58b0cc520158beeb14b22a5a\n",
       "4364  8a858ee85cf400f5015cf44ab1c42d5c\n",
       "4365  8a858f365b2547f3015b284597147c94\n",
       "4366  8a858f935ca09667015ca0ee3bc63f51\n",
       "4367  8a858fd458639fcc015868eb14b542ad\n",
       "\n",
       "[4368 rows x 1 columns]"
      ]
     },
     "execution_count": 19,
     "metadata": {},
     "output_type": "execute_result"
    }
   ],
   "source": [
    "performanceids = pd.DataFrame(performance['customerid'])\n",
    "performanceids"
   ]
  },
  {
   "cell_type": "code",
   "execution_count": 20,
   "id": "caa63d50",
   "metadata": {},
   "outputs": [
    {
     "ename": "AttributeError",
     "evalue": "'DataFrameGroupBy' object has no attribute 'value_counts'",
     "output_type": "error",
     "traceback": [
      "\u001b[1;31m---------------------------------------------------------------------------\u001b[0m",
      "\u001b[1;31mAttributeError\u001b[0m                            Traceback (most recent call last)",
      "\u001b[1;32mC:\\Users\\HAFEEZ~1\\AppData\\Local\\Temp/ipykernel_20680/244083445.py\u001b[0m in \u001b[0;36m<module>\u001b[1;34m\u001b[0m\n\u001b[1;32m----> 1\u001b[1;33m \u001b[0mperformanceids\u001b[0m\u001b[1;33m.\u001b[0m\u001b[0mgroupby\u001b[0m\u001b[1;33m(\u001b[0m\u001b[1;34m'customerid'\u001b[0m\u001b[1;33m)\u001b[0m\u001b[1;33m.\u001b[0m\u001b[0mvalue_counts\u001b[0m\u001b[1;33m(\u001b[0m\u001b[1;33m)\u001b[0m\u001b[1;33m.\u001b[0m\u001b[0mnlargest\u001b[0m\u001b[1;33m(\u001b[0m\u001b[1;33m)\u001b[0m\u001b[1;33m\u001b[0m\u001b[1;33m\u001b[0m\u001b[0m\n\u001b[0m",
      "\u001b[1;32m~\\anaconda3\\lib\\site-packages\\pandas\\core\\groupby\\groupby.py\u001b[0m in \u001b[0;36m__getattr__\u001b[1;34m(self, attr)\u001b[0m\n\u001b[0;32m    909\u001b[0m             \u001b[1;32mreturn\u001b[0m \u001b[0mself\u001b[0m\u001b[1;33m[\u001b[0m\u001b[0mattr\u001b[0m\u001b[1;33m]\u001b[0m\u001b[1;33m\u001b[0m\u001b[1;33m\u001b[0m\u001b[0m\n\u001b[0;32m    910\u001b[0m \u001b[1;33m\u001b[0m\u001b[0m\n\u001b[1;32m--> 911\u001b[1;33m         raise AttributeError(\n\u001b[0m\u001b[0;32m    912\u001b[0m             \u001b[1;34mf\"'{type(self).__name__}' object has no attribute '{attr}'\"\u001b[0m\u001b[1;33m\u001b[0m\u001b[1;33m\u001b[0m\u001b[0m\n\u001b[0;32m    913\u001b[0m         )\n",
      "\u001b[1;31mAttributeError\u001b[0m: 'DataFrameGroupBy' object has no attribute 'value_counts'"
     ]
    }
   ],
   "source": [
    "performanceids.groupby('customerid').value_counts().nlargest()"
   ]
  },
  {
   "cell_type": "code",
   "execution_count": 21,
   "id": "b50e91aa",
   "metadata": {},
   "outputs": [
    {
     "data": {
      "text/html": [
       "<div>\n",
       "<style scoped>\n",
       "    .dataframe tbody tr th:only-of-type {\n",
       "        vertical-align: middle;\n",
       "    }\n",
       "\n",
       "    .dataframe tbody tr th {\n",
       "        vertical-align: top;\n",
       "    }\n",
       "\n",
       "    .dataframe thead th {\n",
       "        text-align: right;\n",
       "    }\n",
       "</style>\n",
       "<table border=\"1\" class=\"dataframe\">\n",
       "  <thead>\n",
       "    <tr style=\"text-align: right;\">\n",
       "      <th></th>\n",
       "      <th>customerid</th>\n",
       "    </tr>\n",
       "  </thead>\n",
       "  <tbody>\n",
       "    <tr>\n",
       "      <th>0</th>\n",
       "      <td>8a2a81a74ce8c05d014cfb32a0da1049</td>\n",
       "    </tr>\n",
       "    <tr>\n",
       "      <th>1</th>\n",
       "      <td>8a2a81a74ce8c05d014cfb32a0da1049</td>\n",
       "    </tr>\n",
       "    <tr>\n",
       "      <th>2</th>\n",
       "      <td>8a2a81a74ce8c05d014cfb32a0da1049</td>\n",
       "    </tr>\n",
       "    <tr>\n",
       "      <th>3</th>\n",
       "      <td>8a8588f35438fe12015444567666018e</td>\n",
       "    </tr>\n",
       "    <tr>\n",
       "      <th>4</th>\n",
       "      <td>8a85890754145ace015429211b513e16</td>\n",
       "    </tr>\n",
       "    <tr>\n",
       "      <th>...</th>\n",
       "      <td>...</td>\n",
       "    </tr>\n",
       "    <tr>\n",
       "      <th>18178</th>\n",
       "      <td>8a858899538ddb8e0153a2b555421fc5</td>\n",
       "    </tr>\n",
       "    <tr>\n",
       "      <th>18179</th>\n",
       "      <td>8a858899538ddb8e0153a2b555421fc5</td>\n",
       "    </tr>\n",
       "    <tr>\n",
       "      <th>18180</th>\n",
       "      <td>8a858899538ddb8e0153a2b555421fc5</td>\n",
       "    </tr>\n",
       "    <tr>\n",
       "      <th>18181</th>\n",
       "      <td>8a858f0656b7820c0156c92ca3ba436f</td>\n",
       "    </tr>\n",
       "    <tr>\n",
       "      <th>18182</th>\n",
       "      <td>8a858faf5679a838015688de3028143d</td>\n",
       "    </tr>\n",
       "  </tbody>\n",
       "</table>\n",
       "<p>18183 rows × 1 columns</p>\n",
       "</div>"
      ],
      "text/plain": [
       "                             customerid\n",
       "0      8a2a81a74ce8c05d014cfb32a0da1049\n",
       "1      8a2a81a74ce8c05d014cfb32a0da1049\n",
       "2      8a2a81a74ce8c05d014cfb32a0da1049\n",
       "3      8a8588f35438fe12015444567666018e\n",
       "4      8a85890754145ace015429211b513e16\n",
       "...                                 ...\n",
       "18178  8a858899538ddb8e0153a2b555421fc5\n",
       "18179  8a858899538ddb8e0153a2b555421fc5\n",
       "18180  8a858899538ddb8e0153a2b555421fc5\n",
       "18181  8a858f0656b7820c0156c92ca3ba436f\n",
       "18182  8a858faf5679a838015688de3028143d\n",
       "\n",
       "[18183 rows x 1 columns]"
      ]
     },
     "execution_count": 21,
     "metadata": {},
     "output_type": "execute_result"
    }
   ],
   "source": [
    "previousids = pd.DataFrame(previous['customerid'])\n",
    "previousids"
   ]
  },
  {
   "cell_type": "code",
   "execution_count": 22,
   "id": "245810ba",
   "metadata": {},
   "outputs": [
    {
     "ename": "AttributeError",
     "evalue": "'DataFrameGroupBy' object has no attribute 'value_counts'",
     "output_type": "error",
     "traceback": [
      "\u001b[1;31m---------------------------------------------------------------------------\u001b[0m",
      "\u001b[1;31mAttributeError\u001b[0m                            Traceback (most recent call last)",
      "\u001b[1;32mC:\\Users\\HAFEEZ~1\\AppData\\Local\\Temp/ipykernel_20680/4090110149.py\u001b[0m in \u001b[0;36m<module>\u001b[1;34m\u001b[0m\n\u001b[1;32m----> 1\u001b[1;33m \u001b[0mpreviousids\u001b[0m\u001b[1;33m.\u001b[0m\u001b[0mgroupby\u001b[0m\u001b[1;33m(\u001b[0m\u001b[1;34m'customerid'\u001b[0m\u001b[1;33m)\u001b[0m\u001b[1;33m.\u001b[0m\u001b[0mvalue_counts\u001b[0m\u001b[1;33m(\u001b[0m\u001b[1;33m)\u001b[0m\u001b[1;33m.\u001b[0m\u001b[0mnlargest\u001b[0m\u001b[1;33m(\u001b[0m\u001b[1;33m)\u001b[0m\u001b[1;33m\u001b[0m\u001b[1;33m\u001b[0m\u001b[0m\n\u001b[0m",
      "\u001b[1;32m~\\anaconda3\\lib\\site-packages\\pandas\\core\\groupby\\groupby.py\u001b[0m in \u001b[0;36m__getattr__\u001b[1;34m(self, attr)\u001b[0m\n\u001b[0;32m    909\u001b[0m             \u001b[1;32mreturn\u001b[0m \u001b[0mself\u001b[0m\u001b[1;33m[\u001b[0m\u001b[0mattr\u001b[0m\u001b[1;33m]\u001b[0m\u001b[1;33m\u001b[0m\u001b[1;33m\u001b[0m\u001b[0m\n\u001b[0;32m    910\u001b[0m \u001b[1;33m\u001b[0m\u001b[0m\n\u001b[1;32m--> 911\u001b[1;33m         raise AttributeError(\n\u001b[0m\u001b[0;32m    912\u001b[0m             \u001b[1;34mf\"'{type(self).__name__}' object has no attribute '{attr}'\"\u001b[0m\u001b[1;33m\u001b[0m\u001b[1;33m\u001b[0m\u001b[0m\n\u001b[0;32m    913\u001b[0m         )\n",
      "\u001b[1;31mAttributeError\u001b[0m: 'DataFrameGroupBy' object has no attribute 'value_counts'"
     ]
    }
   ],
   "source": [
    "previousids.groupby('customerid').value_counts().nlargest()"
   ]
  },
  {
   "cell_type": "markdown",
   "id": "f7039683",
   "metadata": {},
   "source": [
    "From the analysis above, one can see that the most times a customer appears in the performance data is once, whereas the most times a customer appears in the previous data is 26 times. This means there is a one to many relationship between the two dataframes with previous being on the many side. This means it is more ideal to add the 'performance' dataframe to the previous dataframe."
   ]
  },
  {
   "cell_type": "markdown",
   "id": "f549db45",
   "metadata": {},
   "source": [
    "##### adding the performance dataframe to the previous loans dataframe"
   ]
  },
  {
   "cell_type": "markdown",
   "id": "c60a2f72",
   "metadata": {},
   "source": [
    "Between the two dataframes,there are a number of similar columns. To add the two dataframes together, the column names of the incoming dataframe,'performance', will be changed to be able to distinguish the columns."
   ]
  },
  {
   "cell_type": "code",
   "execution_count": 23,
   "id": "10527f0f",
   "metadata": {},
   "outputs": [
    {
     "data": {
      "text/plain": [
       "Index(['customerid', 'systemloanid', 'loannumber', 'approveddate',\n",
       "       'creationdate', 'loanamount', 'totaldue', 'termdays', 'referredby',\n",
       "       'good_bad_flag'],\n",
       "      dtype='object')"
      ]
     },
     "execution_count": 23,
     "metadata": {},
     "output_type": "execute_result"
    }
   ],
   "source": [
    "performance.columns"
   ]
  },
  {
   "cell_type": "code",
   "execution_count": 24,
   "id": "a2ea0799",
   "metadata": {},
   "outputs": [
    {
     "data": {
      "text/plain": [
       "Index(['customerid', 'systemloanid', 'loannumber', 'approveddate',\n",
       "       'creationdate', 'loanamount', 'totaldue', 'termdays', 'closeddate',\n",
       "       'referredby', 'firstduedate', 'firstrepaiddate'],\n",
       "      dtype='object')"
      ]
     },
     "execution_count": 24,
     "metadata": {},
     "output_type": "execute_result"
    }
   ],
   "source": [
    "previous.columns"
   ]
  },
  {
   "cell_type": "markdown",
   "id": "1c0f7f86",
   "metadata": {},
   "source": [
    "From the cells above, we can see the similar columns: \n",
    "customerid, systemloanid,loannumber,approveddate,creationdate,loanamount,totaldue,termdays and referred by. \n",
    "All of these columns,apart from customerid and systemloanid, will be renamed now.\n",
    "Customerid and systemloanid will not be renamed because they are going to be dropped ahead."
   ]
  },
  {
   "cell_type": "code",
   "execution_count": 25,
   "id": "df7cba89",
   "metadata": {},
   "outputs": [],
   "source": [
    "performance.columns = ['customerid','systemloanid','perf_loannumber','perf_approveddate','perf_creationdate','perf_loanamount','perf_totaldue','perf_termdays','perf_referredby','good_bad_flag']"
   ]
  },
  {
   "cell_type": "code",
   "execution_count": 26,
   "id": "f81d3564",
   "metadata": {},
   "outputs": [
    {
     "data": {
      "text/plain": [
       "Index(['customerid', 'systemloanid', 'perf_loannumber', 'perf_approveddate',\n",
       "       'perf_creationdate', 'perf_loanamount', 'perf_totaldue',\n",
       "       'perf_termdays', 'perf_referredby', 'good_bad_flag'],\n",
       "      dtype='object')"
      ]
     },
     "execution_count": 26,
     "metadata": {},
     "output_type": "execute_result"
    }
   ],
   "source": [
    "performance.columns"
   ]
  },
  {
   "cell_type": "code",
   "execution_count": 27,
   "id": "219b2aae",
   "metadata": {},
   "outputs": [
    {
     "name": "stdout",
     "output_type": "stream",
     "text": [
      "<class 'pandas.core.frame.DataFrame'>\n",
      "RangeIndex: 18183 entries, 0 to 18182\n",
      "Data columns (total 12 columns):\n",
      " #   Column           Non-Null Count  Dtype  \n",
      "---  ------           --------------  -----  \n",
      " 0   customerid       18183 non-null  object \n",
      " 1   systemloanid     18183 non-null  int64  \n",
      " 2   loannumber       18183 non-null  int64  \n",
      " 3   approveddate     18183 non-null  object \n",
      " 4   creationdate     18183 non-null  object \n",
      " 5   loanamount       18183 non-null  float64\n",
      " 6   totaldue         18183 non-null  float64\n",
      " 7   termdays         18183 non-null  int64  \n",
      " 8   closeddate       18183 non-null  object \n",
      " 9   referredby       1026 non-null   object \n",
      " 10  firstduedate     18183 non-null  object \n",
      " 11  firstrepaiddate  18183 non-null  object \n",
      "dtypes: float64(2), int64(3), object(7)\n",
      "memory usage: 1.7+ MB\n"
     ]
    }
   ],
   "source": [
    "previous.info()"
   ]
  },
  {
   "cell_type": "code",
   "execution_count": 28,
   "id": "2950612e",
   "metadata": {},
   "outputs": [],
   "source": [
    "previousCustomers = pd.merge(previous, performance, on='customerid')"
   ]
  },
  {
   "cell_type": "markdown",
   "id": "396ab7bc",
   "metadata": {},
   "source": [
    "## previousCustomers"
   ]
  },
  {
   "cell_type": "code",
   "execution_count": 29,
   "id": "fa663874",
   "metadata": {},
   "outputs": [
    {
     "name": "stdout",
     "output_type": "stream",
     "text": [
      "<class 'pandas.core.frame.DataFrame'>\n",
      "Int64Index: 18183 entries, 0 to 18182\n",
      "Data columns (total 21 columns):\n",
      " #   Column             Non-Null Count  Dtype  \n",
      "---  ------             --------------  -----  \n",
      " 0   customerid         18183 non-null  object \n",
      " 1   systemloanid_x     18183 non-null  int64  \n",
      " 2   loannumber         18183 non-null  int64  \n",
      " 3   approveddate       18183 non-null  object \n",
      " 4   creationdate       18183 non-null  object \n",
      " 5   loanamount         18183 non-null  float64\n",
      " 6   totaldue           18183 non-null  float64\n",
      " 7   termdays           18183 non-null  int64  \n",
      " 8   closeddate         18183 non-null  object \n",
      " 9   referredby         1026 non-null   object \n",
      " 10  firstduedate       18183 non-null  object \n",
      " 11  firstrepaiddate    18183 non-null  object \n",
      " 12  systemloanid_y     18183 non-null  int64  \n",
      " 13  perf_loannumber    18183 non-null  int64  \n",
      " 14  perf_approveddate  18183 non-null  object \n",
      " 15  perf_creationdate  18183 non-null  object \n",
      " 16  perf_loanamount    18183 non-null  float64\n",
      " 17  perf_totaldue      18183 non-null  float64\n",
      " 18  perf_termdays      18183 non-null  int64  \n",
      " 19  perf_referredby    1026 non-null   object \n",
      " 20  good_bad_flag      18183 non-null  object \n",
      "dtypes: float64(4), int64(6), object(11)\n",
      "memory usage: 3.1+ MB\n"
     ]
    }
   ],
   "source": [
    "previousCustomers.info()"
   ]
  },
  {
   "cell_type": "markdown",
   "id": "5aa2e8af",
   "metadata": {},
   "source": [
    "Dropping the systemloanid columns"
   ]
  },
  {
   "cell_type": "code",
   "execution_count": null,
   "id": "f5c46aee",
   "metadata": {},
   "outputs": [],
   "source": [
    "previousCustomers.drop(['systemloanid_x','systemloanid_y'],axis=1,inplace=True)\n",
    "previousCustomers.info()"
   ]
  },
  {
   "cell_type": "code",
   "execution_count": null,
   "id": "27dafe16",
   "metadata": {},
   "outputs": [],
   "source": [
    "previousCustomers = pd.merge(previousCustomers, demographic, on='customerid')"
   ]
  },
  {
   "cell_type": "markdown",
   "id": "9416acbb",
   "metadata": {},
   "source": [
    "##### adding demographic data to previous customers dataframe"
   ]
  },
  {
   "cell_type": "code",
   "execution_count": null,
   "id": "0afb0b24",
   "metadata": {},
   "outputs": [],
   "source": [
    "previousCustomers.info()"
   ]
  },
  {
   "cell_type": "markdown",
   "id": "4c0111c2",
   "metadata": {},
   "source": [
    "##### looking at the data contained in the columns now to determine what columns will be used to train the model"
   ]
  },
  {
   "cell_type": "markdown",
   "id": "d1055f46",
   "metadata": {},
   "source": [
    "*columns containing non-numerical data*"
   ]
  },
  {
   "cell_type": "code",
   "execution_count": null,
   "id": "f95fe640",
   "metadata": {},
   "outputs": [],
   "source": [
    "categorical = [var for var in previousCustomers.columns if previousCustomers[var].dtype=='O']\n",
    "\n",
    "print('There are {} categorical variabes \\n'.format(len(categorical)))\n",
    "\n",
    "print('They are: ', categorical)"
   ]
  },
  {
   "cell_type": "code",
   "execution_count": null,
   "id": "d9b31812",
   "metadata": {},
   "outputs": [],
   "source": [
    "previousCustomers[categorical].head()"
   ]
  },
  {
   "cell_type": "code",
   "execution_count": null,
   "id": "eeedcdd6",
   "metadata": {},
   "outputs": [],
   "source": [
    "#check cardinality of the columns\n",
    "for var in categorical:\n",
    "    print(var, 'contains', len(previousCustomers[var].unique()), 'unique values')"
   ]
  },
  {
   "cell_type": "markdown",
   "id": "6b32c884",
   "metadata": {},
   "source": [
    "approveddate (Date that loan was approved)\n",
    "creationdate (Date that loan application was created)\n",
    "loanamount (Date that loan application was created)\n",
    "totaldue (Total repayment required to settle the loan - this is the capital loan value disbursed +interest and fees) termdays (Term of loan)\n",
    "closeddate (Date that the loan was settled)\n",
    "referredby (customerId of the customer that referred this person - is missing, then not refrerred)\n",
    "firstduedate (Date of first payment due in cases where the term is longer than 30 days. So in the case where the term is 60+ days - then there are multiple monthly payments due - and this dates reflects the date of the first payment)\n",
    "firstrepaiddate (Actual date that he/she paid the first payment as defined above)"
   ]
  },
  {
   "cell_type": "markdown",
   "id": "458f6564",
   "metadata": {},
   "source": [
    "##### customer id column: Primary key used to merge to other data"
   ]
  },
  {
   "cell_type": "markdown",
   "id": "2f3b7aab",
   "metadata": {},
   "source": [
    "customer id column has an averagely high cardinality and is used to uniquely identify the customers. This feature will not be used for model training."
   ]
  },
  {
   "cell_type": "markdown",
   "id": "7ce9caa6",
   "metadata": {},
   "source": [
    "##### approved date column : Date that loan was approved"
   ]
  },
  {
   "cell_type": "markdown",
   "id": "29d7acf5",
   "metadata": {},
   "source": [
    "approved date column has a high cardinality. It will not be used because we don't believe the approval data for a loan holds a significance towards whether a loan may be bad or good."
   ]
  },
  {
   "cell_type": "markdown",
   "id": "98632f87",
   "metadata": {},
   "source": [
    "##### creation date column : Date that loan application was created"
   ]
  },
  {
   "cell_type": "markdown",
   "id": "6236b21f",
   "metadata": {},
   "source": [
    "creation date column has a high cardinality. It will not be selected as feature to train the model because we do not believe the creation date for a loan holds a significance towards whether a loan may be bad or good"
   ]
  },
  {
   "cell_type": "markdown",
   "id": "d662a534",
   "metadata": {},
   "source": [
    "##### closed date column : Date that the loan was settled"
   ]
  },
  {
   "cell_type": "markdown",
   "id": "9c1895eb",
   "metadata": {},
   "source": [
    "closed date column has a high cardinality. Since we have a loan creation date, we can arrive at how long the loan was active until it was settled. This time period can then be used as a new feature to train the model. Let's look more at the closed dates and see if there is a relationship  between the closing dates and whether a loan may be good or bad."
   ]
  },
  {
   "cell_type": "code",
   "execution_count": null,
   "id": "51d3a2c7",
   "metadata": {},
   "outputs": [],
   "source": [
    "closedDates = previousCustomers[['closeddate','good_bad_flag']]\n",
    "closedDates"
   ]
  },
  {
   "cell_type": "markdown",
   "id": "a7a0061a",
   "metadata": {},
   "source": [
    " going to break down the date and individual components, ie year, month and day and time. Then proceed to gain insights into the relationship between date/time and bad/good loans"
   ]
  },
  {
   "cell_type": "code",
   "execution_count": null,
   "id": "e9656bb4",
   "metadata": {},
   "outputs": [],
   "source": [
    "closedDates['closeddate'] = pd.to_datetime(closedDates['closeddate'])"
   ]
  },
  {
   "cell_type": "code",
   "execution_count": null,
   "id": "fad82277",
   "metadata": {},
   "outputs": [],
   "source": [
    "closedDates.info()"
   ]
  },
  {
   "cell_type": "code",
   "execution_count": null,
   "id": "f1675557",
   "metadata": {},
   "outputs": [],
   "source": [
    "closedDates['year'] = closedDates['closeddate'].dt.year\n",
    "closedDates.head()"
   ]
  },
  {
   "cell_type": "code",
   "execution_count": null,
   "id": "90bf581e",
   "metadata": {},
   "outputs": [],
   "source": [
    "closedDates['month'] = closedDates['closeddate'].dt.month\n",
    "closedDates.head()"
   ]
  },
  {
   "cell_type": "code",
   "execution_count": null,
   "id": "9e787dd3",
   "metadata": {},
   "outputs": [],
   "source": [
    "closedDates['day'] = closedDates['closeddate'].dt.day\n",
    "closedDates.head()"
   ]
  },
  {
   "cell_type": "code",
   "execution_count": null,
   "id": "3b706aaf",
   "metadata": {},
   "outputs": [],
   "source": [
    "closedDates['hourOfDay'] = closedDates['closeddate'].dt.hour\n",
    "closedDates.head()"
   ]
  },
  {
   "cell_type": "code",
   "execution_count": null,
   "id": "6eaa6943",
   "metadata": {},
   "outputs": [],
   "source": [
    "closedDates['hourOfDay'].unique()"
   ]
  },
  {
   "cell_type": "markdown",
   "id": "b8f7926c",
   "metadata": {},
   "source": [
    "the hour is recorded in 24 hour clock which is desirable so we can differentiate between the times i.e 3 in the morning and 3 in the evening."
   ]
  },
  {
   "cell_type": "code",
   "execution_count": null,
   "id": "7edba901",
   "metadata": {},
   "outputs": [],
   "source": [
    "year_group = closedDates.groupby(['year'])['good_bad_flag'].value_counts()\n",
    "year_group"
   ]
  },
  {
   "cell_type": "code",
   "execution_count": null,
   "id": "270486e9",
   "metadata": {},
   "outputs": [],
   "source": [
    "\n",
    "#plt.subplot(4,1,1)\n",
    "#yearLook = closedDates[['year', 'good_bad_flag']]\n",
    "closedDates.groupby(['year','good_bad_flag']).size().unstack().plot(kind='bar',stacked=True)\n",
    "plt.xlabel('Years')\n",
    "plt.ylabel('Number of bad/good loans')\n",
    "\n",
    "plt.title('A look at the number of good and bad loans through the years 2016 and 2017')\n",
    "\n",
    "#plt.subplot(4,1,2)\n",
    "#plt.title('A look at the number of good and bad loans throughout the years')\n",
    "\n",
    "f = plt.gcf()\n",
    "f.set_figwidth(5) "
   ]
  },
  {
   "cell_type": "code",
   "execution_count": null,
   "id": "616bf68e",
   "metadata": {},
   "outputs": [],
   "source": [
    "closedDates.groupby(['month','good_bad_flag']).size().unstack().plot(kind='bar',stacked=True,rot=0)\n",
    "plt.xlabel('Months of the year')\n",
    "plt.ylabel('Number of bad/good loans')\n",
    "plt.title('A look at the number of good and bad loans through the months of the year')\n",
    "\n",
    "f = plt.gcf()\n",
    "f.set_figwidth(5) "
   ]
  },
  {
   "cell_type": "code",
   "execution_count": null,
   "id": "aadc6862",
   "metadata": {},
   "outputs": [],
   "source": [
    "closedDates.groupby(['day','good_bad_flag']).size().unstack().plot(kind='bar',stacked=True,rot=0)\n",
    "plt.xlabel('Months of the year')\n",
    "plt.ylabel('Number of bad/good loans')\n",
    "plt.title('A look at the number of good and bad loans through the days of a month')\n",
    "\n",
    "f = plt.gcf()\n",
    "f.set_figwidth(15) "
   ]
  },
  {
   "cell_type": "code",
   "execution_count": null,
   "id": "b94a838a",
   "metadata": {},
   "outputs": [],
   "source": [
    "plt.figure(figsize=(15,30))\n",
    "closedDates.groupby(['hourOfDay','good_bad_flag']).size().unstack().plot(kind='bar',stacked=True)\n",
    "plt.xlabel('Years')\n",
    "plt.ylabel('Number of bad/good loans')\n",
    "\n",
    "plt.title('A look at the number of good and bad loans through the days of a month')\n",
    "\n",
    "f = plt.gcf()\n",
    "f.set_figwidth(15) "
   ]
  },
  {
   "cell_type": "markdown",
   "id": "ecdbff61",
   "metadata": {},
   "source": [
    "I do not think that the year serves as a significant feature to train this model and therefore it will not be used going forward. The months, day and hour of the day serve as good features to use to train this model."
   ]
  },
  {
   "cell_type": "markdown",
   "id": "5448b1eb",
   "metadata": {},
   "source": [
    "Let's also look at the duration of the lifetime of the loan i.e from when it was created to when it was fully paid back. "
   ]
  },
  {
   "cell_type": "code",
   "execution_count": null,
   "id": "20af3729",
   "metadata": {},
   "outputs": [],
   "source": [
    "previousCustomers['closeddate'] = pd.to_datetime(previousCustomers['closeddate'])\n",
    "previousCustomers['creationdate'] = pd.to_datetime(previousCustomers['creationdate'])"
   ]
  },
  {
   "cell_type": "code",
   "execution_count": null,
   "id": "28c5b8cf",
   "metadata": {},
   "outputs": [],
   "source": [
    "previousCustomers.info()"
   ]
  },
  {
   "cell_type": "code",
   "execution_count": null,
   "id": "df7bb1d9",
   "metadata": {},
   "outputs": [],
   "source": [
    "previousCustomers['loanlifewithdelta'] = ((previousCustomers.closeddate - previousCustomers.creationdate)/np.timedelta64(1, 'D'))\n",
    "previousCustomers['loanlifenodelta'] = previousCustomers.closeddate - previousCustomers.creationdate\n",
    "previousCustomers.head()"
   ]
  },
  {
   "cell_type": "markdown",
   "id": "a551db74",
   "metadata": {},
   "source": [
    "We will use the loanlifewithdelta column as a new feature to train our model with"
   ]
  },
  {
   "cell_type": "code",
   "execution_count": null,
   "id": "3fa31daf",
   "metadata": {},
   "outputs": [],
   "source": [
    "previousCustomers.drop(['loanlifenodelta'],axis=1, inplace=True)"
   ]
  },
  {
   "cell_type": "markdown",
   "id": "029314c0",
   "metadata": {},
   "source": [
    "##### referredby column"
   ]
  },
  {
   "cell_type": "code",
   "execution_count": null,
   "id": "976521b2",
   "metadata": {},
   "outputs": [],
   "source": [
    "previousCustomers['referredby'].isnull().sum()"
   ]
  },
  {
   "cell_type": "code",
   "execution_count": null,
   "id": "3a7dc55f",
   "metadata": {},
   "outputs": [],
   "source": [
    "len(previousCustomers['referredby'].unique())"
   ]
  },
  {
   "cell_type": "code",
   "execution_count": null,
   "id": "e2ed2336",
   "metadata": {},
   "outputs": [],
   "source": [
    "previousCustomers['referredby'].unique()"
   ]
  },
  {
   "cell_type": "markdown",
   "id": "9317ec78",
   "metadata": {},
   "source": [
    "The referredby column has a high cardinality and the column value doesn't particularly give any relevance to the model. The details of the referee may be useful though and so will be considered."
   ]
  },
  {
   "cell_type": "markdown",
   "id": "e5bf921f",
   "metadata": {},
   "source": [
    "##### first_due_date and first_repaid_date columns"
   ]
  },
  {
   "cell_type": "markdown",
   "id": "67a30919",
   "metadata": {},
   "source": [
    "This columns individually don't provide significant features but when used together might prove to be more useful.\n",
    "The difference between the two columns can tell us if a customer was prompt on making their payments."
   ]
  },
  {
   "cell_type": "code",
   "execution_count": null,
   "id": "bdc47bbd",
   "metadata": {},
   "outputs": [],
   "source": [
    "loanrepayment = previousCustomers[['firstduedate','firstrepaiddate','good_bad_flag']]"
   ]
  },
  {
   "cell_type": "code",
   "execution_count": null,
   "id": "a0026003",
   "metadata": {},
   "outputs": [],
   "source": [
    "loanrepayment.head()"
   ]
  },
  {
   "cell_type": "code",
   "execution_count": null,
   "id": "9d94b073",
   "metadata": {},
   "outputs": [],
   "source": [
    "loanrepayment['firstduedate'] = pd.to_datetime(loanrepayment['firstduedate'])\n",
    "loanrepayment['firstrepaiddate'] = pd.to_datetime(loanrepayment['firstrepaiddate'])"
   ]
  },
  {
   "cell_type": "code",
   "execution_count": null,
   "id": "53ab0968",
   "metadata": {},
   "outputs": [],
   "source": [
    "loanrepayment['firstrepaymentlapsewithdelta'] = ((loanrepayment.firstduedate - loanrepayment.firstrepaiddate)/np.timedelta64(1, 'D'))\n",
    "loanrepayment['firstrepaymentlapsewithnodelta'] = loanrepayment.firstduedate - loanrepayment.firstrepaiddate\n",
    "loanrepayment.head()"
   ]
  },
  {
   "cell_type": "code",
   "execution_count": null,
   "id": "4b009e48",
   "metadata": {},
   "outputs": [],
   "source": [
    "##thinking of having a column showing the days and another column saying whether it was before or after the due date"
   ]
  },
  {
   "cell_type": "markdown",
   "id": "2f0c912b",
   "metadata": {},
   "source": [
    "The next cells are looking at the data from the performance dataframe. Those columns that were also present in the previous dataframe and were dropped as features above, will also be dropped as features below. "
   ]
  },
  {
   "cell_type": "code",
   "execution_count": null,
   "id": "06322cf8",
   "metadata": {},
   "outputs": [],
   "source": [
    "previousCustomers.info()"
   ]
  },
  {
   "cell_type": "code",
   "execution_count": null,
   "id": "2f7b60d2",
   "metadata": {},
   "outputs": [],
   "source": [
    "len(previousCustomers['perf_loannumber'].unique())"
   ]
  },
  {
   "cell_type": "code",
   "execution_count": null,
   "id": "9beb1399",
   "metadata": {},
   "outputs": [],
   "source": [
    "previousCustomers['perf_loannumber'].unique()"
   ]
  },
  {
   "cell_type": "code",
   "execution_count": null,
   "id": "a60ddcdc",
   "metadata": {},
   "outputs": [],
   "source": [
    "testperf = pd.read_csv('testperf.csv')\n",
    "testperf['loannumber'].unique()"
   ]
  },
  {
   "cell_type": "code",
   "execution_count": null,
   "id": "51c10193",
   "metadata": {},
   "outputs": [],
   "source": [
    "len(testperf['loannumber'].unique())"
   ]
  },
  {
   "cell_type": "markdown",
   "id": "651356b9",
   "metadata": {},
   "source": [
    "##### stopped on trying to ascertain whether this feature can be used for model training."
   ]
  },
  {
   "cell_type": "code",
   "execution_count": null,
   "id": "c144fc99",
   "metadata": {},
   "outputs": [],
   "source": []
  }
 ],
 "metadata": {
  "kernelspec": {
   "display_name": "Python 3 (ipykernel)",
   "language": "python",
   "name": "python3"
  },
  "language_info": {
   "codemirror_mode": {
    "name": "ipython",
    "version": 3
   },
   "file_extension": ".py",
   "mimetype": "text/x-python",
   "name": "python",
   "nbconvert_exporter": "python",
   "pygments_lexer": "ipython3",
   "version": "3.9.7"
  }
 },
 "nbformat": 4,
 "nbformat_minor": 5
}
